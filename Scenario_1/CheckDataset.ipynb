{
 "cells": [
  {
   "cell_type": "code",
   "execution_count": 2,
   "id": "e0c975dd",
   "metadata": {},
   "outputs": [],
   "source": [
    "import csv\n",
    "from datetime import datetime\n",
    "import pandas as pd\n",
    "import matplotlib.pyplot as plt\n",
    "import numpy as np\n",
    "import datetime as dt\n",
    "import seaborn as sns\n",
    "filedataset  = 'scenario01-1000000-4000.csv'\n",
    "#filedatasetb = 'scenario01-1000000-12000.csv'\n",
    "#filedatasetc = 'scenario01-1000000-13000.csv'\n",
    "#filedatasetd = 'scenario01-1000000-14000.csv'\n",
    "#filedatasete = 'scenario01-1000000-15000.csv'\n",
    "#filedatasetf = 'scenario01-1000000-16000.csv'\n",
    "dataframe = pd.read_csv(filedataset)\n",
    "#dataframeb = pd.read_csv(filedatasetb)\n",
    "#dataframec = pd.read_csv(filedatasetc)\n",
    "#dataframed = pd.read_csv(filedatasetd)\n",
    "#dataframee = pd.read_csv(filedatasete)\n",
    "#dataframef = pd.read_csv(filedatasetf)"
   ]
  },
  {
   "cell_type": "code",
   "execution_count": 3,
   "id": "0ce07b1d",
   "metadata": {},
   "outputs": [
    {
     "data": {
      "text/html": [
       "<div>\n",
       "<style scoped>\n",
       "    .dataframe tbody tr th:only-of-type {\n",
       "        vertical-align: middle;\n",
       "    }\n",
       "\n",
       "    .dataframe tbody tr th {\n",
       "        vertical-align: top;\n",
       "    }\n",
       "\n",
       "    .dataframe thead th {\n",
       "        text-align: right;\n",
       "    }\n",
       "</style>\n",
       "<table border=\"1\" class=\"dataframe\">\n",
       "  <thead>\n",
       "    <tr style=\"text-align: right;\">\n",
       "      <th></th>\n",
       "      <th>pods</th>\n",
       "      <th>file_descriptors</th>\n",
       "      <th>receive_packets</th>\n",
       "      <th>transmit_packets</th>\n",
       "      <th>dropped_packets</th>\n",
       "      <th>cpu_usage_seconds</th>\n",
       "      <th>cpu_throttled_seconds</th>\n",
       "      <th>memory_working_bytes</th>\n",
       "      <th>memory_usage_bytes</th>\n",
       "      <th>load</th>\n",
       "      <th>date</th>\n",
       "    </tr>\n",
       "  </thead>\n",
       "  <tbody>\n",
       "    <tr>\n",
       "      <th>0</th>\n",
       "      <td>10.0</td>\n",
       "      <td>0.0</td>\n",
       "      <td>0.4</td>\n",
       "      <td>0.0</td>\n",
       "      <td>0.0</td>\n",
       "      <td>0.000205</td>\n",
       "      <td>0.0</td>\n",
       "      <td>59491.7</td>\n",
       "      <td>20.0</td>\n",
       "      <td>4000</td>\n",
       "      <td>2022-03-01 15:19:41.804078</td>\n",
       "    </tr>\n",
       "    <tr>\n",
       "      <th>1</th>\n",
       "      <td>10.0</td>\n",
       "      <td>0.0</td>\n",
       "      <td>0.4</td>\n",
       "      <td>0.0</td>\n",
       "      <td>0.0</td>\n",
       "      <td>0.000205</td>\n",
       "      <td>0.0</td>\n",
       "      <td>59509.0</td>\n",
       "      <td>20.0</td>\n",
       "      <td>4000</td>\n",
       "      <td>2022-03-01 15:19:41.846411</td>\n",
       "    </tr>\n",
       "    <tr>\n",
       "      <th>2</th>\n",
       "      <td>10.0</td>\n",
       "      <td>0.0</td>\n",
       "      <td>0.4</td>\n",
       "      <td>0.0</td>\n",
       "      <td>0.0</td>\n",
       "      <td>0.000205</td>\n",
       "      <td>0.0</td>\n",
       "      <td>59526.7</td>\n",
       "      <td>20.0</td>\n",
       "      <td>4000</td>\n",
       "      <td>2022-03-01 15:19:41.893022</td>\n",
       "    </tr>\n",
       "    <tr>\n",
       "      <th>3</th>\n",
       "      <td>10.0</td>\n",
       "      <td>0.0</td>\n",
       "      <td>0.4</td>\n",
       "      <td>0.0</td>\n",
       "      <td>0.0</td>\n",
       "      <td>0.000207</td>\n",
       "      <td>0.0</td>\n",
       "      <td>59694.1</td>\n",
       "      <td>20.0</td>\n",
       "      <td>4000</td>\n",
       "      <td>2022-03-01 15:19:42.383552</td>\n",
       "    </tr>\n",
       "    <tr>\n",
       "      <th>4</th>\n",
       "      <td>10.0</td>\n",
       "      <td>0.0</td>\n",
       "      <td>0.4</td>\n",
       "      <td>0.0</td>\n",
       "      <td>0.0</td>\n",
       "      <td>0.000207</td>\n",
       "      <td>0.0</td>\n",
       "      <td>59779.1</td>\n",
       "      <td>20.0</td>\n",
       "      <td>4000</td>\n",
       "      <td>2022-03-01 15:19:42.682769</td>\n",
       "    </tr>\n",
       "  </tbody>\n",
       "</table>\n",
       "</div>"
      ],
      "text/plain": [
       "   pods  file_descriptors  receive_packets  transmit_packets  dropped_packets  \\\n",
       "0  10.0               0.0              0.4               0.0              0.0   \n",
       "1  10.0               0.0              0.4               0.0              0.0   \n",
       "2  10.0               0.0              0.4               0.0              0.0   \n",
       "3  10.0               0.0              0.4               0.0              0.0   \n",
       "4  10.0               0.0              0.4               0.0              0.0   \n",
       "\n",
       "   cpu_usage_seconds  cpu_throttled_seconds  memory_working_bytes  \\\n",
       "0           0.000205                    0.0               59491.7   \n",
       "1           0.000205                    0.0               59509.0   \n",
       "2           0.000205                    0.0               59526.7   \n",
       "3           0.000207                    0.0               59694.1   \n",
       "4           0.000207                    0.0               59779.1   \n",
       "\n",
       "   memory_usage_bytes  load                        date  \n",
       "0                20.0  4000  2022-03-01 15:19:41.804078  \n",
       "1                20.0  4000  2022-03-01 15:19:41.846411  \n",
       "2                20.0  4000  2022-03-01 15:19:41.893022  \n",
       "3                20.0  4000  2022-03-01 15:19:42.383552  \n",
       "4                20.0  4000  2022-03-01 15:19:42.682769  "
      ]
     },
     "execution_count": 3,
     "metadata": {},
     "output_type": "execute_result"
    }
   ],
   "source": [
    "dataframe.head()"
   ]
  },
  {
   "cell_type": "code",
   "execution_count": 4,
   "id": "32fccef7",
   "metadata": {},
   "outputs": [],
   "source": [
    "#numberpods = dataframe['pods'][0]\n",
    "#concurrency = dataframe['load'][0]"
   ]
  },
  {
   "cell_type": "code",
   "execution_count": 6,
   "id": "1d20ca9f",
   "metadata": {},
   "outputs": [
    {
     "data": {
      "image/png": "[encoded data removed]",
      "text/plain": [
       "<Figure size 1440x864 with 1 Axes>"
      ]
     },
     "metadata": {
      "needs_background": "light"
     },
     "output_type": "display_data"
    }
   ],
   "source": [
    "plt.figure(figsize=(20,12))\n",
    "plt.title(\"cpu_usage_seconds\")\n",
    "plt.xticks(rotation = 90)\n",
    "plt.plot(dataframe.cpu_usage_seconds, c = \"cyan\", marker = \"o\")\n",
    "#plt.plot(dataframeb.cpu_usage_seconds, c = \"green\", marker = \".\")\n",
    "#plt.plot(dataframec.cpu_usage_seconds, c = \"red\", marker = \"+\")\n",
    "#plt.plot(dataframed.cpu_usage_seconds, c = \"yellow\", marker = \"+\")\n",
    "#plt.plot(dataframee.cpu_usage_seconds, c = \"black\", marker = \"+\")\n",
    "#plt.plot(dataframef.cpu_usage_seconds, c = \"pink\", marker = \"o\")\n",
    "plt.show()"
   ]
  },
  {
   "cell_type": "code",
   "execution_count": null,
   "id": "186edc09",
   "metadata": {},
   "outputs": [],
   "source": []
  },
  {
   "cell_type": "code",
   "execution_count": null,
   "id": "48956579",
   "metadata": {},
   "outputs": [],
   "source": []
  }
 ],
 "metadata": {
  "kernelspec": {
   "display_name": "otumba",
   "language": "python",
   "name": "otumba"
  },
  "language_info": {
   "codemirror_mode": {
    "name": "ipython",
    "version": 3
   },
   "file_extension": ".py",
   "mimetype": "text/x-python",
   "name": "python",
   "nbconvert_exporter": "python",
   "pygments_lexer": "ipython3",
   "version": "3.6.13"
  }
 },
 "nbformat": 4,
 "nbformat_minor": 5
}
