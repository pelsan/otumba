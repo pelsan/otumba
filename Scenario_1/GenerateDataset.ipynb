{
 "cells": [
  {
   "cell_type": "markdown",
   "metadata": {},
   "source": [
    "## Scenario 1, Simple Http Server\n",
    "### Making the dataset, thats is a load on a pod named \"httpdia\".\n",
    "prerequisites:  \n",
    "\n",
    "minikube start\n",
    "\n",
    "https://httpd.apache.org/docs/2.4/programs/ab.html"
   ]
  },
  {
   "cell_type": "code",
   "execution_count": 1,
   "metadata": {},
   "outputs": [],
   "source": [
    "import time\n",
    "from otumba.utils import manage_pods\n",
    "from otumba.utils import get_pod_metrics_scenario_1\n",
    "from otumba.GeneralPod import Pod"
   ]
  },
  {
   "cell_type": "code",
   "execution_count": 1,
   "metadata": {},
   "outputs": [],
   "source": [
    "ServerPrometheus = \"http://192.168.49.2:30000/\"\n",
    "numberpods = 10\n",
    "request = 1000000\n",
    "concurrency = 4000\n",
    "host = \"http://httpdia.default.svc.cluster.local/\"\n",
    "filedataset = \"dataset.csv\"\n",
    "filedataset = \"scenario01-\"+str(request)+\"-\"+str(concurrency)+\".csv\"\n",
    "requestpod = \"load-generator-jupyter-c\"\n",
    "requestedpod = \"httpdia\""
   ]
  },
  {
   "cell_type": "markdown",
   "metadata": {},
   "source": [
    "### filedataset"
   ]
  },
  {
   "cell_type": "code",
   "execution_count": 2,
   "metadata": {},
   "outputs": [],
   "source": [
    "lapso=\"5m\"\n",
    "namespace=\"default\""
   ]
  },
  {
   "cell_type": "code",
   "execution_count": 4,
   "metadata": {},
   "outputs": [],
   "source": [
    "respuesta= get_pod_metrics_scenario_1 (server = ServerPrometheus, lapso = lapso, \n",
    "                                       namespace = namespace, podname = requestedpod, \n",
    "                                        requestpodname = requestpod)"
   ]
  },
  {
   "cell_type": "code",
   "execution_count": 5,
   "metadata": {},
   "outputs": [
    {
     "name": "stdout",
     "output_type": "stream",
     "text": [
      "{'pods': '10.0', 'file_descriptors': '0.0', 'receive_packets': '0.0', 'transmit_packets': '0.0', 'dropped_packets': '0.0', 'cpu_usage_seconds': '0.0006556405', 'cpu_throttled_seconds': '0.0000000000', 'memory_working_bytes': '0.0', 'memory_usage_bytes': '20.0', 'load': '1000', 'date': datetime.datetime(2021, 9, 6, 18, 22, 53, 65385)}\n"
     ]
    }
   ],
   "source": [
    "from datetime import datetime\n",
    "import csv\n",
    "respuesta[\"load\"] = '1000'\n",
    "respuesta[\"date\"] = datetime.now()\n",
    "header = list(respuesta.keys())\n",
    "print(respuesta)"
   ]
  },
  {
   "cell_type": "code",
   "execution_count": 6,
   "metadata": {},
   "outputs": [],
   "source": [
    "f = open(filedataset, \"w\", newline='')\n",
    "writer = csv.DictWriter(f, fieldnames = header)\n",
    "writer.writeheader()"
   ]
  },
  {
   "cell_type": "code",
   "execution_count": 7,
   "metadata": {},
   "outputs": [
    {
     "name": "stdout",
     "output_type": "stream",
     "text": [
      "Pod Exist, updating replicas\n"
     ]
    }
   ],
   "source": [
    "manage_pods(numberpods, \"httpd\", requestedpod, \"500m\", \"200m\", \"default\")"
   ]
  },
  {
   "cell_type": "code",
   "execution_count": 8,
   "metadata": {},
   "outputs": [],
   "source": [
    "loadpod = Pod(namepod = requestpod, \n",
    "              dockerimage = \"httpd\", namespace = \"default\", shell = \"/bin/sh\")"
   ]
  },
  {
   "cell_type": "code",
   "execution_count": 9,
   "metadata": {},
   "outputs": [],
   "source": [
    "loadpod.create()"
   ]
  },
  {
   "cell_type": "code",
   "execution_count": 10,
   "metadata": {},
   "outputs": [],
   "source": [
    "carga = \"ab -n \"+str(request)+\" -c \"+str(concurrency)+\" \"+host"
   ]
  },
  {
   "cell_type": "code",
   "execution_count": 11,
   "metadata": {},
   "outputs": [
    {
     "name": "stdout",
     "output_type": "stream",
     "text": [
      "ab -n 1000000 -c 4000 http://httpdia.default.svc.cluster.local/\n",
      "STDERR: Completed 100000 requests\n",
      "\n",
      "STDERR: Completed 200000 requests\n",
      "\n",
      "STDERR: Completed 300000 requests\n",
      "\n",
      "STDERR: Completed 400000 requests\n",
      "\n",
      "STDERR: Completed 500000 requests\n",
      "\n",
      "STDERR: Completed 600000 requests\n",
      "\n",
      "STDERR: Completed 700000 requests\n",
      "\n",
      "STDERR: Completed 800000 requests\n",
      "\n",
      "STDERR: Completed 900000 requests\n",
      "\n",
      "STDERR: Completed 1000000 requests\n",
      "Finished 1000000 requests\n",
      "\n"
     ]
    }
   ],
   "source": [
    "loadpod.exec_command(carga)\n",
    "countstdout=0\n",
    "while loadpod.resp.is_open():\n",
    "    resp_stdout=\"\"\n",
    "    resp_stderr=\"\"\n",
    "    longitud =0\n",
    "    respuesta = get_pod_metrics_scenario_1 (server = ServerPrometheus, lapso = lapso, \n",
    "                                       namespace = namespace, podname = requestedpod, \n",
    "                                        requestpodname = requestpod)\n",
    "    respuesta[\"load\"] = str(concurrency)\n",
    "    respuesta[\"date\"] = datetime.now()\n",
    "    writer.writerow(respuesta)\n",
    "    if loadpod.resp.peek_stdout():\n",
    "        resp_stdout= loadpod.resp.read_stdout()\n",
    "        longitud= len(resp_stdout)\n",
    "        countstdout= countstdout+1\n",
    "    if loadpod.resp.peek_stderr():\n",
    "        resp_stderr=loadpod.resp.read_stderr()\n",
    "        print(\"STDERR: %s\" % resp_stderr)\n",
    "        inicioerror = resp_stderr.find(\"Completed\")\n",
    "        if inicioerror == -1:\n",
    "            failedrequest=resp_stderr\n",
    "            break\n",
    "    if  (longitud >300):\n",
    "        inicio = resp_stdout.find(\"Failed requests\")\n",
    "        if (inicio > -1):\n",
    "            fin = resp_stdout.find(\"Total transferred\")\n",
    "            failedrequest=resp_stdout[inicio+16:fin-1]\n",
    "        finalresponse = resp_stdout.split(\"\\n\")\n",
    "    if countstdout==2:\n",
    "        break\n",
    "    #loadpod.resp.update(timeout=1)\n",
    "respuesta =  failedrequest.strip()\n",
    "f.close()"
   ]
  },
  {
   "cell_type": "code",
   "execution_count": 12,
   "metadata": {},
   "outputs": [],
   "source": [
    "import csv\n",
    "from datetime import datetime\n",
    "import pandas as pd\n",
    "import matplotlib.pyplot as plt\n",
    "import numpy as np\n",
    "import datetime as dt\n",
    "import seaborn as sns\n",
    "\n",
    "dataframe = pd.read_csv(filedataset)"
   ]
  },
  {
   "cell_type": "code",
   "execution_count": 13,
   "metadata": {},
   "outputs": [
    {
     "data": {
      "image/png": "[encoded data removed]",
      "text/plain": [
       "<Figure size 1440x864 with 1 Axes>"
      ]
     },
     "metadata": {
      "needs_background": "light"
     },
     "output_type": "display_data"
    }
   ],
   "source": [
    "plt.figure(figsize=(20,12))\n",
    "plt.title(\"cpu_usage_seconds, pods =\"+str(numberpods)+\" concurrency = \"+ str(concurrency) )\n",
    "plt.xticks(rotation = 90)\n",
    "plt.plot(dataframe.dropped_packets, c = \"cyan\", marker = \"o\")\n",
    "#plt.plot(dataframe.memory_usage_bytes, c = \"green\", marker = \"o\")\n",
    "plt.show()"
   ]
  },
  {
   "cell_type": "code",
   "execution_count": null,
   "metadata": {},
   "outputs": [],
   "source": []
  }
 ],
 "metadata": {
  "kernelspec": {
   "display_name": "Python 3",
   "language": "python",
   "name": "python3"
  },
  "language_info": {
   "codemirror_mode": {
    "name": "ipython",
    "version": 3
   },
   "file_extension": ".py",
   "mimetype": "text/x-python",
   "name": "python",
   "nbconvert_exporter": "python",
   "pygments_lexer": "ipython3",
   "version": "3.8.8"
  }
 },
 "nbformat": 4,
 "nbformat_minor": 4
}
