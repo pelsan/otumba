{
 "cells": [
  {
   "cell_type": "markdown",
   "metadata": {},
   "source": [
    "## Making the dataset, thats is a load on a pod named \"httpdia\".\n",
    "\n",
    "\n",
    "https://httpd.apache.org/docs/2.4/programs/ab.html"
   ]
  },
  {
   "cell_type": "code",
   "execution_count": 16,
   "metadata": {},
   "outputs": [],
   "source": [
    "import time\n",
    "from otumba.utils import manage_pods\n",
    "from otumba.utils import get_pod_metrics_scenario_1\n",
    "from GeneralPod import Pod"
   ]
  },
  {
   "cell_type": "code",
   "execution_count": 17,
   "metadata": {},
   "outputs": [],
   "source": [
    "ServidorPrometheus = \"http://192.168.49.2:30000/\""
   ]
  },
  {
   "cell_type": "code",
   "execution_count": 18,
   "metadata": {},
   "outputs": [],
   "source": [
    "lapso=\"10m\"\n",
    "namespace=\"default\"\n",
    "timesleep = 1"
   ]
  },
  {
   "cell_type": "code",
   "execution_count": 19,
   "metadata": {},
   "outputs": [],
   "source": [
    "respuesta = get_pod_metrics_scenario_1 (server = ServidorPrometheus, lapso = lapso, \n",
    "                                       namespace = namespace, podname = \"httpdia\", \n",
    "                                        requestpodname = \"load-generator-jupyter-c\")"
   ]
  },
  {
   "cell_type": "code",
   "execution_count": 20,
   "metadata": {},
   "outputs": [
    {
     "name": "stdout",
     "output_type": "stream",
     "text": [
      "{'pods': '5.0', 'file_descriptors': '14.5', 'receive_packets': '1456.4', 'transmit_packets': '1071.6', 'dropped_packets': '16.7', 'cpu_usage_seconds': '0.0764003339', 'cpu_throttled_seconds': '0.2494602084', 'memory_working_bytes': '3250762.4', 'memory_usage_bytes': '20.0'}\n"
     ]
    }
   ],
   "source": [
    "print(respuesta)"
   ]
  },
  {
   "cell_type": "code",
   "execution_count": 21,
   "metadata": {},
   "outputs": [
    {
     "name": "stdout",
     "output_type": "stream",
     "text": [
      "Pod Exist, updating replicas\n"
     ]
    }
   ],
   "source": [
    "manage_pods(5, \"httpd\", \"httpdia\", \"500m\", \"200m\", \"default\")"
   ]
  },
  {
   "cell_type": "code",
   "execution_count": 8,
   "metadata": {},
   "outputs": [
    {
     "name": "stdout",
     "output_type": "stream",
     "text": [
      "['pods', 'file_descriptors', 'receive_packets', 'transmit_packets', 'dropped_packets', 'cpu_usage_seconds', 'cpu_throttled_seconds', 'memory_working_bytes', 'memory_usage_bytes', 'carga', 'fecha']\n",
      "{'pods': '10.0', 'file_descriptors': '11.6', 'receive_packets': '734.0', 'transmit_packets': '539.5', 'dropped_packets': '6.7', 'cpu_usage_seconds': '0.0384423253', 'cpu_throttled_seconds': '0.0772288956', 'memory_working_bytes': '2510955.8', 'memory_usage_bytes': '20.0', 'carga': '1000', 'fecha': datetime.datetime(2021, 7, 16, 19, 49, 59, 12591)}\n"
     ]
    }
   ],
   "source": [
    "from datetime import datetime\n",
    "import csv\n",
    "respuesta[\"carga\"] = '1000'\n",
    "respuesta[\"fecha\"] = datetime.now()\n",
    "header = list(respuesta.keys())\n",
    "print(header)\n",
    "print(respuesta)"
   ]
  },
  {
   "cell_type": "code",
   "execution_count": 9,
   "metadata": {},
   "outputs": [],
   "source": [
    "contador = 0\n",
    "f = open(\"cargapod.csv\", \"w\", newline='')\n",
    "writer = csv.DictWriter(f, fieldnames = header)\n",
    "writer.writeheader()\n",
    "numberpods = 10\n",
    "request = 50000\n",
    "concurrency = 10000.0\n",
    "host=\"http://httpdia.default.svc.cluster.local/\""
   ]
  },
  {
   "cell_type": "code",
   "execution_count": 10,
   "metadata": {},
   "outputs": [],
   "source": [
    "loadpod = Pod(namepod = \"load-generator-jupyter-c\", \n",
    "              dockerimage = \"httpd\", namespace = \"default\", shell = \"/bin/sh\")"
   ]
  },
  {
   "cell_type": "code",
   "execution_count": 11,
   "metadata": {},
   "outputs": [],
   "source": [
    "loadpod.create()"
   ]
  },
  {
   "cell_type": "code",
   "execution_count": 12,
   "metadata": {},
   "outputs": [],
   "source": [
    "carga = \"ab -n \"+str(request)+\" -c \"+str(concurrency)+\" \"+host"
   ]
  },
  {
   "cell_type": "code",
   "execution_count": 13,
   "metadata": {},
   "outputs": [
    {
     "name": "stdout",
     "output_type": "stream",
     "text": [
      "ab -n 50000 -c 10000.0 http://httpdia.default.svc.cluster.local/\n"
     ]
    }
   ],
   "source": [
    "loadpod.exec_command(carga)"
   ]
  },
  {
   "cell_type": "code",
   "execution_count": 14,
   "metadata": {},
   "outputs": [],
   "source": [
    "countstdout=0"
   ]
  },
  {
   "cell_type": "code",
   "execution_count": 15,
   "metadata": {},
   "outputs": [
    {
     "name": "stdout",
     "output_type": "stream",
     "text": [
      "Escritura:\n",
      "{'pods': '10.0', 'file_descriptors': '11.6', 'receive_packets': '728.8', 'transmit_packets': '535.7', 'dropped_packets': '6.7', 'cpu_usage_seconds': '0.0381785227', 'cpu_throttled_seconds': '0.0768308521', 'memory_working_bytes': '2499042.3', 'memory_usage_bytes': '20.0', 'carga': '10000.0', 'fecha': datetime.datetime(2021, 7, 16, 19, 50, 3, 298266)}\n",
      "STDERR: Completed 5000 requests\n",
      "\n",
      "Escritura:\n",
      "{'pods': '10.0', 'file_descriptors': '11.6', 'receive_packets': '728.6', 'transmit_packets': '535.6', 'dropped_packets': '6.7', 'cpu_usage_seconds': '0.0382321777', 'cpu_throttled_seconds': '0.0769253577', 'memory_working_bytes': '2500418.2', 'memory_usage_bytes': '20.0', 'carga': '10000.0', 'fecha': datetime.datetime(2021, 7, 16, 19, 50, 4, 188204)}\n",
      "STDERR: Completed 10000 requests\n",
      "\n",
      "Escritura:\n",
      "{'pods': '10.0', 'file_descriptors': '11.6', 'receive_packets': '730.7', 'transmit_packets': '537.1', 'dropped_packets': '6.7', 'cpu_usage_seconds': '0.0382313946', 'cpu_throttled_seconds': '0.0769212701', 'memory_working_bytes': '2500052.9', 'memory_usage_bytes': '20.0', 'carga': '10000.0', 'fecha': datetime.datetime(2021, 7, 16, 19, 50, 4, 601624)}\n",
      "STDERR: Completed 15000 requests\n",
      "\n",
      "Escritura:\n",
      "{'pods': '10.0', 'file_descriptors': '11.6', 'receive_packets': '738.3', 'transmit_packets': '542.7', 'dropped_packets': '6.6', 'cpu_usage_seconds': '0.0382315084', 'cpu_throttled_seconds': '0.0769120689', 'memory_working_bytes': '2499729.2', 'memory_usage_bytes': '20.0', 'carga': '10000.0', 'fecha': datetime.datetime(2021, 7, 16, 19, 50, 5, 708404)}\n",
      "STDERR: Completed 20000 requests\n",
      "\n",
      "Escritura:\n",
      "{'pods': '6.0', 'file_descriptors': '11.6', 'receive_packets': '738.3', 'transmit_packets': '542.7', 'dropped_packets': '6.6', 'cpu_usage_seconds': '0.0382315688', 'cpu_throttled_seconds': '0.0770321191', 'memory_working_bytes': '2505975.3', 'memory_usage_bytes': '20.0', 'carga': '10000.0', 'fecha': datetime.datetime(2021, 7, 16, 19, 50, 6, 583649)}\n",
      "STDERR: Completed 25000 requests\n",
      "\n",
      "Escritura:\n",
      "{'pods': '5.0', 'file_descriptors': '11.7', 'receive_packets': '738.3', 'transmit_packets': '542.7', 'dropped_packets': '6.6', 'cpu_usage_seconds': '0.0384595219', 'cpu_throttled_seconds': '0.0774928238', 'memory_working_bytes': '2512897.5', 'memory_usage_bytes': '20.0', 'carga': '10000.0', 'fecha': datetime.datetime(2021, 7, 16, 19, 50, 7, 376665)}\n",
      "STDERR: Completed 30000 requests\n",
      "\n",
      "Escritura:\n",
      "{'pods': '5.0', 'file_descriptors': '12.4', 'receive_packets': '769.5', 'transmit_packets': '564.4', 'dropped_packets': '10.0', 'cpu_usage_seconds': '0.0410810990', 'cpu_throttled_seconds': '0.0842312679', 'memory_working_bytes': '2622894.6', 'memory_usage_bytes': '20.0', 'carga': '10000.0', 'fecha': datetime.datetime(2021, 7, 16, 19, 50, 8, 479082)}\n",
      "STDERR: Completed 35000 requests\n",
      "\n",
      "Escritura:\n",
      "{'pods': '5.0', 'file_descriptors': '12.4', 'receive_packets': '767.3', 'transmit_packets': '562.8', 'dropped_packets': '10.0', 'cpu_usage_seconds': '0.0411595903', 'cpu_throttled_seconds': '0.0843399164', 'memory_working_bytes': '2627899.6', 'memory_usage_bytes': '20.0', 'carga': '10000.0', 'fecha': datetime.datetime(2021, 7, 16, 19, 50, 9, 79883)}\n",
      "STDERR: Completed 40000 requests\n",
      "\n",
      "Escritura:\n",
      "{'pods': '5.0', 'file_descriptors': '12.5', 'receive_packets': '767.3', 'transmit_packets': '562.8', 'dropped_packets': '10.0', 'cpu_usage_seconds': '0.0412308832', 'cpu_throttled_seconds': '0.0845488381', 'memory_working_bytes': '2632919.9', 'memory_usage_bytes': '20.0', 'carga': '10000.0', 'fecha': datetime.datetime(2021, 7, 16, 19, 50, 9, 980062)}\n",
      "STDERR: Completed 45000 requests\n",
      "\n",
      "Escritura:\n",
      "{'pods': '5.0', 'file_descriptors': '12.6', 'receive_packets': '771.4', 'transmit_packets': '565.8', 'dropped_packets': '10.0', 'cpu_usage_seconds': '0.0413666045', 'cpu_throttled_seconds': '0.0848958987', 'memory_working_bytes': '2642602.3', 'memory_usage_bytes': '20.0', 'carga': '10000.0', 'fecha': datetime.datetime(2021, 7, 16, 19, 50, 10, 213012)}\n",
      "STDERR: Completed 50000 requests\n",
      "Finished 50000 requests\n",
      "\n",
      "Escritura:\n",
      "{'pods': '5.0', 'file_descriptors': '12.6', 'receive_packets': '771.4', 'transmit_packets': '565.8', 'dropped_packets': '10.0', 'cpu_usage_seconds': '0.0413666224', 'cpu_throttled_seconds': '0.0848958987', 'memory_working_bytes': '2642605.7', 'memory_usage_bytes': '20.0', 'carga': '10000.0', 'fecha': datetime.datetime(2021, 7, 16, 19, 50, 10, 306258)}\n"
     ]
    }
   ],
   "source": [
    "while loadpod.resp.is_open():\n",
    "    loadpod.resp.update(timeout=1)\n",
    "    resp_stdout=\"\"\n",
    "    resp_stderr=\"\"\n",
    "    longitud =0\n",
    "    #respuesta= consulta_data(ServidorPrometheus,lapso,namespace)\n",
    "    respuesta = get_pod_metrics_scenario_1 (server = ServidorPrometheus, lapso = lapso, \n",
    "                                       namespace = namespace, podname = \"httpdia\", \n",
    "                                        requestpodname = \"load-generator-jupyter-c\")\n",
    "    respuesta[\"carga\"] = str(concurrency)\n",
    "    respuesta[\"fecha\"] = datetime.now()\n",
    "    print(\"Escritura:\")\n",
    "    print(respuesta)\n",
    "    writer.writerow(respuesta)\n",
    "    if loadpod.resp.peek_stdout():\n",
    "        resp_stdout= loadpod.resp.read_stdout()\n",
    "        longitud= len(resp_stdout)\n",
    "        countstdout= countstdout+1\n",
    "    if loadpod.resp.peek_stderr():\n",
    "        resp_stderr=loadpod.resp.read_stderr()\n",
    "        print(\"STDERR: %s\" % resp_stderr)\n",
    "        inicioerror = resp_stderr.find(\"Completed\")\n",
    "        if inicioerror == -1:\n",
    "            failedrequest=resp_stderr\n",
    "            break\n",
    "    if  (longitud >300):\n",
    "        #--------------------------\n",
    "        inicio = resp_stdout.find(\"Failed requests\")\n",
    "        if (inicio > -1):\n",
    "            fin = resp_stdout.find(\"Total transferred\")\n",
    "            failedrequest=resp_stdout[inicio+16:fin-1]\n",
    "        finalresponse = resp_stdout.split(\"\\n\")\n",
    "    if countstdout==2:\n",
    "        break\n",
    "respuesta =  failedrequest.strip()\n"
   ]
  },
  {
   "cell_type": "code",
   "execution_count": null,
   "metadata": {},
   "outputs": [],
   "source": [
    "while True:\n",
    "    contador = contador +1\n",
    "    concurrency = concurrency + 1000\n",
    "    if concurrency > 20000:\n",
    "        concurrency = 1000\n",
    "        numberpods = numberpods + 1\n",
    "    if numberpods > 20 :\n",
    "        break\n",
    "    \n",
    "    manage_pods(numberpods, \"httpd\", \"httpdia\", \"500m\", \"200m\", \"default\")\n",
    "        \n",
    "    exec_command = ['/bin/sh']\n",
    "    resp = stream(api_instance.connect_get_namespaced_pod_exec,\n",
    "                  name,\n",
    "                  'default',\n",
    "                  command=exec_command,\n",
    "                  stderr=True, stdin=True,\n",
    "                  stdout=True, tty=False,\n",
    "                  _preload_content=False)\n",
    "    carga = \"ab -n \"+str(request)+\" -c \"+str(concurrency)+\" \"+host\n",
    "    commands = [carga]       \n",
    "    resp.write_stdin(carga + \"\\n\")\n",
    "    countstdout=0\n",
    "    while resp.is_open():\n",
    "        resp.update(timeout=1)\n",
    "        resp_stdout=\"\"\n",
    "        resp_stderr=\"\"\n",
    "        longitud =0\n",
    "        respuesta= consulta_data(ServidorPrometheus,lapso,namespace)\n",
    "        respuesta[\"carga\"] = str(concurrency)\n",
    "        respuesta[\"fecha\"] = datetime.now()\n",
    "        print(\"Escritura:\")\n",
    "        print(respuesta)\n",
    "        writer.writerow(respuesta)\n",
    "        if resp.peek_stdout():\n",
    "            resp_stdout= resp.read_stdout()\n",
    "            longitud= len(resp_stdout)\n",
    "            countstdout= countstdout+1\n",
    "        if resp.peek_stderr():\n",
    "            resp_stderr=resp.read_stderr()\n",
    "            print(\"STDERR: %s\" % resp_stderr)\n",
    "            inicioerror = resp_stderr.find(\"Completed\")\n",
    "            if inicioerror == -1:\n",
    "                failedrequest=resp_stderr\n",
    "                break\n",
    "        if  (longitud >300):\n",
    "            #--------------------------\n",
    "            inicio = resp_stdout.find(\"Failed requests\")\n",
    "            if (inicio > -1):\n",
    "                fin = resp_stdout.find(\"Total transferred\")\n",
    "                failedrequest=resp_stdout[inicio+16:fin-1]\n",
    "            finalresponse = resp_stdout.split(\"\\n\")\n",
    "        if countstdout==2:\n",
    "            break\n",
    "    respuesta =  failedrequest.strip()\n",
    "   \n",
    "    print (str(contador)+\" Request: \"+str(request) +\" Concurrency: \"+str(concurrency) +\" Failed: \" + respuesta)\n",
    "    print (\" Timesleep: \"+str(timesleep))\n",
    "    time.sleep(timesleep)\n",
    "f.close()"
   ]
  },
  {
   "cell_type": "code",
   "execution_count": null,
   "metadata": {},
   "outputs": [],
   "source": [
    "import csv\n",
    "from datetime import datetime"
   ]
  },
  {
   "cell_type": "code",
   "execution_count": null,
   "metadata": {},
   "outputs": [],
   "source": [
    "respuesta= consulta_data(ServidorPrometheus,lapso,namespace)\n",
    "print(respuesta)"
   ]
  },
  {
   "cell_type": "code",
   "execution_count": null,
   "metadata": {},
   "outputs": [],
   "source": [
    "respuesta[\"carga\"] = '1000'\n",
    "respuesta[\"fecha\"] = datetime.now()"
   ]
  },
  {
   "cell_type": "code",
   "execution_count": null,
   "metadata": {},
   "outputs": [],
   "source": [
    "header = list(respuesta.keys())\n",
    "print(header)"
   ]
  },
  {
   "cell_type": "code",
   "execution_count": null,
   "metadata": {},
   "outputs": [],
   "source": [
    "print(respuesta)"
   ]
  },
  {
   "cell_type": "code",
   "execution_count": null,
   "metadata": {},
   "outputs": [],
   "source": [
    "with open(\"csv_write_dict.csv\", \"w\", newline='') as f:\n",
    "    \n",
    "    writer = csv.DictWriter(f, fieldnames = header)\n",
    "    writer.writeheader()\n",
    "    writer.writerow(respuesta)"
   ]
  },
  {
   "cell_type": "code",
   "execution_count": null,
   "metadata": {},
   "outputs": [],
   "source": [
    "f = open(\"csv_write_dict2.csv\", \"w\", newline='')\n",
    "writer = csv.DictWriter(f, fieldnames = header)\n",
    "writer.writeheader()\n",
    "respuesta= consulta_data(ServidorPrometheus,lapso,namespace)\n",
    "respuesta[\"carga\"] = '1000'\n",
    "respuesta[\"fecha\"] = datetime.now()\n",
    "writer.writerow(respuesta)\n",
    "respuesta= consulta_data(ServidorPrometheus,lapso,namespace)\n",
    "respuesta[\"carga\"] = '1000'\n",
    "respuesta[\"fecha\"] = datetime.now()\n",
    "writer.writerow(respuesta)\n",
    "respuesta= consulta_data(ServidorPrometheus,lapso,namespace)\n",
    "respuesta[\"carga\"] = '1000'\n",
    "respuesta[\"fecha\"] = datetime.now()\n",
    "writer.writerow(respuesta)\n",
    "respuesta= consulta_data(ServidorPrometheus,lapso,namespace)\n",
    "respuesta[\"carga\"] = '1000'\n",
    "respuesta[\"fecha\"] = datetime.now()\n",
    "writer.writerow(respuesta)\n",
    "respuesta= consulta_data(ServidorPrometheus,lapso,namespace)\n",
    "respuesta[\"carga\"] = '1000'\n",
    "respuesta[\"fecha\"] = datetime.now()\n",
    "writer.writerow(respuesta)\n",
    "respuesta= consulta_data(ServidorPrometheus,lapso,namespace)\n",
    "respuesta[\"carga\"] = '1000'\n",
    "respuesta[\"fecha\"] = datetime.now()\n",
    "writer.writerow(respuesta)\n",
    "respuesta= consulta_data(ServidorPrometheus,lapso,namespace)\n",
    "respuesta[\"carga\"] = '1000'\n",
    "respuesta[\"fecha\"] = datetime.now()\n",
    "writer.writerow(respuesta)\n",
    "respuesta= consulta_data(ServidorPrometheus,lapso,namespace)\n",
    "respuesta[\"carga\"] = '1000'\n",
    "respuesta[\"fecha\"] = datetime.now()\n",
    "writer.writerow(respuesta)\n",
    "respuesta= consulta_data(ServidorPrometheus,lapso,namespace)\n",
    "respuesta[\"carga\"] = '1000'\n",
    "respuesta[\"fecha\"] = datetime.now()\n",
    "writer.writerow(respuesta)\n",
    "respuesta= consulta_data(ServidorPrometheus,lapso,namespace)\n",
    "respuesta[\"carga\"] = '1000'\n",
    "respuesta[\"fecha\"] = datetime.now()\n",
    "writer.writerow(respuesta)\n",
    "f.close()"
   ]
  },
  {
   "cell_type": "code",
   "execution_count": null,
   "metadata": {},
   "outputs": [],
   "source": []
  },
  {
   "cell_type": "code",
   "execution_count": null,
   "metadata": {},
   "outputs": [],
   "source": [
    "from datetime import datetime"
   ]
  },
  {
   "cell_type": "code",
   "execution_count": null,
   "metadata": {},
   "outputs": [],
   "source": [
    "now = datetime.now()"
   ]
  },
  {
   "cell_type": "code",
   "execution_count": null,
   "metadata": {},
   "outputs": [],
   "source": [
    "print(\"now =\", now)"
   ]
  },
  {
   "cell_type": "code",
   "execution_count": null,
   "metadata": {},
   "outputs": [],
   "source": [
    "print(\"now =\", now)"
   ]
  },
  {
   "cell_type": "code",
   "execution_count": null,
   "metadata": {},
   "outputs": [],
   "source": [
    "type (now)"
   ]
  },
  {
   "cell_type": "code",
   "execution_count": null,
   "metadata": {},
   "outputs": [],
   "source": [
    "with open(\"cargapod.csv\", \"r\") as f:\n",
    "    reader = csv.reader(f)\n",
    "    for row in reader:\n",
    "        print(row)"
   ]
  },
  {
   "cell_type": "code",
   "execution_count": null,
   "metadata": {},
   "outputs": [],
   "source": [
    "import pandas as pd\n",
    "import numpy as np\n",
    "data = pd.read_csv('cargapod.csv')"
   ]
  },
  {
   "cell_type": "code",
   "execution_count": null,
   "metadata": {},
   "outputs": [],
   "source": [
    "datacarga = data.loc[data['carga'] == 5000]\n",
    "datapodcarga = datacarga.loc[data['pods']== 1]"
   ]
  },
  {
   "cell_type": "code",
   "execution_count": null,
   "metadata": {},
   "outputs": [],
   "source": [
    "print(datapodcarga.shape[0])"
   ]
  },
  {
   "cell_type": "code",
   "execution_count": null,
   "metadata": {},
   "outputs": [],
   "source": [
    "print (datapodcarga)"
   ]
  },
  {
   "cell_type": "code",
   "execution_count": null,
   "metadata": {},
   "outputs": [],
   "source": [
    "promedio =datapodcarga.mean()"
   ]
  },
  {
   "cell_type": "code",
   "execution_count": null,
   "metadata": {},
   "outputs": [],
   "source": [
    "print(promedio)"
   ]
  },
  {
   "cell_type": "code",
   "execution_count": null,
   "metadata": {},
   "outputs": [],
   "source": [
    "promedios = pd.DataFrame()\n",
    "for i in range(20):\n",
    "    for j in range (20):\n",
    "        #print(str(i+1)+\" \"+ str((j+1)*1000))\n",
    "        datacarga = data.loc[data['carga'] == ((j+1)*1000)]\n",
    "        datapodcarga = datacarga.loc[data['pods']== (i+1)]\n",
    "        promedio =datapodcarga.mean()\n",
    "        promedios = promedios.append(promedio, ignore_index=True)       "
   ]
  },
  {
   "cell_type": "code",
   "execution_count": null,
   "metadata": {},
   "outputs": [],
   "source": [
    "promedios.to_csv('cargapod_promedios.csv')"
   ]
  },
  {
   "cell_type": "code",
   "execution_count": null,
   "metadata": {},
   "outputs": [],
   "source": [
    "maximos = data.max()\n",
    "minimos = data.min()\n",
    "print (maximos)\n",
    "print (minimos)"
   ]
  },
  {
   "cell_type": "code",
   "execution_count": null,
   "metadata": {},
   "outputs": [],
   "source": [
    "#ejemplo\n",
    "df = pd.DataFrame({\"Data1\": [10, 20, 30], \"Data2\": [40, 50, 60]})\n",
    "print(df)\n",
    "column_maxes = df.max()\n",
    "print(column_maxes)\n",
    "df_max = column_maxes.max()\n",
    "print(df_max)\n",
    "normalized_df = df / df_max\n",
    "print(normalized_df)"
   ]
  },
  {
   "cell_type": "code",
   "execution_count": null,
   "metadata": {},
   "outputs": [],
   "source": [
    "column_maxes = data.max()\n",
    "print(column_maxes)"
   ]
  },
  {
   "cell_type": "code",
   "execution_count": null,
   "metadata": {},
   "outputs": [],
   "source": [
    "normalized_data = pd.DataFrame()\n",
    "normalized_data['pods'] = data['pods'] \n",
    "normalized_data['file_descriptors'] = data['file_descriptors'] / column_maxes['file_descriptors']\n",
    "normalized_data['receive_packets'] = data['receive_packets'] / column_maxes['receive_packets']\n",
    "normalized_data['transmit_packets'] = data['transmit_packets'] / column_maxes['transmit_packets']\n",
    "normalized_data['dropped_packets'] = data['dropped_packets'] / column_maxes['dropped_packets']\n",
    "normalized_data['cpu_usage_seconds'] = data['cpu_usage_seconds'] / column_maxes['cpu_usage_seconds']\n",
    "normalized_data['cpu_throttled_seconds'] = data['cpu_throttled_seconds'] / column_maxes['cpu_throttled_seconds']\n",
    "normalized_data['memory_working_bytes'] = data['memory_working_bytes'] / column_maxes['memory_working_bytes']\n",
    "normalized_data['memory_usage_bytes'] = data['memory_usage_bytes'] / column_maxes['memory_usage_bytes']\n",
    "normalized_data['carga'] = data['carga']"
   ]
  },
  {
   "cell_type": "code",
   "execution_count": null,
   "metadata": {},
   "outputs": [],
   "source": [
    "print(normalized_data)"
   ]
  },
  {
   "cell_type": "code",
   "execution_count": null,
   "metadata": {},
   "outputs": [],
   "source": [
    "promedios = pd.DataFrame()\n",
    "for i in range(20):\n",
    "    for j in range (20):\n",
    "        datacarga = normalized_data.loc[normalized_data['carga'] == ((j+1)*1000)]\n",
    "        datapodcarga = datacarga.loc[normalized_data['pods']== (i+1)]\n",
    "        promedio =datapodcarga.mean()\n",
    "        promedios = promedios.append(promedio, ignore_index=True)       "
   ]
  },
  {
   "cell_type": "code",
   "execution_count": null,
   "metadata": {},
   "outputs": [],
   "source": [
    "promedios.to_csv('cargapod_normalized_means.csv')"
   ]
  },
  {
   "cell_type": "code",
   "execution_count": null,
   "metadata": {},
   "outputs": [],
   "source": []
  }
 ],
 "metadata": {
  "kernelspec": {
   "display_name": "otumba",
   "language": "python",
   "name": "otumba"
  },
  "language_info": {
   "codemirror_mode": {
    "name": "ipython",
    "version": 3
   },
   "file_extension": ".py",
   "mimetype": "text/x-python",
   "name": "python",
   "nbconvert_exporter": "python",
   "pygments_lexer": "ipython3",
   "version": "3.6.13"
  }
 },
 "nbformat": 4,
 "nbformat_minor": 4
}
