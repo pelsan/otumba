{
 "cells": [
  {
   "cell_type": "markdown",
   "id": "3de86230",
   "metadata": {},
   "source": [
    "## Check database\n",
    "\n",
    "minikube start\n",
    "\n",
    "check service \n",
    "\n",
    "\n",
    "pip install mysql-connector-python\n",
    "\n",
    "\n",
    "minikube service mysql\n",
    "\n"
   ]
  },
  {
   "cell_type": "code",
   "execution_count": null,
   "id": "d47e2211",
   "metadata": {},
   "outputs": [],
   "source": [
    "pip install mysql-connector-python"
   ]
  },
  {
   "cell_type": "code",
   "execution_count": 1,
   "id": "3570f200",
   "metadata": {},
   "outputs": [],
   "source": [
    "import mysql.connector"
   ]
  },
  {
   "cell_type": "markdown",
   "id": "98d00943",
   "metadata": {},
   "source": [
    "### Connection"
   ]
  },
  {
   "cell_type": "code",
   "execution_count": 5,
   "id": "7fe8adf4",
   "metadata": {},
   "outputs": [
    {
     "ename": "NameError",
     "evalue": "name 'mysql' is not defined",
     "output_type": "error",
     "traceback": [
      "\u001b[0;31m---------------------------------------------------------------------------\u001b[0m",
      "\u001b[0;31mNameError\u001b[0m                                 Traceback (most recent call last)",
      "\u001b[0;32m<ipython-input-5-760675f6933c>\u001b[0m in \u001b[0;36m<module>\u001b[0;34m\u001b[0m\n\u001b[0;32m----> 1\u001b[0;31m mydb = mysql.connector.connect(\n\u001b[0m\u001b[1;32m      2\u001b[0m     \u001b[0mhost\u001b[0m\u001b[0;34m=\u001b[0m\u001b[0;34m\"mysql\"\u001b[0m\u001b[0;34m,\u001b[0m\u001b[0;34m\u001b[0m\u001b[0;34m\u001b[0m\u001b[0m\n\u001b[1;32m      3\u001b[0m     \u001b[0muser\u001b[0m\u001b[0;34m=\u001b[0m\u001b[0;34m\"root\"\u001b[0m\u001b[0;34m,\u001b[0m\u001b[0;34m\u001b[0m\u001b[0;34m\u001b[0m\u001b[0m\n\u001b[1;32m      4\u001b[0m     \u001b[0mpassword\u001b[0m\u001b[0;34m=\u001b[0m\u001b[0;34m\"password\"\u001b[0m\u001b[0;34m,\u001b[0m\u001b[0;34m\u001b[0m\u001b[0;34m\u001b[0m\u001b[0m\n\u001b[1;32m      5\u001b[0m     )\n",
      "\u001b[0;31mNameError\u001b[0m: name 'mysql' is not defined"
     ]
    }
   ],
   "source": [
    "mydb = mysql.connector.connect(\n",
    "    host=\"mysql\",\n",
    "    user=\"root\",\n",
    "    password=\"password\",\n",
    "    )\n",
    "cursor = mydb.cursor()\n",
    "cursor.execute(\"DROP DATABASE IF EXISTS inventory\")\n",
    "cursor.execute(\"CREATE DATABASE inventory\")\n",
    "cursor.close()\n",
    "\n",
    "mydb = mysql.connector.connect(\n",
    "    host=\"mysql\",\n",
    "    user=\"root\",\n",
    "    database=\"inventory\",\n",
    "    password=\"password\",\n",
    "    )\n",
    "\n",
    "cursor = mydb.cursor()\n",
    "cursor.execute(\"DROP TABLE IF EXISTS widgets\")\n",
    "cursor.execute(\"DROP TABLE IF EXISTS users\")\n",
    "cursor.execute(\"CREATE TABLE widgets (name VARCHAR(255), description VARCHAR(255))\")\n",
    "cursor.execute(\"CREATE TABLE users (id BIGINT UNSIGNED NOT NULL AUTO_INCREMENT PRIMARY KEY, name VARCHAR(255) NOT NULL, description VARCHAR(255) NOT NULL)\")\n",
    "cursor.close()"
   ]
  },
  {
   "cell_type": "code",
   "execution_count": null,
   "id": "3d0c5975",
   "metadata": {},
   "outputs": [],
   "source": []
  }
 ],
 "metadata": {
  "kernelspec": {
   "display_name": "Python 3",
   "language": "python",
   "name": "python3"
  },
  "language_info": {
   "codemirror_mode": {
    "name": "ipython",
    "version": 3
   },
   "file_extension": ".py",
   "mimetype": "text/x-python",
   "name": "python",
   "nbconvert_exporter": "python",
   "pygments_lexer": "ipython3",
   "version": "3.8.8"
  }
 },
 "nbformat": 4,
 "nbformat_minor": 5
}
