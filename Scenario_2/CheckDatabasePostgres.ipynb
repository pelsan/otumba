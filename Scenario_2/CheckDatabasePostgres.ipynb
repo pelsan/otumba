{
 "cells": [
  {
   "cell_type": "markdown",
   "id": "3de86230",
   "metadata": {},
   "source": [
    "## Check database\n",
    "\n",
    "minikube start"
   ]
  },
  {
   "cell_type": "code",
   "execution_count": 5,
   "id": "3570f200",
   "metadata": {},
   "outputs": [],
   "source": [
    "import psycopg2"
   ]
  },
  {
   "cell_type": "markdown",
   "id": "98d00943",
   "metadata": {},
   "source": [
    "### Connection"
   ]
  },
  {
   "cell_type": "code",
   "execution_count": 9,
   "id": "7fe8adf4",
   "metadata": {},
   "outputs": [
    {
     "ename": "AttributeError",
     "evalue": "module 'psycopg2' has no attribute 'connect'",
     "output_type": "error",
     "traceback": [
      "\u001b[0;31m---------------------------------------------------------------------------\u001b[0m",
      "\u001b[0;31mAttributeError\u001b[0m                            Traceback (most recent call last)",
      "\u001b[0;32m<ipython-input-9-630f4bf03289>\u001b[0m in \u001b[0;36m<module>\u001b[0;34m\u001b[0m\n\u001b[0;32m----> 1\u001b[0;31m conn = psycopg2.connect(\n\u001b[0m\u001b[1;32m      2\u001b[0m     \u001b[0mhost\u001b[0m\u001b[0;34m=\u001b[0m\u001b[0;34m\"192.168.49.2\"\u001b[0m\u001b[0;34m,\u001b[0m\u001b[0;34m\u001b[0m\u001b[0;34m\u001b[0m\u001b[0m\n\u001b[1;32m      3\u001b[0m     \u001b[0mport\u001b[0m\u001b[0;34m=\u001b[0m\u001b[0;34m\"30432\"\u001b[0m\u001b[0;34m,\u001b[0m\u001b[0;34m\u001b[0m\u001b[0;34m\u001b[0m\u001b[0m\n\u001b[1;32m      4\u001b[0m     \u001b[0mdatabase\u001b[0m\u001b[0;34m=\u001b[0m\u001b[0;34m\"suplies\"\u001b[0m\u001b[0;34m,\u001b[0m\u001b[0;34m\u001b[0m\u001b[0;34m\u001b[0m\u001b[0m\n\u001b[1;32m      5\u001b[0m     \u001b[0muser\u001b[0m\u001b[0;34m=\u001b[0m\u001b[0;34m\"postgres\"\u001b[0m\u001b[0;34m,\u001b[0m\u001b[0;34m\u001b[0m\u001b[0;34m\u001b[0m\u001b[0m\n",
      "\u001b[0;31mAttributeError\u001b[0m: module 'psycopg2' has no attribute 'connect'"
     ]
    }
   ],
   "source": [
    "conn = psycopg2.connect(\n",
    "    host=\"192.168.49.2\",\n",
    "    port=\"30432\",\n",
    "    database=\"suplies\",\n",
    "    user=\"postgres\",\n",
    "    password=\"qwerty\")"
   ]
  },
  {
   "cell_type": "markdown",
   "id": "7dd1b9dd",
   "metadata": {},
   "source": [
    "### Create Tables"
   ]
  },
  {
   "cell_type": "code",
   "execution_count": 7,
   "id": "a4756942",
   "metadata": {},
   "outputs": [
    {
     "ename": "NameError",
     "evalue": "name 'conn' is not defined",
     "output_type": "error",
     "traceback": [
      "\u001b[0;31m---------------------------------------------------------------------------\u001b[0m",
      "\u001b[0;31mNameError\u001b[0m                                 Traceback (most recent call last)",
      "\u001b[0;32m<ipython-input-7-4e05e4417f89>\u001b[0m in \u001b[0;36m<module>\u001b[0;34m\u001b[0m\n\u001b[0;32m----> 1\u001b[0;31m \u001b[0mcur\u001b[0m \u001b[0;34m=\u001b[0m \u001b[0mconn\u001b[0m\u001b[0;34m.\u001b[0m\u001b[0mcursor\u001b[0m\u001b[0;34m(\u001b[0m\u001b[0;34m)\u001b[0m\u001b[0;34m\u001b[0m\u001b[0;34m\u001b[0m\u001b[0m\n\u001b[0m",
      "\u001b[0;31mNameError\u001b[0m: name 'conn' is not defined"
     ]
    }
   ],
   "source": [
    "cur = conn.cursor()"
   ]
  },
  {
   "cell_type": "code",
   "execution_count": 8,
   "id": "80065ddf",
   "metadata": {},
   "outputs": [],
   "source": [
    "commands = (\n",
    "        \"\"\"\n",
    "        CREATE TABLE vendors (\n",
    "            vendor_id SERIAL PRIMARY KEY,\n",
    "            vendor_name VARCHAR(255) NOT NULL\n",
    "        )\n",
    "        \"\"\",\n",
    "        \"\"\" CREATE TABLE parts (\n",
    "                part_id SERIAL PRIMARY KEY,\n",
    "                part_name VARCHAR(255) NOT NULL\n",
    "                )\n",
    "        \"\"\",\n",
    "        \"\"\"\n",
    "        CREATE TABLE part_drawings (\n",
    "                part_id INTEGER PRIMARY KEY,\n",
    "                file_extension VARCHAR(5) NOT NULL,\n",
    "                drawing_data BYTEA NOT NULL,\n",
    "                FOREIGN KEY (part_id)\n",
    "                REFERENCES parts (part_id)\n",
    "                ON UPDATE CASCADE ON DELETE CASCADE\n",
    "        )\n",
    "        \"\"\",\n",
    "        \"\"\"\n",
    "        CREATE TABLE vendor_parts (\n",
    "                vendor_id INTEGER NOT NULL,\n",
    "                part_id INTEGER NOT NULL,\n",
    "                PRIMARY KEY (vendor_id , part_id),\n",
    "                FOREIGN KEY (vendor_id)\n",
    "                    REFERENCES vendors (vendor_id)\n",
    "                    ON UPDATE CASCADE ON DELETE CASCADE,\n",
    "                FOREIGN KEY (part_id)\n",
    "                    REFERENCES parts (part_id)\n",
    "                    ON UPDATE CASCADE ON DELETE CASCADE\n",
    "        )\n",
    "        \"\"\")"
   ]
  },
  {
   "cell_type": "code",
   "execution_count": null,
   "id": "47f3797a",
   "metadata": {},
   "outputs": [],
   "source": [
    "for command in commands:\n",
    "    cur.execute(command)"
   ]
  },
  {
   "cell_type": "code",
   "execution_count": null,
   "id": "05a61056",
   "metadata": {},
   "outputs": [],
   "source": [
    "cur.close()"
   ]
  },
  {
   "cell_type": "code",
   "execution_count": null,
   "id": "da3a9b60",
   "metadata": {},
   "outputs": [],
   "source": [
    "conn.commit()"
   ]
  },
  {
   "cell_type": "markdown",
   "id": "f0ce2fbf",
   "metadata": {},
   "source": [
    "### Insert data"
   ]
  },
  {
   "cell_type": "code",
   "execution_count": null,
   "id": "cc4eddc4",
   "metadata": {},
   "outputs": [],
   "source": [
    "sql = \"\"\"INSERT INTO vendors(vendor_name)\n",
    "             VALUES(%s) RETURNING vendor_id;\"\"\""
   ]
  },
  {
   "cell_type": "code",
   "execution_count": null,
   "id": "be97fe1e",
   "metadata": {},
   "outputs": [],
   "source": [
    "cur = conn.cursor()"
   ]
  },
  {
   "cell_type": "code",
   "execution_count": null,
   "id": "2a241547",
   "metadata": {},
   "outputs": [],
   "source": [
    "cur.execute(sql, (\"peter new\",))"
   ]
  },
  {
   "cell_type": "code",
   "execution_count": null,
   "id": "957b90e3",
   "metadata": {},
   "outputs": [],
   "source": [
    "conn.commit()"
   ]
  },
  {
   "cell_type": "code",
   "execution_count": null,
   "id": "5cbe19df",
   "metadata": {},
   "outputs": [],
   "source": [
    "cur.close()"
   ]
  },
  {
   "cell_type": "markdown",
   "id": "7f262753",
   "metadata": {},
   "source": [
    "### Update data"
   ]
  },
  {
   "cell_type": "code",
   "execution_count": null,
   "id": "83f612ee",
   "metadata": {},
   "outputs": [],
   "source": [
    "sql = \"\"\" UPDATE vendors\n",
    "            SET vendor_name = %s\n",
    "            WHERE vendor_id = %s\"\"\""
   ]
  },
  {
   "cell_type": "code",
   "execution_count": null,
   "id": "76864b7c",
   "metadata": {},
   "outputs": [],
   "source": [
    "cur = conn.cursor()"
   ]
  },
  {
   "cell_type": "code",
   "execution_count": null,
   "id": "7bee16b0",
   "metadata": {},
   "outputs": [],
   "source": [
    "cur.execute(sql, (\"peter2\", \"1\"))"
   ]
  },
  {
   "cell_type": "code",
   "execution_count": null,
   "id": "7da57ad9",
   "metadata": {},
   "outputs": [],
   "source": [
    "updated_rows = cur.rowcount"
   ]
  },
  {
   "cell_type": "code",
   "execution_count": null,
   "id": "803ad3d0",
   "metadata": {},
   "outputs": [],
   "source": [
    "updated_rows"
   ]
  },
  {
   "cell_type": "code",
   "execution_count": null,
   "id": "b72640f1",
   "metadata": {},
   "outputs": [],
   "source": [
    "conn.commit()"
   ]
  },
  {
   "cell_type": "code",
   "execution_count": null,
   "id": "8fc1d2f6",
   "metadata": {},
   "outputs": [],
   "source": [
    "cur.close()"
   ]
  },
  {
   "cell_type": "markdown",
   "id": "511ec2ed",
   "metadata": {},
   "source": [
    "### Select data"
   ]
  },
  {
   "cell_type": "code",
   "execution_count": null,
   "id": "cf311ff0",
   "metadata": {},
   "outputs": [],
   "source": [
    "cur = conn.cursor()"
   ]
  },
  {
   "cell_type": "code",
   "execution_count": null,
   "id": "3ea80523",
   "metadata": {},
   "outputs": [],
   "source": [
    "cur.execute(\"SELECT vendor_id, vendor_name FROM vendors ORDER BY vendor_name\")"
   ]
  },
  {
   "cell_type": "code",
   "execution_count": null,
   "id": "f2613a78",
   "metadata": {},
   "outputs": [],
   "source": [
    "print(\"The number of parts: \", cur.rowcount)"
   ]
  },
  {
   "cell_type": "code",
   "execution_count": null,
   "id": "7b95a462",
   "metadata": {},
   "outputs": [],
   "source": [
    "row = cur.fetchone()\n",
    "\n",
    "while row is not None:\n",
    "    print(row)\n",
    "    row = cur.fetchone()\n",
    "cur.close()"
   ]
  },
  {
   "cell_type": "markdown",
   "id": "61ad38fe",
   "metadata": {},
   "source": [
    "### Count data"
   ]
  },
  {
   "cell_type": "code",
   "execution_count": null,
   "id": "fe9114f2",
   "metadata": {},
   "outputs": [],
   "source": [
    "cur = conn.cursor()"
   ]
  },
  {
   "cell_type": "code",
   "execution_count": null,
   "id": "63bf1e8d",
   "metadata": {},
   "outputs": [],
   "source": [
    "cur.execute(\"SELECT count(*) FROM vendors\")"
   ]
  },
  {
   "cell_type": "code",
   "execution_count": null,
   "id": "b661f765",
   "metadata": {},
   "outputs": [],
   "source": [
    "row = cur.fetchone()"
   ]
  },
  {
   "cell_type": "code",
   "execution_count": null,
   "id": "db981f38",
   "metadata": {},
   "outputs": [],
   "source": [
    "print (row)"
   ]
  },
  {
   "cell_type": "code",
   "execution_count": null,
   "id": "4ff78370",
   "metadata": {},
   "outputs": [],
   "source": [
    "cur.close()"
   ]
  },
  {
   "cell_type": "code",
   "execution_count": null,
   "id": "1cb16879",
   "metadata": {},
   "outputs": [],
   "source": [
    "type (row)"
   ]
  },
  {
   "cell_type": "code",
   "execution_count": null,
   "id": "3d0c5975",
   "metadata": {},
   "outputs": [],
   "source": [
    "row[0]"
   ]
  }
 ],
 "metadata": {
  "kernelspec": {
   "display_name": "otumba",
   "language": "python",
   "name": "otumba"
  },
  "language_info": {
   "codemirror_mode": {
    "name": "ipython",
    "version": 3
   },
   "file_extension": ".py",
   "mimetype": "text/x-python",
   "name": "python",
   "nbconvert_exporter": "python",
   "pygments_lexer": "ipython3",
   "version": "3.6.13"
  }
 },
 "nbformat": 4,
 "nbformat_minor": 5
}
