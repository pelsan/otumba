{
 "cells": [
  {
   "cell_type": "markdown",
   "id": "3de86230",
   "metadata": {},
   "source": [
    "## pip install psycopg2"
   ]
  },
  {
   "cell_type": "code",
   "execution_count": 7,
   "id": "3570f200",
   "metadata": {},
   "outputs": [],
   "source": [
    "##pip install psycopg2-binary"
   ]
  },
  {
   "cell_type": "markdown",
   "id": "98d00943",
   "metadata": {},
   "source": [
    "### Connection"
   ]
  },
  {
   "cell_type": "code",
   "execution_count": 10,
   "id": "7fe8adf4",
   "metadata": {},
   "outputs": [],
   "source": [
    "conn = psycopg2.connect(\n",
    "    host=\"192.168.49.2\",\n",
    "    port=\"30432\",\n",
    "    database=\"suppliers\",\n",
    "    user=\"postgres\",\n",
    "    password=\"qwerty\")"
   ]
  },
  {
   "cell_type": "markdown",
   "id": "7dd1b9dd",
   "metadata": {},
   "source": [
    "### Create Tables"
   ]
  },
  {
   "cell_type": "code",
   "execution_count": 11,
   "id": "a4756942",
   "metadata": {},
   "outputs": [],
   "source": [
    "cur = conn.cursor()"
   ]
  },
  {
   "cell_type": "code",
   "execution_count": 12,
   "id": "80065ddf",
   "metadata": {},
   "outputs": [],
   "source": [
    "commands = (\n",
    "        \"\"\"\n",
    "        CREATE TABLE vendors (\n",
    "            vendor_id SERIAL PRIMARY KEY,\n",
    "            vendor_name VARCHAR(255) NOT NULL\n",
    "        )\n",
    "        \"\"\",\n",
    "        \"\"\" CREATE TABLE parts (\n",
    "                part_id SERIAL PRIMARY KEY,\n",
    "                part_name VARCHAR(255) NOT NULL\n",
    "                )\n",
    "        \"\"\",\n",
    "        \"\"\"\n",
    "        CREATE TABLE part_drawings (\n",
    "                part_id INTEGER PRIMARY KEY,\n",
    "                file_extension VARCHAR(5) NOT NULL,\n",
    "                drawing_data BYTEA NOT NULL,\n",
    "                FOREIGN KEY (part_id)\n",
    "                REFERENCES parts (part_id)\n",
    "                ON UPDATE CASCADE ON DELETE CASCADE\n",
    "        )\n",
    "        \"\"\",\n",
    "        \"\"\"\n",
    "        CREATE TABLE vendor_parts (\n",
    "                vendor_id INTEGER NOT NULL,\n",
    "                part_id INTEGER NOT NULL,\n",
    "                PRIMARY KEY (vendor_id , part_id),\n",
    "                FOREIGN KEY (vendor_id)\n",
    "                    REFERENCES vendors (vendor_id)\n",
    "                    ON UPDATE CASCADE ON DELETE CASCADE,\n",
    "                FOREIGN KEY (part_id)\n",
    "                    REFERENCES parts (part_id)\n",
    "                    ON UPDATE CASCADE ON DELETE CASCADE\n",
    "        )\n",
    "        \"\"\")"
   ]
  },
  {
   "cell_type": "code",
   "execution_count": 13,
   "id": "47f3797a",
   "metadata": {},
   "outputs": [],
   "source": [
    "for command in commands:\n",
    "    cur.execute(command)"
   ]
  },
  {
   "cell_type": "code",
   "execution_count": 14,
   "id": "05a61056",
   "metadata": {},
   "outputs": [],
   "source": [
    "cur.close()"
   ]
  },
  {
   "cell_type": "code",
   "execution_count": 15,
   "id": "da3a9b60",
   "metadata": {},
   "outputs": [],
   "source": [
    "conn.commit()"
   ]
  },
  {
   "cell_type": "markdown",
   "id": "f0ce2fbf",
   "metadata": {},
   "source": [
    "### Insert data"
   ]
  },
  {
   "cell_type": "code",
   "execution_count": 56,
   "id": "cc4eddc4",
   "metadata": {},
   "outputs": [],
   "source": [
    "sql = \"\"\"INSERT INTO vendors(vendor_name)\n",
    "             VALUES(%s) RETURNING vendor_id;\"\"\""
   ]
  },
  {
   "cell_type": "code",
   "execution_count": 57,
   "id": "be97fe1e",
   "metadata": {},
   "outputs": [],
   "source": [
    "cur = conn.cursor()"
   ]
  },
  {
   "cell_type": "code",
   "execution_count": 58,
   "id": "2a241547",
   "metadata": {},
   "outputs": [],
   "source": [
    "cur.execute(sql, (\"peter new\",))"
   ]
  },
  {
   "cell_type": "code",
   "execution_count": 59,
   "id": "957b90e3",
   "metadata": {},
   "outputs": [],
   "source": [
    "conn.commit()"
   ]
  },
  {
   "cell_type": "code",
   "execution_count": 60,
   "id": "5cbe19df",
   "metadata": {},
   "outputs": [],
   "source": [
    "cur.close()"
   ]
  },
  {
   "cell_type": "markdown",
   "id": "7f262753",
   "metadata": {},
   "source": [
    "### Update data"
   ]
  },
  {
   "cell_type": "code",
   "execution_count": 34,
   "id": "83f612ee",
   "metadata": {},
   "outputs": [],
   "source": [
    "sql = \"\"\" UPDATE vendors\n",
    "            SET vendor_name = %s\n",
    "            WHERE vendor_id = %s\"\"\""
   ]
  },
  {
   "cell_type": "code",
   "execution_count": 35,
   "id": "76864b7c",
   "metadata": {},
   "outputs": [],
   "source": [
    "cur = conn.cursor()"
   ]
  },
  {
   "cell_type": "code",
   "execution_count": 36,
   "id": "7bee16b0",
   "metadata": {},
   "outputs": [],
   "source": [
    "cur.execute(sql, (\"peter2\", \"1\"))"
   ]
  },
  {
   "cell_type": "code",
   "execution_count": 37,
   "id": "7da57ad9",
   "metadata": {},
   "outputs": [],
   "source": [
    "updated_rows = cur.rowcount"
   ]
  },
  {
   "cell_type": "code",
   "execution_count": 38,
   "id": "803ad3d0",
   "metadata": {},
   "outputs": [
    {
     "data": {
      "text/plain": [
       "1"
      ]
     },
     "execution_count": 38,
     "metadata": {},
     "output_type": "execute_result"
    }
   ],
   "source": [
    "updated_rows"
   ]
  },
  {
   "cell_type": "code",
   "execution_count": 39,
   "id": "b72640f1",
   "metadata": {},
   "outputs": [],
   "source": [
    "conn.commit()"
   ]
  },
  {
   "cell_type": "code",
   "execution_count": 40,
   "id": "8fc1d2f6",
   "metadata": {},
   "outputs": [],
   "source": [
    "cur.close()"
   ]
  },
  {
   "cell_type": "markdown",
   "id": "511ec2ed",
   "metadata": {},
   "source": [
    "### Select data"
   ]
  },
  {
   "cell_type": "code",
   "execution_count": 61,
   "id": "cf311ff0",
   "metadata": {},
   "outputs": [],
   "source": [
    "cur = conn.cursor()"
   ]
  },
  {
   "cell_type": "code",
   "execution_count": 62,
   "id": "3ea80523",
   "metadata": {},
   "outputs": [],
   "source": [
    "cur.execute(\"SELECT vendor_id, vendor_name FROM vendors ORDER BY vendor_name\")"
   ]
  },
  {
   "cell_type": "code",
   "execution_count": 63,
   "id": "f2613a78",
   "metadata": {},
   "outputs": [
    {
     "name": "stdout",
     "output_type": "stream",
     "text": [
      "The number of parts:  2\n"
     ]
    }
   ],
   "source": [
    "print(\"The number of parts: \", cur.rowcount)"
   ]
  },
  {
   "cell_type": "code",
   "execution_count": 64,
   "id": "7b95a462",
   "metadata": {},
   "outputs": [
    {
     "name": "stdout",
     "output_type": "stream",
     "text": [
      "(1, 'peter2')\n",
      "(2, 'peter new')\n"
     ]
    }
   ],
   "source": [
    "row = cur.fetchone()\n",
    "\n",
    "while row is not None:\n",
    "    print(row)\n",
    "    row = cur.fetchone()\n",
    "cur.close()"
   ]
  },
  {
   "cell_type": "markdown",
   "id": "61ad38fe",
   "metadata": {},
   "source": [
    "### Count data"
   ]
  },
  {
   "cell_type": "code",
   "execution_count": 65,
   "id": "fe9114f2",
   "metadata": {},
   "outputs": [],
   "source": [
    "cur = conn.cursor()"
   ]
  },
  {
   "cell_type": "code",
   "execution_count": 66,
   "id": "63bf1e8d",
   "metadata": {},
   "outputs": [],
   "source": [
    "cur.execute(\"SELECT count(*) FROM vendors\")"
   ]
  },
  {
   "cell_type": "code",
   "execution_count": 67,
   "id": "b661f765",
   "metadata": {},
   "outputs": [],
   "source": [
    "row = cur.fetchone()"
   ]
  },
  {
   "cell_type": "code",
   "execution_count": 68,
   "id": "db981f38",
   "metadata": {},
   "outputs": [
    {
     "name": "stdout",
     "output_type": "stream",
     "text": [
      "(2,)\n"
     ]
    }
   ],
   "source": [
    "print (row)"
   ]
  },
  {
   "cell_type": "code",
   "execution_count": 69,
   "id": "4ff78370",
   "metadata": {},
   "outputs": [],
   "source": [
    "cur.close()"
   ]
  },
  {
   "cell_type": "code",
   "execution_count": 70,
   "id": "1cb16879",
   "metadata": {},
   "outputs": [
    {
     "data": {
      "text/plain": [
       "tuple"
      ]
     },
     "execution_count": 70,
     "metadata": {},
     "output_type": "execute_result"
    }
   ],
   "source": [
    "type (row)"
   ]
  },
  {
   "cell_type": "code",
   "execution_count": 71,
   "id": "3d0c5975",
   "metadata": {},
   "outputs": [
    {
     "data": {
      "text/plain": [
       "2"
      ]
     },
     "execution_count": 71,
     "metadata": {},
     "output_type": "execute_result"
    }
   ],
   "source": [
    "row[0]"
   ]
  }
 ],
 "metadata": {
  "kernelspec": {
   "display_name": "otumba",
   "language": "python",
   "name": "otumba"
  },
  "language_info": {
   "codemirror_mode": {
    "name": "ipython",
    "version": 3
   },
   "file_extension": ".py",
   "mimetype": "text/x-python",
   "name": "python",
   "nbconvert_exporter": "python",
   "pygments_lexer": "ipython3",
   "version": "3.6.13"
  }
 },
 "nbformat": 4,
 "nbformat_minor": 5
}
