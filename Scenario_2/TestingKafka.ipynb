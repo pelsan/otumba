{
 "cells": [
  {
   "cell_type": "markdown",
   "id": "d6ae71fa",
   "metadata": {},
   "source": [
    "## Testk Kafka pod"
   ]
  },
  {
   "cell_type": "markdown",
   "id": "b279368f",
   "metadata": {},
   "source": [
    "minikube service -n kafka my-cluster-kafka-bootstrap"
   ]
  },
  {
   "cell_type": "code",
   "execution_count": 2,
   "id": "ef57b1ae",
   "metadata": {},
   "outputs": [],
   "source": [
    "from time import sleep\n",
    "from json import dumps\n",
    "from kafka import KafkaProducer"
   ]
  },
  {
   "cell_type": "code",
   "execution_count": null,
   "id": "233e5a76",
   "metadata": {},
   "outputs": [],
   "source": [
    "producer = KafkaProducer(bootstrap_servers=['localhost:9092'],\n",
    "                         value_serializer=lambda x: \n",
    "                         dumps(x).encode('utf-8'))"
   ]
  }
 ],
 "metadata": {
  "kernelspec": {
   "display_name": "otumba",
   "language": "python",
   "name": "otumba"
  },
  "language_info": {
   "codemirror_mode": {
    "name": "ipython",
    "version": 3
   },
   "file_extension": ".py",
   "mimetype": "text/x-python",
   "name": "python",
   "nbconvert_exporter": "python",
   "pygments_lexer": "ipython3",
   "version": "3.6.13"
  }
 },
 "nbformat": 4,
 "nbformat_minor": 5
}
