{
 "cells": [
  {
   "cell_type": "code",
   "execution_count": 1,
   "id": "f789e22a",
   "metadata": {},
   "outputs": [],
   "source": [
    "import torch \n",
    "import torch.nn as nn\n",
    "import torch.optim as opt\n",
    "from tqdm import tqdm\n",
    "from torch.utils.data import Dataset, DataLoader "
   ]
  },
  {
   "cell_type": "code",
   "execution_count": 2,
   "id": "b6b9459c",
   "metadata": {},
   "outputs": [],
   "source": [
    "import plotly.graph_objects as go \n",
    "import numpy as np \n",
    "import pandas as pd "
   ]
  },
  {
   "cell_type": "code",
   "execution_count": 3,
   "id": "2dbd4eab",
   "metadata": {},
   "outputs": [],
   "source": [
    "training_filename = 'scenario02-1000000-100-2.csv'\n",
    "valid_filename = 'scenario02-10000-50-2.csv'\n",
    "prod_filename  = 'scenario02-100000-250-2.csv'\n",
    "modeltrained= 'scen02-mem-210907-17-54-2048-ep200'"
   ]
  },
  {
   "cell_type": "code",
   "execution_count": 4,
   "id": "847bd412",
   "metadata": {},
   "outputs": [
    {
     "data": {
      "text/html": [
       "<div>\n",
       "<style scoped>\n",
       "    .dataframe tbody tr th:only-of-type {\n",
       "        vertical-align: middle;\n",
       "    }\n",
       "\n",
       "    .dataframe tbody tr th {\n",
       "        vertical-align: top;\n",
       "    }\n",
       "\n",
       "    .dataframe thead th {\n",
       "        text-align: right;\n",
       "    }\n",
       "</style>\n",
       "<table border=\"1\" class=\"dataframe\">\n",
       "  <thead>\n",
       "    <tr style=\"text-align: right;\">\n",
       "      <th></th>\n",
       "      <th>pods</th>\n",
       "      <th>file_descriptors</th>\n",
       "      <th>receive_packets</th>\n",
       "      <th>transmit_packets</th>\n",
       "      <th>dropped_packets</th>\n",
       "      <th>cpu_usage_seconds</th>\n",
       "      <th>cpu_throttled_seconds</th>\n",
       "      <th>memory_working_bytes</th>\n",
       "      <th>memory_usage_bytes</th>\n",
       "      <th>load</th>\n",
       "      <th>date</th>\n",
       "    </tr>\n",
       "  </thead>\n",
       "  <tbody>\n",
       "    <tr>\n",
       "      <th>0</th>\n",
       "      <td>2.0</td>\n",
       "      <td>0.0</td>\n",
       "      <td>0.2</td>\n",
       "      <td>0.0</td>\n",
       "      <td>0.0</td>\n",
       "      <td>0.000128</td>\n",
       "      <td>0.0</td>\n",
       "      <td>0.0</td>\n",
       "      <td>8.0</td>\n",
       "      <td>100</td>\n",
       "      <td>2021-09-06 22:11:42.550171</td>\n",
       "    </tr>\n",
       "    <tr>\n",
       "      <th>1</th>\n",
       "      <td>2.0</td>\n",
       "      <td>0.0</td>\n",
       "      <td>0.2</td>\n",
       "      <td>0.0</td>\n",
       "      <td>0.0</td>\n",
       "      <td>0.000128</td>\n",
       "      <td>0.0</td>\n",
       "      <td>0.0</td>\n",
       "      <td>8.0</td>\n",
       "      <td>100</td>\n",
       "      <td>2021-09-06 22:11:42.602976</td>\n",
       "    </tr>\n",
       "    <tr>\n",
       "      <th>2</th>\n",
       "      <td>2.0</td>\n",
       "      <td>0.0</td>\n",
       "      <td>0.2</td>\n",
       "      <td>0.0</td>\n",
       "      <td>0.0</td>\n",
       "      <td>0.000128</td>\n",
       "      <td>0.0</td>\n",
       "      <td>0.0</td>\n",
       "      <td>8.0</td>\n",
       "      <td>100</td>\n",
       "      <td>2021-09-06 22:11:42.659358</td>\n",
       "    </tr>\n",
       "    <tr>\n",
       "      <th>3</th>\n",
       "      <td>2.0</td>\n",
       "      <td>0.0</td>\n",
       "      <td>0.2</td>\n",
       "      <td>0.0</td>\n",
       "      <td>0.0</td>\n",
       "      <td>0.000128</td>\n",
       "      <td>0.0</td>\n",
       "      <td>0.0</td>\n",
       "      <td>8.0</td>\n",
       "      <td>100</td>\n",
       "      <td>2021-09-06 22:11:42.701646</td>\n",
       "    </tr>\n",
       "    <tr>\n",
       "      <th>4</th>\n",
       "      <td>2.0</td>\n",
       "      <td>0.0</td>\n",
       "      <td>0.2</td>\n",
       "      <td>0.0</td>\n",
       "      <td>0.0</td>\n",
       "      <td>0.000128</td>\n",
       "      <td>0.0</td>\n",
       "      <td>0.0</td>\n",
       "      <td>8.0</td>\n",
       "      <td>100</td>\n",
       "      <td>2021-09-06 22:11:42.744043</td>\n",
       "    </tr>\n",
       "  </tbody>\n",
       "</table>\n",
       "</div>"
      ],
      "text/plain": [
       "   pods  file_descriptors  receive_packets  transmit_packets  dropped_packets  \\\n",
       "0   2.0               0.0              0.2               0.0              0.0   \n",
       "1   2.0               0.0              0.2               0.0              0.0   \n",
       "2   2.0               0.0              0.2               0.0              0.0   \n",
       "3   2.0               0.0              0.2               0.0              0.0   \n",
       "4   2.0               0.0              0.2               0.0              0.0   \n",
       "\n",
       "   cpu_usage_seconds  cpu_throttled_seconds  memory_working_bytes  \\\n",
       "0           0.000128                    0.0                   0.0   \n",
       "1           0.000128                    0.0                   0.0   \n",
       "2           0.000128                    0.0                   0.0   \n",
       "3           0.000128                    0.0                   0.0   \n",
       "4           0.000128                    0.0                   0.0   \n",
       "\n",
       "   memory_usage_bytes  load                        date  \n",
       "0                 8.0   100  2021-09-06 22:11:42.550171  \n",
       "1                 8.0   100  2021-09-06 22:11:42.602976  \n",
       "2                 8.0   100  2021-09-06 22:11:42.659358  \n",
       "3                 8.0   100  2021-09-06 22:11:42.701646  \n",
       "4                 8.0   100  2021-09-06 22:11:42.744043  "
      ]
     },
     "execution_count": 4,
     "metadata": {},
     "output_type": "execute_result"
    }
   ],
   "source": [
    "train = pd.read_csv(training_filename)\n",
    "valid = pd.read_csv(valid_filename)\n",
    "prod = pd.read_csv(prod_filename)\n",
    "train.head()"
   ]
  },
  {
   "cell_type": "code",
   "execution_count": 5,
   "id": "1b068fc9",
   "metadata": {},
   "outputs": [
    {
     "data": {
      "text/plain": [
       "StandardScaler()"
      ]
     },
     "execution_count": 5,
     "metadata": {},
     "output_type": "execute_result"
    }
   ],
   "source": [
    "from sklearn.preprocessing import StandardScaler\n",
    "def parse_and_standardize(df: pd.DataFrame, scaler: StandardScaler = None):\n",
    "    df['timestamp'] = pd.to_datetime(df['date'])\n",
    "    df['stand_value'] = df['memory_working_bytes']\n",
    "    if not scaler:\n",
    "        scaler = StandardScaler()\n",
    "        scaler.fit(df['stand_value'].values.reshape(-1, 1))\n",
    "    df['stand_value'] = scaler.transform(df['stand_value'].values.reshape(-1, 1))\n",
    "    return scaler\n",
    "\n",
    "data_scaler = parse_and_standardize(train)\n",
    "parse_and_standardize(valid, data_scaler)\n",
    "\n",
    "parse_and_standardize(prod, data_scaler)"
   ]
  },
  {
   "cell_type": "code",
   "execution_count": 6,
   "id": "b1086c61",
   "metadata": {},
   "outputs": [
    {
     "data": {
      "text/plain": [
       "device(type='cuda')"
      ]
     },
     "execution_count": 6,
     "metadata": {},
     "output_type": "execute_result"
    }
   ],
   "source": [
    "device = torch.device(\"cuda\" if torch.cuda.is_available() else \"cpu\")\n",
    "device"
   ]
  },
  {
   "cell_type": "code",
   "execution_count": 7,
   "id": "9df86c3e",
   "metadata": {},
   "outputs": [],
   "source": [
    "class CPUDataset(Dataset):\n",
    "    def __init__(self, data: pd.DataFrame, size: int):\n",
    "        self.chunks = torch.FloatTensor(data['stand_value']).unfold(0, size, size)\n",
    "        \n",
    "    def __len__(self):\n",
    "        return self.chunks.size(0)\n",
    "    \n",
    "    def __getitem__(self, i):\n",
    "        x = self.chunks[i]\n",
    "        return x\n",
    "\n",
    "train_ds = CPUDataset(train, 64)\n",
    "valid_ds = CPUDataset(valid, 64)\n",
    "prod_ds  = CPUDataset(prod, 64)"
   ]
  },
  {
   "cell_type": "code",
   "execution_count": 8,
   "id": "1c85aefb",
   "metadata": {},
   "outputs": [],
   "source": [
    "class LSTMModel(nn.Module):\n",
    "    def __init__(self, in_size, hidden_size, out_size, device):\n",
    "        super().__init__()\n",
    "        self.hidden_size = hidden_size\n",
    "        self.lstm = nn.LSTM(in_size, hidden_size)\n",
    "        self.linear = nn.Linear(hidden_size, out_size)\n",
    "        self.device = device\n",
    "        self.init_hidden()\n",
    "        \n",
    "    def forward(self, x):\n",
    "        out, self.hidden_state = self.lstm(\n",
    "            x.view(len(x), 1, -1), self.hidden_state\n",
    "        )\n",
    "        self.hidden_state = tuple(\n",
    "            [h.detach() for h in self.hidden_state]\n",
    "        )\n",
    "        out = out.view(len(x), -1)\n",
    "        out = self.linear(out)\n",
    "        return out\n",
    "    \n",
    "    def init_hidden(self):\n",
    "        self.hidden_state = (\n",
    "            torch.zeros((1, 1, self.hidden_size)).to(self.device),\n",
    "            torch.zeros((1, 1, self.hidden_size)).to(self.device))"
   ]
  },
  {
   "cell_type": "code",
   "execution_count": 9,
   "id": "47fc5596",
   "metadata": {},
   "outputs": [],
   "source": [
    "train_values = train['stand_value'].values.astype(np.float32).flatten()\n",
    "valid_values = valid['stand_value'].values.astype(np.float32).flatten()\n",
    "\n",
    "prod_values  = prod['stand_value'].values.astype(np.float32).flatten()"
   ]
  },
  {
   "cell_type": "code",
   "execution_count": 10,
   "id": "fdbdac83",
   "metadata": {},
   "outputs": [],
   "source": [
    "criterion = nn.MSELoss()"
   ]
  },
  {
   "cell_type": "code",
   "execution_count": 11,
   "id": "b697e9c5",
   "metadata": {},
   "outputs": [],
   "source": [
    "model2 = torch.load(modeltrained)"
   ]
  },
  {
   "cell_type": "markdown",
   "id": "a0151ae3",
   "metadata": {},
   "source": [
    "## Evaluation mode"
   ]
  },
  {
   "cell_type": "code",
   "execution_count": 12,
   "id": "5507283b",
   "metadata": {},
   "outputs": [
    {
     "data": {
      "text/plain": [
       "LSTMModel(\n",
       "  (lstm): LSTM(1, 2048)\n",
       "  (linear): Linear(in_features=2048, out_features=1, bias=True)\n",
       ")"
      ]
     },
     "execution_count": 12,
     "metadata": {},
     "output_type": "execute_result"
    }
   ],
   "source": [
    "model2.eval()"
   ]
  },
  {
   "cell_type": "code",
   "execution_count": 13,
   "id": "02b8edd2",
   "metadata": {},
   "outputs": [],
   "source": [
    "if torch.cuda.is_available():\n",
    "   model2.cuda()"
   ]
  },
  {
   "cell_type": "code",
   "execution_count": 14,
   "id": "d014b901",
   "metadata": {},
   "outputs": [],
   "source": [
    "with torch.no_grad():\n",
    "    res_train = model2(torch.tensor(train_values).to(device))\n",
    "res_train = res_train.cpu()"
   ]
  },
  {
   "cell_type": "code",
   "execution_count": 15,
   "id": "d64fa11c",
   "metadata": {},
   "outputs": [],
   "source": [
    "with torch.no_grad():\n",
    "    res_valid = model2(torch.tensor(valid_values).to(device))\n",
    "res_valid = res_valid.cpu()"
   ]
  },
  {
   "cell_type": "code",
   "execution_count": 16,
   "id": "aa029774",
   "metadata": {},
   "outputs": [],
   "source": [
    "with torch.no_grad():\n",
    "    res_prod = model2(torch.tensor(prod_values).to(device))\n",
    "res_prod = res_prod.cpu()"
   ]
  },
  {
   "cell_type": "code",
   "execution_count": 17,
   "id": "ac86b33b",
   "metadata": {},
   "outputs": [],
   "source": [
    "def calculate_prediction_errors(target, predicted, criterion):\n",
    "    reconstruction_errors = []\n",
    "    for t, p in zip(target, predicted):\n",
    "        reconstruction_errors = np.append(\n",
    "            reconstruction_errors, \n",
    "            criterion(p, t).cpu().numpy().flatten()\n",
    "        )\n",
    "    return reconstruction_errors\n",
    "\n",
    "train_pred_errors = calculate_prediction_errors(\n",
    "    res_train.view(-1), torch.tensor(train_values).view(-1), criterion\n",
    ")\n",
    "valid_pred_errors = calculate_prediction_errors(\n",
    "    res_valid.view(-1), torch.tensor(valid_values).view(-1), criterion\n",
    ")\n",
    "\n",
    "\n",
    "\n",
    "prod_pred_errors = calculate_prediction_errors(\n",
    "    res_prod.view(-1), torch.tensor(prod_values).view(-1), criterion\n",
    ")"
   ]
  },
  {
   "cell_type": "code",
   "execution_count": 18,
   "id": "b8020564",
   "metadata": {},
   "outputs": [],
   "source": [
    "window = 30\n",
    "std_coef= 4\n",
    "\n",
    "train_pred_errors_windowed = pd.Series(train_pred_errors).rolling(window=window, min_periods=1)\n",
    "train_dynamic_threshold = train_pred_errors_windowed.mean() + std_coef * train_pred_errors_windowed.std()\n",
    "\n",
    "valid_pred_errors_windowed = pd.Series(valid_pred_errors).rolling(window=window, min_periods=1)\n",
    "valid_dynamic_threshold = valid_pred_errors_windowed.mean() + std_coef * valid_pred_errors_windowed.std()\n",
    "\n",
    "\n",
    "prod_pred_errors_windowed = pd.Series(prod_pred_errors).rolling(window=window, min_periods=1)\n",
    "prod_dynamic_threshold = prod_pred_errors_windowed.mean() + std_coef * prod_pred_errors_windowed.std()"
   ]
  },
  {
   "cell_type": "code",
   "execution_count": 19,
   "id": "140b5fb0",
   "metadata": {},
   "outputs": [],
   "source": [
    "from sklearn.metrics import precision_recall_fscore_support\n",
    "\n",
    "def calculate_metrics(\n",
    "    ground_truth: pd.DataFrame, anomalies_idxs: list\n",
    "    ):\n",
    "    predictions = pd.DataFrame(\n",
    "        index=range(len(ground_truth)), \n",
    "        columns=['anomaly_predicted']\n",
    "    )\n",
    "    predictions['anomaly_predicted'] = 0\n",
    "    predictions.iloc[anomalies_idxs] = 1\n",
    "    \n",
    "    # Calculation of the confusion matrix can be done using pandas\n",
    "    confusion_matrix = pd.crosstab(\n",
    "        ground_truth.loc[:, 'anomaly_label'],\n",
    "        predictions['anomaly_predicted'], \n",
    "        margins=True\n",
    "    )\n",
    "    precision, recall, f1, _ = precision_recall_fscore_support(\n",
    "        ground_truth.loc[:, 'anomaly_label'],\n",
    "        predictions['anomaly_predicted'], \n",
    "        beta=2., \n",
    "        average='binary'\n",
    "    )\n",
    "    return confusion_matrix, precision, recall, f1"
   ]
  },
  {
   "cell_type": "code",
   "execution_count": 20,
   "id": "ef7ffdb9",
   "metadata": {},
   "outputs": [],
   "source": [
    "from typing import Union\n",
    "def detect_anomalies( result: torch.Tensor, dataset: CPUDataset, threshold: Union[float, pd.Series], n_factors: int = 0):\n",
    "    anomalies_idxs = []\n",
    "    for i in range(len(dataset)):\n",
    "        if type(threshold) == pd.Series:\n",
    "            is_anomaly = (criterion(result[i], dataset[i]) > threshold[i])\n",
    "        else:\n",
    "            is_anomaly = (criterion(result[i], dataset[i]) > threshold)\n",
    "        if is_anomaly:\n",
    "            anomalies_idxs.append(i + n_factors)\n",
    "    return anomalies_idxs"
   ]
  },
  {
   "cell_type": "code",
   "execution_count": 21,
   "id": "2a01cede",
   "metadata": {},
   "outputs": [
    {
     "name": "stderr",
     "output_type": "stream",
     "text": [
      "/home/peter/anaconda3/envs/otumba/lib/python3.6/site-packages/torch/nn/modules/loss.py:446: UserWarning:\n",
      "\n",
      "Using a target size (torch.Size([])) that is different to the input size (torch.Size([1])). This will likely lead to incorrect results due to broadcasting. Please ensure they have the same size.\n",
      "\n"
     ]
    }
   ],
   "source": [
    "train_anomalies_idxs = detect_anomalies(res_train, torch.tensor(train_values), train_dynamic_threshold)\n",
    "valid_anomalies_idxs = detect_anomalies(res_valid, torch.tensor(valid_values), valid_dynamic_threshold)\n",
    "\n",
    "prod_anomalies_idxs  = detect_anomalies(res_prod, torch.tensor(prod_values), prod_dynamic_threshold)"
   ]
  },
  {
   "cell_type": "code",
   "execution_count": 22,
   "id": "d890f0b9",
   "metadata": {},
   "outputs": [
    {
     "data": {
      "text/plain": [
       "2715"
      ]
     },
     "execution_count": 22,
     "metadata": {},
     "output_type": "execute_result"
    }
   ],
   "source": [
    "train_anomalies_idxs \n",
    "len(train_anomalies_idxs)"
   ]
  },
  {
   "cell_type": "code",
   "execution_count": 23,
   "id": "801b1008",
   "metadata": {},
   "outputs": [
    {
     "data": {
      "text/plain": [
       "8"
      ]
     },
     "execution_count": 23,
     "metadata": {},
     "output_type": "execute_result"
    }
   ],
   "source": [
    "valid_anomalies_idxs\n",
    "len(valid_anomalies_idxs)"
   ]
  },
  {
   "cell_type": "code",
   "execution_count": 24,
   "id": "5f59724c",
   "metadata": {},
   "outputs": [
    {
     "data": {
      "text/plain": [
       "135"
      ]
     },
     "execution_count": 24,
     "metadata": {},
     "output_type": "execute_result"
    }
   ],
   "source": [
    "prod_anomalies_idxs\n",
    "len(prod_anomalies_idxs)"
   ]
  },
  {
   "cell_type": "code",
   "execution_count": 25,
   "id": "cc4d3e26",
   "metadata": {},
   "outputs": [
    {
     "data": {
      "image/png": "[encoded data removed]",
      "text/plain": [
       "<Figure size 1296x720 with 1 Axes>"
      ]
     },
     "metadata": {
      "needs_background": "light"
     },
     "output_type": "display_data"
    }
   ],
   "source": [
    "import matplotlib.pyplot as plt\n",
    "f = plt.figure()\n",
    "f.set_figwidth(18)\n",
    "f.set_figheight(10)\n",
    "plt.plot(res_train, color = 'red', label = 'Prediction Training LSTM')\n",
    "plt.plot(res_valid, color = 'blue', label = 'Prediction Test LSTM')\n",
    "plt.plot(res_prod, color = 'cyan', label = 'Prediction Prod LSTM')\n",
    "plt.title(\"memory_working_bytes\")\n",
    "plt.xlabel(\"Fecha\")\n",
    "plt.ylabel(\"Mem\")\n",
    "plt.legend()\n",
    "plt.show()"
   ]
  },
  {
   "cell_type": "markdown",
   "id": "292e0427",
   "metadata": {},
   "source": [
    "##### "
   ]
  }
 ],
 "metadata": {
  "kernelspec": {
   "display_name": "otumba",
   "language": "python",
   "name": "otumba"
  },
  "language_info": {
   "codemirror_mode": {
    "name": "ipython",
    "version": 3
   },
   "file_extension": ".py",
   "mimetype": "text/x-python",
   "name": "python",
   "nbconvert_exporter": "python",
   "pygments_lexer": "ipython3",
   "version": "3.6.13"
  }
 },
 "nbformat": 4,
 "nbformat_minor": 5
}
