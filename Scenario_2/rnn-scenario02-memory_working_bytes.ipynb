{
 "cells": [
  {
   "cell_type": "markdown",
   "metadata": {},
   "source": [
    "## RNN SCENARIO 2 POD Microservice"
   ]
  },
  {
   "cell_type": "code",
   "execution_count": 1,
   "metadata": {},
   "outputs": [],
   "source": [
    "#pip install plotly==5.1.0\n",
    "#at command line execute: \n",
    "# conda activate otumba\n",
    "# conda install scikit-learn scipy matplotlib\n",
    "# conda install nbformat\n",
    "# conda install tqdm"
   ]
  },
  {
   "cell_type": "code",
   "execution_count": 2,
   "metadata": {},
   "outputs": [],
   "source": [
    "import plotly.graph_objects as go \n",
    "import numpy as np \n",
    "import pandas as pd "
   ]
  },
  {
   "cell_type": "code",
   "execution_count": 3,
   "metadata": {},
   "outputs": [],
   "source": [
    "training_filename = 'scenario02-1000000-100-2.csv'\n",
    "valid_filename = 'scenario02-10000-50-2.csv'\n",
    "# Data from production\n",
    "#prod_filename  = 'dataset_10000_500_2.csv'\n",
    "prod_filename  = 'scenario02-10000-100-2.csv'"
   ]
  },
  {
   "cell_type": "code",
   "execution_count": 4,
   "metadata": {},
   "outputs": [
    {
     "data": {
      "text/html": [
       "<div>\n",
       "<style scoped>\n",
       "    .dataframe tbody tr th:only-of-type {\n",
       "        vertical-align: middle;\n",
       "    }\n",
       "\n",
       "    .dataframe tbody tr th {\n",
       "        vertical-align: top;\n",
       "    }\n",
       "\n",
       "    .dataframe thead th {\n",
       "        text-align: right;\n",
       "    }\n",
       "</style>\n",
       "<table border=\"1\" class=\"dataframe\">\n",
       "  <thead>\n",
       "    <tr style=\"text-align: right;\">\n",
       "      <th></th>\n",
       "      <th>pods</th>\n",
       "      <th>file_descriptors</th>\n",
       "      <th>receive_packets</th>\n",
       "      <th>transmit_packets</th>\n",
       "      <th>dropped_packets</th>\n",
       "      <th>cpu_usage_seconds</th>\n",
       "      <th>cpu_throttled_seconds</th>\n",
       "      <th>memory_working_bytes</th>\n",
       "      <th>memory_usage_bytes</th>\n",
       "      <th>load</th>\n",
       "      <th>date</th>\n",
       "    </tr>\n",
       "  </thead>\n",
       "  <tbody>\n",
       "    <tr>\n",
       "      <th>0</th>\n",
       "      <td>2.0</td>\n",
       "      <td>0.0</td>\n",
       "      <td>0.2</td>\n",
       "      <td>0.0</td>\n",
       "      <td>0.0</td>\n",
       "      <td>0.000128</td>\n",
       "      <td>0.0</td>\n",
       "      <td>0.0</td>\n",
       "      <td>8.0</td>\n",
       "      <td>100</td>\n",
       "      <td>2021-09-06 22:11:42.550171</td>\n",
       "    </tr>\n",
       "    <tr>\n",
       "      <th>1</th>\n",
       "      <td>2.0</td>\n",
       "      <td>0.0</td>\n",
       "      <td>0.2</td>\n",
       "      <td>0.0</td>\n",
       "      <td>0.0</td>\n",
       "      <td>0.000128</td>\n",
       "      <td>0.0</td>\n",
       "      <td>0.0</td>\n",
       "      <td>8.0</td>\n",
       "      <td>100</td>\n",
       "      <td>2021-09-06 22:11:42.602976</td>\n",
       "    </tr>\n",
       "    <tr>\n",
       "      <th>2</th>\n",
       "      <td>2.0</td>\n",
       "      <td>0.0</td>\n",
       "      <td>0.2</td>\n",
       "      <td>0.0</td>\n",
       "      <td>0.0</td>\n",
       "      <td>0.000128</td>\n",
       "      <td>0.0</td>\n",
       "      <td>0.0</td>\n",
       "      <td>8.0</td>\n",
       "      <td>100</td>\n",
       "      <td>2021-09-06 22:11:42.659358</td>\n",
       "    </tr>\n",
       "    <tr>\n",
       "      <th>3</th>\n",
       "      <td>2.0</td>\n",
       "      <td>0.0</td>\n",
       "      <td>0.2</td>\n",
       "      <td>0.0</td>\n",
       "      <td>0.0</td>\n",
       "      <td>0.000128</td>\n",
       "      <td>0.0</td>\n",
       "      <td>0.0</td>\n",
       "      <td>8.0</td>\n",
       "      <td>100</td>\n",
       "      <td>2021-09-06 22:11:42.701646</td>\n",
       "    </tr>\n",
       "    <tr>\n",
       "      <th>4</th>\n",
       "      <td>2.0</td>\n",
       "      <td>0.0</td>\n",
       "      <td>0.2</td>\n",
       "      <td>0.0</td>\n",
       "      <td>0.0</td>\n",
       "      <td>0.000128</td>\n",
       "      <td>0.0</td>\n",
       "      <td>0.0</td>\n",
       "      <td>8.0</td>\n",
       "      <td>100</td>\n",
       "      <td>2021-09-06 22:11:42.744043</td>\n",
       "    </tr>\n",
       "  </tbody>\n",
       "</table>\n",
       "</div>"
      ],
      "text/plain": [
       "   pods  file_descriptors  receive_packets  transmit_packets  dropped_packets  \\\n",
       "0   2.0               0.0              0.2               0.0              0.0   \n",
       "1   2.0               0.0              0.2               0.0              0.0   \n",
       "2   2.0               0.0              0.2               0.0              0.0   \n",
       "3   2.0               0.0              0.2               0.0              0.0   \n",
       "4   2.0               0.0              0.2               0.0              0.0   \n",
       "\n",
       "   cpu_usage_seconds  cpu_throttled_seconds  memory_working_bytes  \\\n",
       "0           0.000128                    0.0                   0.0   \n",
       "1           0.000128                    0.0                   0.0   \n",
       "2           0.000128                    0.0                   0.0   \n",
       "3           0.000128                    0.0                   0.0   \n",
       "4           0.000128                    0.0                   0.0   \n",
       "\n",
       "   memory_usage_bytes  load                        date  \n",
       "0                 8.0   100  2021-09-06 22:11:42.550171  \n",
       "1                 8.0   100  2021-09-06 22:11:42.602976  \n",
       "2                 8.0   100  2021-09-06 22:11:42.659358  \n",
       "3                 8.0   100  2021-09-06 22:11:42.701646  \n",
       "4                 8.0   100  2021-09-06 22:11:42.744043  "
      ]
     },
     "execution_count": 4,
     "metadata": {},
     "output_type": "execute_result"
    }
   ],
   "source": [
    "train = pd.read_csv(training_filename)\n",
    "valid = pd.read_csv(valid_filename)\n",
    "prod = pd.read_csv(prod_filename)\n",
    "train.head()"
   ]
  },
  {
   "cell_type": "markdown",
   "metadata": {},
   "source": [
    "# Standardize Data"
   ]
  },
  {
   "cell_type": "code",
   "execution_count": 5,
   "metadata": {},
   "outputs": [
    {
     "data": {
      "text/plain": [
       "StandardScaler()"
      ]
     },
     "execution_count": 5,
     "metadata": {},
     "output_type": "execute_result"
    }
   ],
   "source": [
    "from sklearn.preprocessing import StandardScaler\n",
    "def parse_and_standardize(df: pd.DataFrame, scaler: StandardScaler = None):\n",
    "    df['timestamp'] = pd.to_datetime(df['date'])\n",
    "    df['stand_value'] = df['memory_working_bytes']\n",
    "    if not scaler:\n",
    "        scaler = StandardScaler()\n",
    "        scaler.fit(df['stand_value'].values.reshape(-1, 1))\n",
    "    df['stand_value'] = scaler.transform(df['stand_value'].values.reshape(-1, 1))\n",
    "    return scaler\n",
    "\n",
    "data_scaler = parse_and_standardize(train)\n",
    "parse_and_standardize(valid, data_scaler)\n",
    "\n",
    "parse_and_standardize(prod, data_scaler)"
   ]
  },
  {
   "cell_type": "code",
   "execution_count": 6,
   "metadata": {},
   "outputs": [],
   "source": [
    "#layout = dict(xaxis=dict(title='Timestamp'), yaxis=dict(title='memory_working_bytes')) \n",
    "#fig = go.Figure(layout=layout) \n",
    "#fig.add_trace(go.Scatter(x=train['timestamp'], y=train['memory_working_bytes'], \n",
    "#                         mode='markers', name='Train Non-anomaly',\n",
    "#                         marker=dict(color='blue')))"
   ]
  },
  {
   "cell_type": "code",
   "execution_count": 7,
   "metadata": {},
   "outputs": [],
   "source": [
    "#fig = go.Figure()\n",
    "#fig.add_trace(go.Scatter(x=valid['timestamp'], y=valid['memory_working_bytes'], \n",
    "#                         mode='markers', name='Valid Non-anomaly',\n",
    "#                         marker=dict(color='blue')))"
   ]
  },
  {
   "cell_type": "markdown",
   "metadata": {},
   "source": [
    "## LSTM Long Short-Term Memory"
   ]
  },
  {
   "cell_type": "code",
   "execution_count": 8,
   "metadata": {},
   "outputs": [],
   "source": [
    "import torch \n",
    "import torch.nn as nn\n",
    "import torch.optim as opt\n",
    "from tqdm import tqdm\n",
    "from torch.utils.data import Dataset, DataLoader "
   ]
  },
  {
   "cell_type": "code",
   "execution_count": 9,
   "metadata": {},
   "outputs": [],
   "source": [
    "device = torch.device('cuda' if torch.cuda.is_available() else 'cpu')"
   ]
  },
  {
   "cell_type": "code",
   "execution_count": 10,
   "metadata": {},
   "outputs": [],
   "source": [
    "class CPUDataset(Dataset):\n",
    "    def __init__(self, data: pd.DataFrame, size: int):\n",
    "        self.chunks = torch.FloatTensor(data['stand_value']).unfold(0, size, size)\n",
    "        \n",
    "    def __len__(self):\n",
    "        return self.chunks.size(0)\n",
    "    \n",
    "    def __getitem__(self, i):\n",
    "        x = self.chunks[i]\n",
    "        return x\n",
    "\n",
    "train_ds = CPUDataset(train, 64)\n",
    "valid_ds = CPUDataset(valid, 64)\n",
    "prod_ds  = CPUDataset(prod, 64)"
   ]
  },
  {
   "cell_type": "code",
   "execution_count": 11,
   "metadata": {},
   "outputs": [],
   "source": [
    "class LSTMModel(nn.Module):\n",
    "    def __init__(self, in_size, hidden_size, out_size, device):\n",
    "        super().__init__()\n",
    "        self.hidden_size = hidden_size\n",
    "        self.lstm = nn.LSTM(in_size, hidden_size)\n",
    "        self.linear = nn.Linear(hidden_size, out_size)\n",
    "        self.device = device\n",
    "        self.init_hidden()\n",
    "        \n",
    "    def forward(self, x):\n",
    "        out, self.hidden_state = self.lstm(\n",
    "            x.view(len(x), 1, -1), self.hidden_state\n",
    "        )\n",
    "        self.hidden_state = tuple(\n",
    "            [h.detach() for h in self.hidden_state]\n",
    "        )\n",
    "        out = out.view(len(x), -1)\n",
    "        out = self.linear(out)\n",
    "        return out\n",
    "    \n",
    "    def init_hidden(self):\n",
    "        self.hidden_state = (\n",
    "            torch.zeros((1, 1, self.hidden_size)).to(self.device),\n",
    "            torch.zeros((1, 1, self.hidden_size)).to(self.device))"
   ]
  },
  {
   "cell_type": "code",
   "execution_count": 12,
   "metadata": {},
   "outputs": [],
   "source": [
    "def train_model(model: LSTMModel, dataloaders: dict, optimizer: opt.Optimizer, \n",
    "                scheduler, criterion, device: torch.device, epochs: int):\n",
    "    losses_data = {'train': [], 'valid': []}\n",
    "    model.to(device)\n",
    "    for epoch in tqdm(range(epochs)):\n",
    "        print(f'Epoch {epoch}/{epochs-1}')\n",
    "        for phase in ['train', 'valid']:\n",
    "            if phase == 'train':\n",
    "                model.train()\n",
    "            else:\n",
    "                model.eval()\n",
    "\n",
    "            running_loss = 0.\n",
    "            running_total = 0.\n",
    "            \n",
    "        # Here changes start\n",
    "            for idx, sequence in enumerate(dataloaders[phase]):\n",
    "                value = sequence\n",
    "                value = value.to(device)\n",
    "\n",
    "                optimizer.zero_grad()\n",
    "\n",
    "                with torch.set_grad_enabled(phase == 'train'):\n",
    "                    out = model(value.view(-1, 1))\n",
    "                    loss = criterion(out.view(-1), value.view(-1))\n",
    "        # Here changes end\n",
    "\n",
    "                    if phase == 'train':\n",
    "                        loss.backward()\n",
    "                        optimizer.step()\n",
    "                        scheduler.step()\n",
    "\n",
    "                running_loss += loss.item() * out.size(0)\n",
    "                running_total += out.size(0)\n",
    "\n",
    "            epoch_loss = running_loss / running_total\n",
    "            print(f'{phase.capitalize()} Loss: {epoch_loss}')\n",
    "            losses_data[phase].append(epoch_loss)\n",
    "    return losses_data"
   ]
  },
  {
   "cell_type": "code",
   "execution_count": 13,
   "metadata": {},
   "outputs": [
    {
     "data": {
      "text/plain": [
       "device(type='cuda')"
      ]
     },
     "execution_count": 13,
     "metadata": {},
     "output_type": "execute_result"
    }
   ],
   "source": [
    "epochs = 200\n",
    "#model = LSTMModel(1, 512, 1, device)\n",
    "model = LSTMModel(1, 4096, 1, device)\n",
    "dataloaders = {\n",
    "    'train': DataLoader(train_ds, batch_size=1),\n",
    "    'valid': DataLoader(valid_ds, batch_size=1)\n",
    "}\n",
    "optim = opt.Adam(params=model.parameters(), lr=1e-3)\n",
    "sched = opt.lr_scheduler.OneCycleLR(\n",
    "  optimizer=optim, max_lr=1e-3, steps_per_epoch=len(dataloaders['train']), epochs=epochs\n",
    ")\n",
    "criterion = nn.MSELoss()\n",
    "device = torch.device(\"cuda\" if torch.cuda.is_available() else \"cpu\")\n",
    "device"
   ]
  },
  {
   "cell_type": "code",
   "execution_count": 14,
   "metadata": {},
   "outputs": [
    {
     "name": "stderr",
     "output_type": "stream",
     "text": [
      "\r",
      "  0%|          | 0/200 [00:00<?, ?it/s]"
     ]
    },
    {
     "name": "stdout",
     "output_type": "stream",
     "text": [
      "Epoch 0/199\n"
     ]
    },
    {
     "name": "stderr",
     "output_type": "stream",
     "text": [
      "\r",
      "  0%|          | 1/200 [01:43<5:44:38, 103.91s/it]"
     ]
    },
    {
     "name": "stdout",
     "output_type": "stream",
     "text": [
      "Train Loss: 1.0027877794670097\n",
      "Valid Loss: 0.028573451430669854\n",
      "Epoch 1/199\n"
     ]
    },
    {
     "name": "stderr",
     "output_type": "stream",
     "text": [
      "\r",
      "  1%|          | 2/200 [03:29<5:45:32, 104.71s/it]"
     ]
    },
    {
     "name": "stdout",
     "output_type": "stream",
     "text": [
      "Train Loss: 0.022057466586971886\n",
      "Valid Loss: 0.01762007105363799\n",
      "Epoch 2/199\n"
     ]
    },
    {
     "name": "stderr",
     "output_type": "stream",
     "text": [
      "\r",
      "  2%|▏         | 3/200 [05:12<5:42:00, 104.17s/it]"
     ]
    },
    {
     "name": "stdout",
     "output_type": "stream",
     "text": [
      "Train Loss: 0.016344830337914867\n",
      "Valid Loss: 0.012710572153862034\n",
      "Epoch 3/199\n"
     ]
    },
    {
     "name": "stderr",
     "output_type": "stream",
     "text": [
      "\r",
      "  2%|▏         | 4/200 [06:56<5:39:29, 103.92s/it]"
     ]
    },
    {
     "name": "stdout",
     "output_type": "stream",
     "text": [
      "Train Loss: 0.0206242553881041\n",
      "Valid Loss: 0.008880964068729165\n",
      "Epoch 4/199\n"
     ]
    },
    {
     "name": "stderr",
     "output_type": "stream",
     "text": [
      "\r",
      "  2%|▎         | 5/200 [08:39<5:37:14, 103.77s/it]"
     ]
    },
    {
     "name": "stdout",
     "output_type": "stream",
     "text": [
      "Train Loss: 0.007268350935356344\n",
      "Valid Loss: 0.005080952044019276\n",
      "Epoch 5/199\n"
     ]
    },
    {
     "name": "stderr",
     "output_type": "stream",
     "text": [
      "\r",
      "  3%|▎         | 6/200 [10:23<5:35:16, 103.69s/it]"
     ]
    },
    {
     "name": "stdout",
     "output_type": "stream",
     "text": [
      "Train Loss: 0.003338904208710354\n",
      "Valid Loss: 0.0032668741436542143\n",
      "Epoch 6/199\n"
     ]
    },
    {
     "name": "stderr",
     "output_type": "stream",
     "text": [
      "\r",
      "  4%|▎         | 7/200 [12:06<5:33:24, 103.65s/it]"
     ]
    },
    {
     "name": "stdout",
     "output_type": "stream",
     "text": [
      "Train Loss: 0.003129418618331124\n",
      "Valid Loss: 0.0017440703647610331\n",
      "Epoch 7/199\n"
     ]
    },
    {
     "name": "stderr",
     "output_type": "stream",
     "text": [
      "\r",
      "  4%|▍         | 8/200 [13:50<5:31:33, 103.61s/it]"
     ]
    },
    {
     "name": "stdout",
     "output_type": "stream",
     "text": [
      "Train Loss: 0.0017318568056466398\n",
      "Valid Loss: 0.0015334301382868684\n",
      "Epoch 8/199\n"
     ]
    },
    {
     "name": "stderr",
     "output_type": "stream",
     "text": [
      "\r",
      "  4%|▍         | 9/200 [15:33<5:29:44, 103.58s/it]"
     ]
    },
    {
     "name": "stdout",
     "output_type": "stream",
     "text": [
      "Train Loss: 0.0013098951751341985\n",
      "Valid Loss: 0.000631596236157098\n",
      "Epoch 9/199\n"
     ]
    },
    {
     "name": "stderr",
     "output_type": "stream",
     "text": [
      "\r",
      "  5%|▌         | 10/200 [17:17<5:27:58, 103.57s/it]"
     ]
    },
    {
     "name": "stdout",
     "output_type": "stream",
     "text": [
      "Train Loss: 0.001066849487072256\n",
      "Valid Loss: 0.00017260508359738327\n",
      "Epoch 10/199\n"
     ]
    },
    {
     "name": "stderr",
     "output_type": "stream",
     "text": [
      "\r",
      "  6%|▌         | 11/200 [19:00<5:26:12, 103.56s/it]"
     ]
    },
    {
     "name": "stdout",
     "output_type": "stream",
     "text": [
      "Train Loss: 0.0014723849723882135\n",
      "Valid Loss: 0.00036700732640123794\n",
      "Epoch 11/199\n"
     ]
    },
    {
     "name": "stderr",
     "output_type": "stream",
     "text": [
      "\r",
      "  6%|▌         | 12/200 [20:44<5:24:24, 103.54s/it]"
     ]
    },
    {
     "name": "stdout",
     "output_type": "stream",
     "text": [
      "Train Loss: 0.0021471211009427504\n",
      "Valid Loss: 0.00018838181650997804\n",
      "Epoch 12/199\n"
     ]
    },
    {
     "name": "stderr",
     "output_type": "stream",
     "text": [
      "\r",
      "  6%|▋         | 13/200 [22:28<5:22:41, 103.54s/it]"
     ]
    },
    {
     "name": "stdout",
     "output_type": "stream",
     "text": [
      "Train Loss: 0.0014297705489002372\n",
      "Valid Loss: 0.0024865929756612915\n",
      "Epoch 13/199\n"
     ]
    },
    {
     "name": "stderr",
     "output_type": "stream",
     "text": [
      "\r",
      "  7%|▋         | 14/200 [24:11<5:20:57, 103.54s/it]"
     ]
    },
    {
     "name": "stdout",
     "output_type": "stream",
     "text": [
      "Train Loss: 0.0009699176550373187\n",
      "Valid Loss: 0.0010725919148951238\n",
      "Epoch 14/199\n"
     ]
    },
    {
     "name": "stderr",
     "output_type": "stream",
     "text": [
      "\r",
      "  8%|▊         | 15/200 [25:55<5:19:11, 103.52s/it]"
     ]
    },
    {
     "name": "stdout",
     "output_type": "stream",
     "text": [
      "Train Loss: 0.0010312949383374168\n",
      "Valid Loss: 0.0012098351560000861\n",
      "Epoch 15/199\n"
     ]
    },
    {
     "name": "stderr",
     "output_type": "stream",
     "text": [
      "\r",
      "  8%|▊         | 16/200 [27:38<5:17:29, 103.53s/it]"
     ]
    },
    {
     "name": "stdout",
     "output_type": "stream",
     "text": [
      "Train Loss: 1.4645209846772862\n",
      "Valid Loss: 0.8992869383655488\n",
      "Epoch 16/199\n"
     ]
    },
    {
     "name": "stderr",
     "output_type": "stream",
     "text": [
      "\r",
      "  8%|▊         | 17/200 [29:21<5:15:23, 103.40s/it]"
     ]
    },
    {
     "name": "stdout",
     "output_type": "stream",
     "text": [
      "Train Loss: 1.8153753574356737\n",
      "Valid Loss: 0.9209896296794925\n",
      "Epoch 17/199\n"
     ]
    },
    {
     "name": "stderr",
     "output_type": "stream",
     "text": [
      "\r",
      "  9%|▉         | 18/200 [31:04<5:13:34, 103.37s/it]"
     ]
    },
    {
     "name": "stdout",
     "output_type": "stream",
     "text": [
      "Train Loss: 1.8378833364496658\n",
      "Valid Loss: 1.0856161434203386\n",
      "Epoch 18/199\n"
     ]
    },
    {
     "name": "stderr",
     "output_type": "stream",
     "text": [
      "\r",
      " 10%|▉         | 19/200 [32:48<5:11:37, 103.30s/it]"
     ]
    },
    {
     "name": "stdout",
     "output_type": "stream",
     "text": [
      "Train Loss: 1.8823324607578047\n",
      "Valid Loss: 1.021671190591795\n",
      "Epoch 19/199\n"
     ]
    },
    {
     "name": "stderr",
     "output_type": "stream",
     "text": [
      "\r",
      " 10%|█         | 20/200 [34:31<5:09:50, 103.28s/it]"
     ]
    },
    {
     "name": "stdout",
     "output_type": "stream",
     "text": [
      "Train Loss: 1.9128222953506726\n",
      "Valid Loss: 0.8113542635525975\n",
      "Epoch 20/199\n"
     ]
    },
    {
     "name": "stderr",
     "output_type": "stream",
     "text": [
      "\r",
      " 10%|█         | 21/200 [36:14<5:08:02, 103.25s/it]"
     ]
    },
    {
     "name": "stdout",
     "output_type": "stream",
     "text": [
      "Train Loss: 1.9226171584969487\n",
      "Valid Loss: 0.5878867671958038\n",
      "Epoch 21/199\n"
     ]
    },
    {
     "name": "stderr",
     "output_type": "stream",
     "text": [
      "\r",
      " 11%|█         | 22/200 [37:57<5:06:13, 103.22s/it]"
     ]
    },
    {
     "name": "stdout",
     "output_type": "stream",
     "text": [
      "Train Loss: 1.9183931562776513\n",
      "Valid Loss: 0.4463673382997513\n",
      "Epoch 22/199\n"
     ]
    },
    {
     "name": "stderr",
     "output_type": "stream",
     "text": [
      "\r",
      " 12%|█▏        | 23/200 [39:40<5:04:25, 103.19s/it]"
     ]
    },
    {
     "name": "stdout",
     "output_type": "stream",
     "text": [
      "Train Loss: 1.9261314748469127\n",
      "Valid Loss: 0.4377908161176102\n",
      "Epoch 23/199\n"
     ]
    },
    {
     "name": "stderr",
     "output_type": "stream",
     "text": [
      "\r",
      " 12%|█▏        | 24/200 [41:23<5:02:39, 103.18s/it]"
     ]
    },
    {
     "name": "stdout",
     "output_type": "stream",
     "text": [
      "Train Loss: 1.9576285110364893\n",
      "Valid Loss: 0.6120144320385796\n",
      "Epoch 24/199\n"
     ]
    },
    {
     "name": "stderr",
     "output_type": "stream",
     "text": [
      "\r",
      " 12%|█▎        | 25/200 [43:07<5:00:53, 103.16s/it]"
     ]
    },
    {
     "name": "stdout",
     "output_type": "stream",
     "text": [
      "Train Loss: 1.9989483313896177\n",
      "Valid Loss: 1.0341962158147777\n",
      "Epoch 25/199\n"
     ]
    },
    {
     "name": "stderr",
     "output_type": "stream",
     "text": [
      "\r",
      " 13%|█▎        | 26/200 [44:50<4:59:08, 103.16s/it]"
     ]
    },
    {
     "name": "stdout",
     "output_type": "stream",
     "text": [
      "Train Loss: 2.0305682750502103\n",
      "Valid Loss: 1.5013592668942042\n",
      "Epoch 26/199\n"
     ]
    },
    {
     "name": "stderr",
     "output_type": "stream",
     "text": [
      "\r",
      " 14%|█▎        | 27/200 [46:33<4:57:31, 103.19s/it]"
     ]
    },
    {
     "name": "stdout",
     "output_type": "stream",
     "text": [
      "Train Loss: 2.035587831756168\n",
      "Valid Loss: 1.3703456372022629\n",
      "Epoch 27/199\n"
     ]
    },
    {
     "name": "stderr",
     "output_type": "stream",
     "text": [
      "\r",
      " 14%|█▍        | 28/200 [48:16<4:55:45, 103.17s/it]"
     ]
    },
    {
     "name": "stdout",
     "output_type": "stream",
     "text": [
      "Train Loss: 1.9996911771396535\n",
      "Valid Loss: 0.5040124974080494\n",
      "Epoch 28/199\n"
     ]
    },
    {
     "name": "stderr",
     "output_type": "stream",
     "text": [
      "\r",
      " 14%|█▍        | 29/200 [49:59<4:54:07, 103.20s/it]"
     ]
    },
    {
     "name": "stdout",
     "output_type": "stream",
     "text": [
      "Train Loss: 1.9075778433431754\n",
      "Valid Loss: 0.3768598163733259\n",
      "Epoch 29/199\n"
     ]
    },
    {
     "name": "stderr",
     "output_type": "stream",
     "text": [
      "\r",
      " 15%|█▌        | 30/200 [51:43<4:52:28, 103.23s/it]"
     ]
    },
    {
     "name": "stdout",
     "output_type": "stream",
     "text": [
      "Train Loss: 1.75356631685582\n",
      "Valid Loss: 1.7431465259620122\n",
      "Epoch 30/199\n"
     ]
    },
    {
     "name": "stderr",
     "output_type": "stream",
     "text": [
      "\r",
      " 16%|█▌        | 31/200 [53:26<4:50:39, 103.19s/it]"
     ]
    },
    {
     "name": "stdout",
     "output_type": "stream",
     "text": [
      "Train Loss: 1.5781271165515562\n",
      "Valid Loss: 2.7114317502294267\n",
      "Epoch 31/199\n"
     ]
    },
    {
     "name": "stderr",
     "output_type": "stream",
     "text": [
      "\r",
      " 16%|█▌        | 32/200 [55:09<4:48:53, 103.18s/it]"
     ]
    },
    {
     "name": "stdout",
     "output_type": "stream",
     "text": [
      "Train Loss: 1.4405005009162684\n",
      "Valid Loss: 2.288073173591069\n",
      "Epoch 32/199\n"
     ]
    },
    {
     "name": "stderr",
     "output_type": "stream",
     "text": [
      "\r",
      " 16%|█▋        | 33/200 [56:52<4:47:07, 103.16s/it]"
     ]
    },
    {
     "name": "stdout",
     "output_type": "stream",
     "text": [
      "Train Loss: 1.32924653833048\n",
      "Valid Loss: 1.4232975925718034\n",
      "Epoch 33/199\n"
     ]
    },
    {
     "name": "stderr",
     "output_type": "stream",
     "text": [
      "\r",
      " 17%|█▋        | 34/200 [58:36<4:46:04, 103.40s/it]"
     ]
    },
    {
     "name": "stdout",
     "output_type": "stream",
     "text": [
      "Train Loss: 1.2072455709778889\n",
      "Valid Loss: 0.8154769646269935\n",
      "Epoch 34/199\n"
     ]
    },
    {
     "name": "stderr",
     "output_type": "stream",
     "text": [
      "\r",
      " 18%|█▊        | 35/200 [1:00:20<4:44:29, 103.45s/it]"
     ]
    },
    {
     "name": "stdout",
     "output_type": "stream",
     "text": [
      "Train Loss: 1.0887629583629896\n",
      "Valid Loss: 0.43948953449060874\n",
      "Epoch 35/199\n"
     ]
    },
    {
     "name": "stderr",
     "output_type": "stream",
     "text": [
      "\r",
      " 18%|█▊        | 36/200 [1:02:03<4:42:53, 103.50s/it]"
     ]
    },
    {
     "name": "stdout",
     "output_type": "stream",
     "text": [
      "Train Loss: 0.9899742635287163\n",
      "Valid Loss: 0.23654151904130621\n",
      "Epoch 36/199\n"
     ]
    },
    {
     "name": "stderr",
     "output_type": "stream",
     "text": [
      "\r",
      " 18%|█▊        | 37/200 [1:03:47<4:41:17, 103.55s/it]"
     ]
    },
    {
     "name": "stdout",
     "output_type": "stream",
     "text": [
      "Train Loss: 0.9263535107175166\n",
      "Valid Loss: 0.2513764293066093\n",
      "Epoch 37/199\n"
     ]
    },
    {
     "name": "stderr",
     "output_type": "stream",
     "text": [
      "\r",
      " 19%|█▉        | 38/200 [1:05:30<4:39:20, 103.46s/it]"
     ]
    },
    {
     "name": "stdout",
     "output_type": "stream",
     "text": [
      "Train Loss: 0.9049059683097033\n",
      "Valid Loss: 0.29356323315628935\n",
      "Epoch 38/199\n"
     ]
    },
    {
     "name": "stderr",
     "output_type": "stream",
     "text": [
      "\r",
      " 20%|█▉        | 39/200 [1:07:13<4:37:20, 103.36s/it]"
     ]
    },
    {
     "name": "stdout",
     "output_type": "stream",
     "text": [
      "Train Loss: 0.9094379138164428\n",
      "Valid Loss: 0.30807019557271687\n",
      "Epoch 39/199\n"
     ]
    },
    {
     "name": "stderr",
     "output_type": "stream",
     "text": [
      "\r",
      " 20%|██        | 40/200 [1:08:56<4:35:27, 103.30s/it]"
     ]
    },
    {
     "name": "stdout",
     "output_type": "stream",
     "text": [
      "Train Loss: 0.9258127182225818\n",
      "Valid Loss: 0.3198271745017597\n",
      "Epoch 40/199\n"
     ]
    },
    {
     "name": "stderr",
     "output_type": "stream",
     "text": [
      "\r",
      " 20%|██        | 41/200 [1:10:39<4:33:35, 103.24s/it]"
     ]
    },
    {
     "name": "stdout",
     "output_type": "stream",
     "text": [
      "Train Loss: 0.9480213706473143\n",
      "Valid Loss: 0.33606061844953466\n",
      "Epoch 41/199\n"
     ]
    },
    {
     "name": "stderr",
     "output_type": "stream",
     "text": [
      "\r",
      " 21%|██        | 42/200 [1:12:23<4:31:48, 103.22s/it]"
     ]
    },
    {
     "name": "stdout",
     "output_type": "stream",
     "text": [
      "Train Loss: 0.9731438843980552\n",
      "Valid Loss: 0.3538160914821284\n",
      "Epoch 42/199\n"
     ]
    },
    {
     "name": "stderr",
     "output_type": "stream",
     "text": [
      "\r",
      " 22%|██▏       | 43/200 [1:14:06<4:29:59, 103.18s/it]"
     ]
    },
    {
     "name": "stdout",
     "output_type": "stream",
     "text": [
      "Train Loss: 0.9993961962547823\n",
      "Valid Loss: 0.3654996869819505\n",
      "Epoch 43/199\n"
     ]
    },
    {
     "name": "stderr",
     "output_type": "stream",
     "text": [
      "\r",
      " 22%|██▏       | 44/200 [1:15:49<4:28:24, 103.23s/it]"
     ]
    },
    {
     "name": "stdout",
     "output_type": "stream",
     "text": [
      "Train Loss: 1.025569616694537\n",
      "Valid Loss: 0.3624405996607883\n",
      "Epoch 44/199\n"
     ]
    },
    {
     "name": "stderr",
     "output_type": "stream",
     "text": [
      "\r",
      " 22%|██▎       | 45/200 [1:17:32<4:26:35, 103.19s/it]"
     ]
    },
    {
     "name": "stdout",
     "output_type": "stream",
     "text": [
      "Train Loss: 1.0508271082013692\n",
      "Valid Loss: 0.33956435854945866\n",
      "Epoch 45/199\n"
     ]
    },
    {
     "name": "stderr",
     "output_type": "stream",
     "text": [
      "\r",
      " 23%|██▎       | 46/200 [1:19:15<4:24:49, 103.18s/it]"
     ]
    },
    {
     "name": "stdout",
     "output_type": "stream",
     "text": [
      "Train Loss: 1.0746071083172233\n",
      "Valid Loss: 0.2998343030256884\n",
      "Epoch 46/199\n"
     ]
    },
    {
     "name": "stderr",
     "output_type": "stream",
     "text": [
      "\r",
      " 24%|██▎       | 47/200 [1:20:58<4:23:03, 103.16s/it]"
     ]
    },
    {
     "name": "stdout",
     "output_type": "stream",
     "text": [
      "Train Loss: 1.0965723125032654\n",
      "Valid Loss: 0.2558429150709084\n",
      "Epoch 47/199\n"
     ]
    },
    {
     "name": "stderr",
     "output_type": "stream",
     "text": [
      "\r",
      " 24%|██▍       | 48/200 [1:22:42<4:21:20, 103.16s/it]"
     ]
    },
    {
     "name": "stdout",
     "output_type": "stream",
     "text": [
      "Train Loss: 1.1165746896980242\n",
      "Valid Loss: 0.22712740621396474\n",
      "Epoch 48/199\n"
     ]
    },
    {
     "name": "stderr",
     "output_type": "stream",
     "text": [
      "\r",
      " 24%|██▍       | 49/200 [1:24:25<4:19:34, 103.14s/it]"
     ]
    },
    {
     "name": "stdout",
     "output_type": "stream",
     "text": [
      "Train Loss: 1.134605540536418\n",
      "Valid Loss: 0.23417590924405626\n",
      "Epoch 49/199\n"
     ]
    },
    {
     "name": "stderr",
     "output_type": "stream",
     "text": [
      "\r",
      " 25%|██▌       | 50/200 [1:26:08<4:17:51, 103.15s/it]"
     ]
    },
    {
     "name": "stdout",
     "output_type": "stream",
     "text": [
      "Train Loss: 1.1507444110434675\n",
      "Valid Loss: 0.2919756808717336\n",
      "Epoch 50/199\n"
     ]
    },
    {
     "name": "stderr",
     "output_type": "stream",
     "text": [
      "\r",
      " 26%|██▌       | 51/200 [1:27:51<4:16:07, 103.14s/it]"
     ]
    },
    {
     "name": "stdout",
     "output_type": "stream",
     "text": [
      "Train Loss: 1.1651051597024646\n",
      "Valid Loss: 0.4058556436752302\n",
      "Epoch 51/199\n"
     ]
    },
    {
     "name": "stderr",
     "output_type": "stream",
     "text": [
      "\r",
      " 26%|██▌       | 52/200 [1:29:34<4:14:24, 103.14s/it]"
     ]
    },
    {
     "name": "stdout",
     "output_type": "stream",
     "text": [
      "Train Loss: 1.1777983517023658\n",
      "Valid Loss: 0.5708112376076835\n",
      "Epoch 52/199\n"
     ]
    },
    {
     "name": "stderr",
     "output_type": "stream",
     "text": [
      "\r",
      " 26%|██▋       | 53/200 [1:31:17<4:12:40, 103.13s/it]"
     ]
    },
    {
     "name": "stdout",
     "output_type": "stream",
     "text": [
      "Train Loss: 1.1889108297914222\n",
      "Valid Loss: 0.7736322347606931\n",
      "Epoch 53/199\n"
     ]
    },
    {
     "name": "stderr",
     "output_type": "stream",
     "text": [
      "\r",
      " 27%|██▋       | 54/200 [1:33:00<4:10:57, 103.14s/it]"
     ]
    },
    {
     "name": "stdout",
     "output_type": "stream",
     "text": [
      "Train Loss: 1.1985044664850122\n",
      "Valid Loss: 0.996453155364309\n",
      "Epoch 54/199\n"
     ]
    },
    {
     "name": "stderr",
     "output_type": "stream",
     "text": [
      "\r",
      " 28%|██▊       | 55/200 [1:34:43<4:09:13, 103.13s/it]"
     ]
    },
    {
     "name": "stdout",
     "output_type": "stream",
     "text": [
      "Train Loss: 1.2066251683263203\n",
      "Valid Loss: 1.2200333625078201\n",
      "Epoch 55/199\n"
     ]
    },
    {
     "name": "stderr",
     "output_type": "stream",
     "text": [
      "\r",
      " 28%|██▊       | 56/200 [1:36:27<4:07:39, 103.19s/it]"
     ]
    },
    {
     "name": "stdout",
     "output_type": "stream",
     "text": [
      "Train Loss: 1.2133055992863437\n",
      "Valid Loss: 1.4264912051813943\n",
      "Epoch 56/199\n"
     ]
    },
    {
     "name": "stderr",
     "output_type": "stream",
     "text": [
      "\r",
      " 28%|██▊       | 57/200 [1:38:10<4:05:52, 103.16s/it]"
     ]
    },
    {
     "name": "stdout",
     "output_type": "stream",
     "text": [
      "Train Loss: 1.218576241731805\n",
      "Valid Loss: 1.6006928852626257\n",
      "Epoch 57/199\n"
     ]
    },
    {
     "name": "stderr",
     "output_type": "stream",
     "text": [
      "\r",
      " 29%|██▉       | 58/200 [1:39:53<4:04:08, 103.16s/it]"
     ]
    },
    {
     "name": "stdout",
     "output_type": "stream",
     "text": [
      "Train Loss: 1.2224583064481438\n",
      "Valid Loss: 1.7309969323022025\n",
      "Epoch 58/199\n"
     ]
    },
    {
     "name": "stderr",
     "output_type": "stream",
     "text": [
      "\r",
      " 30%|██▉       | 59/200 [1:41:36<4:02:23, 103.14s/it]"
     ]
    },
    {
     "name": "stdout",
     "output_type": "stream",
     "text": [
      "Train Loss: 1.224970443989714\n",
      "Valid Loss: 1.8093321578843253\n",
      "Epoch 59/199\n"
     ]
    },
    {
     "name": "stderr",
     "output_type": "stream",
     "text": [
      "\r",
      " 30%|███       | 60/200 [1:43:19<4:00:40, 103.14s/it]"
     ]
    },
    {
     "name": "stdout",
     "output_type": "stream",
     "text": [
      "Train Loss: 1.2261239586109114\n",
      "Valid Loss: 1.8311337232589722\n",
      "Epoch 60/199\n"
     ]
    },
    {
     "name": "stderr",
     "output_type": "stream",
     "text": [
      "\r",
      " 30%|███       | 61/200 [1:45:02<3:58:55, 103.13s/it]"
     ]
    },
    {
     "name": "stdout",
     "output_type": "stream",
     "text": [
      "Train Loss: 1.2260881091412705\n",
      "Valid Loss: 1.8227611354419164\n",
      "Epoch 61/199\n"
     ]
    },
    {
     "name": "stderr",
     "output_type": "stream",
     "text": [
      "\r",
      " 31%|███       | 62/200 [1:46:46<3:57:12, 103.14s/it]"
     ]
    },
    {
     "name": "stdout",
     "output_type": "stream",
     "text": [
      "Train Loss: 1.2257718217912146\n",
      "Valid Loss: 1.8051428369113378\n",
      "Epoch 62/199\n"
     ]
    },
    {
     "name": "stderr",
     "output_type": "stream",
     "text": [
      "\r",
      " 32%|███▏      | 63/200 [1:48:29<3:55:36, 103.18s/it]"
     ]
    },
    {
     "name": "stdout",
     "output_type": "stream",
     "text": [
      "Train Loss: 1.2252143803090274\n",
      "Valid Loss: 1.7769265004566737\n",
      "Epoch 63/199\n"
     ]
    },
    {
     "name": "stderr",
     "output_type": "stream",
     "text": [
      "\r",
      " 32%|███▏      | 64/200 [1:50:12<3:53:51, 103.17s/it]"
     ]
    },
    {
     "name": "stdout",
     "output_type": "stream",
     "text": [
      "Train Loss: 1.2243976759626796\n",
      "Valid Loss: 1.7384100556373596\n",
      "Epoch 64/199\n"
     ]
    },
    {
     "name": "stderr",
     "output_type": "stream",
     "text": [
      "\r",
      " 32%|███▎      | 65/200 [1:51:55<3:52:05, 103.15s/it]"
     ]
    },
    {
     "name": "stdout",
     "output_type": "stream",
     "text": [
      "Train Loss: 1.2233178600161756\n",
      "Valid Loss: 1.6900571158954076\n",
      "Epoch 65/199\n"
     ]
    },
    {
     "name": "stderr",
     "output_type": "stream",
     "text": [
      "\r",
      " 33%|███▎      | 66/200 [1:53:38<3:50:21, 103.15s/it]"
     ]
    },
    {
     "name": "stdout",
     "output_type": "stream",
     "text": [
      "Train Loss: 1.221976374804983\n",
      "Valid Loss: 1.6323199995926447\n",
      "Epoch 66/199\n"
     ]
    },
    {
     "name": "stderr",
     "output_type": "stream",
     "text": [
      "\r",
      " 34%|███▎      | 67/200 [1:55:21<3:48:36, 103.14s/it]"
     ]
    },
    {
     "name": "stdout",
     "output_type": "stream",
     "text": [
      "Train Loss: 1.2203693093264827\n",
      "Valid Loss: 1.5659483075141907\n",
      "Epoch 67/199\n"
     ]
    },
    {
     "name": "stderr",
     "output_type": "stream",
     "text": [
      "\r",
      " 34%|███▍      | 68/200 [1:57:05<3:46:54, 103.14s/it]"
     ]
    },
    {
     "name": "stdout",
     "output_type": "stream",
     "text": [
      "Train Loss: 1.2184953197296695\n",
      "Valid Loss: 1.4917082573686327\n",
      "Epoch 68/199\n"
     ]
    },
    {
     "name": "stderr",
     "output_type": "stream",
     "text": [
      "\r",
      " 34%|███▍      | 69/200 [1:58:48<3:45:09, 103.13s/it]"
     ]
    },
    {
     "name": "stdout",
     "output_type": "stream",
     "text": [
      "Train Loss: 1.2163506500731684\n",
      "Valid Loss: 1.410516904933112\n",
      "Epoch 69/199\n"
     ]
    },
    {
     "name": "stderr",
     "output_type": "stream",
     "text": [
      "\r",
      " 35%|███▌      | 70/200 [2:00:31<3:43:27, 103.13s/it]"
     ]
    },
    {
     "name": "stdout",
     "output_type": "stream",
     "text": [
      "Train Loss: 1.2139327484499456\n",
      "Valid Loss: 1.323438863669123\n",
      "Epoch 70/199\n"
     ]
    },
    {
     "name": "stderr",
     "output_type": "stream",
     "text": [
      "\r",
      " 36%|███▌      | 71/200 [2:02:14<3:41:42, 103.12s/it]"
     ]
    },
    {
     "name": "stdout",
     "output_type": "stream",
     "text": [
      "Train Loss: 1.211239283894437\n",
      "Valid Loss: 1.2316739580460958\n",
      "Epoch 71/199\n"
     ]
    },
    {
     "name": "stderr",
     "output_type": "stream",
     "text": [
      "\r",
      " 36%|███▌      | 72/200 [2:03:57<3:40:00, 103.13s/it]"
     ]
    },
    {
     "name": "stdout",
     "output_type": "stream",
     "text": [
      "Train Loss: 1.2082665628227707\n",
      "Valid Loss: 1.1364727105413164\n",
      "Epoch 72/199\n"
     ]
    },
    {
     "name": "stderr",
     "output_type": "stream",
     "text": [
      "\r",
      " 36%|███▋      | 73/200 [2:05:40<3:38:16, 103.12s/it]"
     ]
    },
    {
     "name": "stdout",
     "output_type": "stream",
     "text": [
      "Train Loss: 1.2050092368909182\n",
      "Valid Loss: 1.039253375359944\n",
      "Epoch 73/199\n"
     ]
    },
    {
     "name": "stderr",
     "output_type": "stream",
     "text": [
      "\r",
      " 37%|███▋      | 74/200 [2:07:23<3:36:33, 103.13s/it]"
     ]
    },
    {
     "name": "stdout",
     "output_type": "stream",
     "text": [
      "Train Loss: 1.2014648472065748\n",
      "Valid Loss: 0.9414948682699885\n",
      "Epoch 74/199\n"
     ]
    },
    {
     "name": "stderr",
     "output_type": "stream",
     "text": [
      "\r",
      " 38%|███▊      | 75/200 [2:09:06<3:34:49, 103.12s/it]"
     ]
    },
    {
     "name": "stdout",
     "output_type": "stream",
     "text": [
      "Train Loss: 1.1976281381656513\n",
      "Valid Loss: 0.844737212572779\n",
      "Epoch 75/199\n"
     ]
    },
    {
     "name": "stderr",
     "output_type": "stream",
     "text": [
      "\r",
      " 38%|███▊      | 76/200 [2:10:49<3:33:07, 103.12s/it]"
     ]
    },
    {
     "name": "stdout",
     "output_type": "stream",
     "text": [
      "Train Loss: 1.193495341516799\n",
      "Valid Loss: 0.7505712083407811\n",
      "Epoch 76/199\n"
     ]
    },
    {
     "name": "stderr",
     "output_type": "stream",
     "text": [
      "\r",
      " 38%|███▊      | 77/200 [2:12:33<3:31:30, 103.17s/it]"
     ]
    },
    {
     "name": "stdout",
     "output_type": "stream",
     "text": [
      "Train Loss: 1.189061611412819\n",
      "Valid Loss: 0.6605336644819805\n",
      "Epoch 77/199\n"
     ]
    },
    {
     "name": "stderr",
     "output_type": "stream",
     "text": [
      "\r",
      " 39%|███▉      | 78/200 [2:14:16<3:29:45, 103.16s/it]"
     ]
    },
    {
     "name": "stdout",
     "output_type": "stream",
     "text": [
      "Train Loss: 1.1843193877936213\n",
      "Valid Loss: 0.5761578929211412\n",
      "Epoch 78/199\n"
     ]
    },
    {
     "name": "stderr",
     "output_type": "stream",
     "text": [
      "\r",
      " 40%|███▉      | 79/200 [2:15:59<3:28:00, 103.14s/it]"
     ]
    },
    {
     "name": "stdout",
     "output_type": "stream",
     "text": [
      "Train Loss: 1.1792657538721265\n",
      "Valid Loss: 0.49884321740163223\n",
      "Epoch 79/199\n"
     ]
    },
    {
     "name": "stderr",
     "output_type": "stream",
     "text": [
      "\r",
      " 40%|████      | 80/200 [2:17:42<3:26:16, 103.14s/it]"
     ]
    },
    {
     "name": "stdout",
     "output_type": "stream",
     "text": [
      "Train Loss: 1.1738930630925426\n",
      "Valid Loss: 0.42983998341618906\n",
      "Epoch 80/199\n"
     ]
    },
    {
     "name": "stderr",
     "output_type": "stream",
     "text": [
      "\r",
      " 40%|████      | 81/200 [2:19:25<3:24:32, 103.13s/it]"
     ]
    },
    {
     "name": "stdout",
     "output_type": "stream",
     "text": [
      "Train Loss: 1.168195268172293\n",
      "Valid Loss: 0.3701605577038468\n",
      "Epoch 81/199\n"
     ]
    },
    {
     "name": "stderr",
     "output_type": "stream",
     "text": [
      "\r",
      " 41%|████      | 82/200 [2:21:08<3:22:49, 103.13s/it]"
     ]
    },
    {
     "name": "stdout",
     "output_type": "stream",
     "text": [
      "Train Loss: 1.162164475035415\n",
      "Valid Loss: 0.32055129297077656\n",
      "Epoch 82/199\n"
     ]
    },
    {
     "name": "stderr",
     "output_type": "stream",
     "text": [
      "\r",
      " 42%|████▏     | 83/200 [2:22:51<3:21:05, 103.12s/it]"
     ]
    },
    {
     "name": "stdout",
     "output_type": "stream",
     "text": [
      "Train Loss: 1.1557939265050048\n",
      "Valid Loss: 0.28143779574228184\n",
      "Epoch 83/199\n"
     ]
    },
    {
     "name": "stderr",
     "output_type": "stream",
     "text": [
      "\r",
      " 42%|████▏     | 84/200 [2:24:35<3:19:22, 103.13s/it]"
     ]
    },
    {
     "name": "stdout",
     "output_type": "stream",
     "text": [
      "Train Loss: 1.1490769864400094\n",
      "Valid Loss: 0.2528822964273526\n",
      "Epoch 84/199\n"
     ]
    },
    {
     "name": "stderr",
     "output_type": "stream",
     "text": [
      "\r",
      " 42%|████▎     | 85/200 [2:26:18<3:17:38, 103.12s/it]"
     ]
    },
    {
     "name": "stdout",
     "output_type": "stream",
     "text": [
      "Train Loss: 1.1420049901989024\n",
      "Valid Loss: 0.23454854253213853\n",
      "Epoch 85/199\n"
     ]
    },
    {
     "name": "stderr",
     "output_type": "stream",
     "text": [
      "\r",
      " 43%|████▎     | 86/200 [2:28:01<3:15:56, 103.13s/it]"
     ]
    },
    {
     "name": "stdout",
     "output_type": "stream",
     "text": [
      "Train Loss: 1.1345696872596198\n",
      "Valid Loss: 0.22574182001075574\n",
      "Epoch 86/199\n"
     ]
    },
    {
     "name": "stderr",
     "output_type": "stream",
     "text": [
      "\r",
      " 44%|████▎     | 87/200 [2:29:44<3:14:12, 103.12s/it]"
     ]
    },
    {
     "name": "stdout",
     "output_type": "stream",
     "text": [
      "Train Loss: 1.1267659845643594\n",
      "Valid Loss: 0.2254022035215582\n",
      "Epoch 87/199\n"
     ]
    },
    {
     "name": "stderr",
     "output_type": "stream",
     "text": [
      "\r",
      " 44%|████▍     | 88/200 [2:31:27<3:12:29, 103.12s/it]"
     ]
    },
    {
     "name": "stdout",
     "output_type": "stream",
     "text": [
      "Train Loss: 1.118587212618991\n",
      "Valid Loss: 0.23217344177620752\n",
      "Epoch 88/199\n"
     ]
    },
    {
     "name": "stderr",
     "output_type": "stream",
     "text": [
      "\r",
      " 44%|████▍     | 89/200 [2:33:10<3:10:45, 103.12s/it]"
     ]
    },
    {
     "name": "stdout",
     "output_type": "stream",
     "text": [
      "Train Loss: 1.1100317147068997\n",
      "Valid Loss: 0.2444697485438415\n",
      "Epoch 89/199\n"
     ]
    },
    {
     "name": "stderr",
     "output_type": "stream",
     "text": [
      "\r",
      " 45%|████▌     | 90/200 [2:34:53<3:09:03, 103.12s/it]"
     ]
    },
    {
     "name": "stdout",
     "output_type": "stream",
     "text": [
      "Train Loss: 1.1010979012178097\n",
      "Valid Loss: 0.26058377964156015\n",
      "Epoch 90/199\n"
     ]
    },
    {
     "name": "stderr",
     "output_type": "stream",
     "text": [
      "\r",
      " 46%|████▌     | 91/200 [2:36:36<3:07:20, 103.12s/it]"
     ]
    },
    {
     "name": "stdout",
     "output_type": "stream",
     "text": [
      "Train Loss: 1.091787814827384\n",
      "Valid Loss: 0.27878457733563017\n",
      "Epoch 91/199\n"
     ]
    },
    {
     "name": "stderr",
     "output_type": "stream",
     "text": [
      "\r",
      " 46%|████▌     | 92/200 [2:38:20<3:05:36, 103.11s/it]"
     ]
    },
    {
     "name": "stdout",
     "output_type": "stream",
     "text": [
      "Train Loss: 1.0821102916470864\n",
      "Valid Loss: 0.297431869166238\n",
      "Epoch 92/199\n"
     ]
    },
    {
     "name": "stderr",
     "output_type": "stream",
     "text": [
      "\r",
      " 46%|████▋     | 93/200 [2:40:03<3:03:53, 103.12s/it]"
     ]
    },
    {
     "name": "stdout",
     "output_type": "stream",
     "text": [
      "Train Loss: 1.0720781057070154\n",
      "Valid Loss: 0.3150742868227618\n",
      "Epoch 93/199\n"
     ]
    },
    {
     "name": "stderr",
     "output_type": "stream",
     "text": [
      "\r",
      " 47%|████▋     | 94/200 [2:41:46<3:02:11, 103.12s/it]"
     ]
    },
    {
     "name": "stdout",
     "output_type": "stream",
     "text": [
      "Train Loss: 1.0617087114608093\n",
      "Valid Loss: 0.33053759964449064\n",
      "Epoch 94/199\n"
     ]
    },
    {
     "name": "stderr",
     "output_type": "stream",
     "text": [
      "\r",
      " 48%|████▊     | 95/200 [2:43:29<3:00:27, 103.12s/it]"
     ]
    },
    {
     "name": "stdout",
     "output_type": "stream",
     "text": [
      "Train Loss: 1.0510298146939574\n",
      "Valid Loss: 0.3429776555193322\n",
      "Epoch 95/199\n"
     ]
    },
    {
     "name": "stderr",
     "output_type": "stream",
     "text": [
      "\r",
      " 48%|████▊     | 96/200 [2:45:12<2:58:45, 103.13s/it]"
     ]
    },
    {
     "name": "stdout",
     "output_type": "stream",
     "text": [
      "Train Loss: 1.04007219219816\n",
      "Valid Loss: 0.3518989916358675\n",
      "Epoch 96/199\n"
     ]
    },
    {
     "name": "stderr",
     "output_type": "stream",
     "text": [
      "\r",
      " 48%|████▊     | 97/200 [2:46:55<2:57:01, 103.12s/it]"
     ]
    },
    {
     "name": "stdout",
     "output_type": "stream",
     "text": [
      "Train Loss: 1.0288776859911335\n",
      "Valid Loss: 0.3571612124464342\n",
      "Epoch 97/199\n"
     ]
    },
    {
     "name": "stderr",
     "output_type": "stream",
     "text": [
      "\r",
      " 49%|████▉     | 98/200 [2:48:38<2:55:18, 103.12s/it]"
     ]
    },
    {
     "name": "stdout",
     "output_type": "stream",
     "text": [
      "Train Loss: 1.0174931983820679\n",
      "Valid Loss: 0.3589254207909107\n",
      "Epoch 98/199\n"
     ]
    },
    {
     "name": "stderr",
     "output_type": "stream",
     "text": [
      "\r",
      " 50%|████▉     | 99/200 [2:50:21<2:53:34, 103.12s/it]"
     ]
    },
    {
     "name": "stdout",
     "output_type": "stream",
     "text": [
      "Train Loss: 1.0059772438244146\n",
      "Valid Loss: 0.3576013818383217\n",
      "Epoch 99/199\n"
     ]
    },
    {
     "name": "stderr",
     "output_type": "stream",
     "text": [
      "\r",
      " 50%|█████     | 100/200 [2:52:05<2:51:52, 103.12s/it]"
     ]
    },
    {
     "name": "stdout",
     "output_type": "stream",
     "text": [
      "Train Loss: 0.9943952035454625\n",
      "Valid Loss: 0.35378111260277884\n",
      "Epoch 100/199\n"
     ]
    },
    {
     "name": "stderr",
     "output_type": "stream",
     "text": [
      "\r",
      " 50%|█████     | 101/200 [2:53:48<2:50:08, 103.12s/it]"
     ]
    },
    {
     "name": "stdout",
     "output_type": "stream",
     "text": [
      "Train Loss: 0.9828239313918585\n",
      "Valid Loss: 0.3481441257255418\n",
      "Epoch 101/199\n"
     ]
    },
    {
     "name": "stderr",
     "output_type": "stream",
     "text": [
      "\r",
      " 51%|█████     | 102/200 [2:55:31<2:48:25, 103.12s/it]"
     ]
    },
    {
     "name": "stdout",
     "output_type": "stream",
     "text": [
      "Train Loss: 0.9713496877994693\n",
      "Valid Loss: 0.34139290851141724\n",
      "Epoch 102/199\n"
     ]
    },
    {
     "name": "stderr",
     "output_type": "stream",
     "text": [
      "\r",
      " 52%|█████▏    | 103/200 [2:57:14<2:46:42, 103.11s/it]"
     ]
    },
    {
     "name": "stdout",
     "output_type": "stream",
     "text": [
      "Train Loss: 0.9600722025719612\n",
      "Valid Loss: 0.33418652282229494\n",
      "Epoch 103/199\n"
     ]
    },
    {
     "name": "stderr",
     "output_type": "stream",
     "text": [
      "\r",
      " 52%|█████▏    | 104/200 [2:58:57<2:44:59, 103.12s/it]"
     ]
    },
    {
     "name": "stdout",
     "output_type": "stream",
     "text": [
      "Train Loss: 0.9491076169060961\n",
      "Valid Loss: 0.3270852826535702\n",
      "Epoch 104/199\n"
     ]
    },
    {
     "name": "stderr",
     "output_type": "stream",
     "text": [
      "\r",
      " 52%|█████▎    | 105/200 [3:00:40<2:43:15, 103.12s/it]"
     ]
    },
    {
     "name": "stdout",
     "output_type": "stream",
     "text": [
      "Train Loss: 0.9385890590735047\n",
      "Valid Loss: 0.3205128043357815\n",
      "Epoch 105/199\n"
     ]
    },
    {
     "name": "stderr",
     "output_type": "stream",
     "text": [
      "\r",
      " 53%|█████▎    | 106/200 [3:02:23<2:41:33, 103.12s/it]"
     ]
    },
    {
     "name": "stdout",
     "output_type": "stream",
     "text": [
      "Train Loss: 0.9286734776568275\n",
      "Valid Loss: 0.31471802826438633\n",
      "Epoch 106/199\n"
     ]
    },
    {
     "name": "stderr",
     "output_type": "stream",
     "text": [
      "\r",
      " 54%|█████▎    | 107/200 [3:04:06<2:39:49, 103.12s/it]"
     ]
    },
    {
     "name": "stdout",
     "output_type": "stream",
     "text": [
      "Train Loss: 0.91954810193178\n",
      "Valid Loss: 0.3097540935767548\n",
      "Epoch 107/199\n"
     ]
    },
    {
     "name": "stderr",
     "output_type": "stream",
     "text": [
      "\r",
      " 54%|█████▍    | 108/200 [3:05:49<2:38:07, 103.12s/it]"
     ]
    },
    {
     "name": "stdout",
     "output_type": "stream",
     "text": [
      "Train Loss: 0.9114408629036854\n",
      "Valid Loss: 0.30541910523814814\n",
      "Epoch 108/199\n"
     ]
    },
    {
     "name": "stderr",
     "output_type": "stream",
     "text": [
      "\r",
      " 55%|█████▍    | 109/200 [3:07:33<2:36:23, 103.11s/it]"
     ]
    },
    {
     "name": "stdout",
     "output_type": "stream",
     "text": [
      "Train Loss: 0.9046274381102091\n",
      "Valid Loss: 0.30119220327053753\n",
      "Epoch 109/199\n"
     ]
    },
    {
     "name": "stderr",
     "output_type": "stream",
     "text": [
      "\r",
      " 55%|█████▌    | 110/200 [3:09:16<2:34:40, 103.12s/it]"
     ]
    },
    {
     "name": "stdout",
     "output_type": "stream",
     "text": [
      "Train Loss: 0.8994499376932089\n",
      "Valid Loss: 0.29614063033035826\n",
      "Epoch 110/199\n"
     ]
    },
    {
     "name": "stderr",
     "output_type": "stream",
     "text": [
      "\r",
      " 56%|█████▌    | 111/200 [3:10:59<2:32:57, 103.11s/it]"
     ]
    },
    {
     "name": "stdout",
     "output_type": "stream",
     "text": [
      "Train Loss: 0.8963295660352301\n",
      "Valid Loss: 0.28887975215911865\n",
      "Epoch 111/199\n"
     ]
    },
    {
     "name": "stderr",
     "output_type": "stream",
     "text": [
      "\r",
      " 56%|█████▌    | 112/200 [3:12:42<2:31:14, 103.12s/it]"
     ]
    },
    {
     "name": "stdout",
     "output_type": "stream",
     "text": [
      "Train Loss: 0.8957817111090104\n",
      "Valid Loss: 0.2777671122125217\n",
      "Epoch 112/199\n"
     ]
    },
    {
     "name": "stderr",
     "output_type": "stream",
     "text": [
      "\r",
      " 56%|█████▋    | 113/200 [3:14:25<2:29:31, 103.12s/it]"
     ]
    },
    {
     "name": "stdout",
     "output_type": "stream",
     "text": [
      "Train Loss: 0.8984148018851058\n",
      "Valid Loss: 0.2617302004780088\n",
      "Epoch 113/199\n"
     ]
    },
    {
     "name": "stderr",
     "output_type": "stream",
     "text": [
      "\r",
      " 57%|█████▋    | 114/200 [3:16:08<2:27:48, 103.12s/it]"
     ]
    },
    {
     "name": "stdout",
     "output_type": "stream",
     "text": [
      "Train Loss: 0.904906254759103\n",
      "Valid Loss: 0.24231384428484098\n",
      "Epoch 114/199\n"
     ]
    },
    {
     "name": "stderr",
     "output_type": "stream",
     "text": [
      "\r",
      " 57%|█████▊    | 115/200 [3:17:51<2:26:04, 103.12s/it]"
     ]
    },
    {
     "name": "stdout",
     "output_type": "stream",
     "text": [
      "Train Loss: 0.915925235126693\n",
      "Valid Loss: 0.22673332850847924\n",
      "Epoch 115/199\n"
     ]
    },
    {
     "name": "stderr",
     "output_type": "stream",
     "text": [
      "\r",
      " 58%|█████▊    | 116/200 [3:19:34<2:24:22, 103.12s/it]"
     ]
    },
    {
     "name": "stdout",
     "output_type": "stream",
     "text": [
      "Train Loss: 0.9319872545842793\n",
      "Valid Loss: 0.22925115483147757\n",
      "Epoch 116/199\n"
     ]
    },
    {
     "name": "stderr",
     "output_type": "stream",
     "text": [
      "\r",
      " 58%|█████▊    | 117/200 [3:21:18<2:22:38, 103.12s/it]"
     ]
    },
    {
     "name": "stdout",
     "output_type": "stream",
     "text": [
      "Train Loss: 0.9532926472600377\n",
      "Valid Loss: 0.2660038107008274\n",
      "Epoch 117/199\n"
     ]
    },
    {
     "name": "stderr",
     "output_type": "stream",
     "text": [
      "\r",
      " 59%|█████▉    | 118/200 [3:23:01<2:20:56, 103.12s/it]"
     ]
    },
    {
     "name": "stdout",
     "output_type": "stream",
     "text": [
      "Train Loss: 0.9798015698190454\n",
      "Valid Loss: 0.34455672897664563\n",
      "Epoch 118/199\n"
     ]
    },
    {
     "name": "stderr",
     "output_type": "stream",
     "text": [
      "\r",
      " 60%|█████▉    | 119/200 [3:24:44<2:19:12, 103.12s/it]"
     ]
    },
    {
     "name": "stdout",
     "output_type": "stream",
     "text": [
      "Train Loss: 1.0118325048545966\n",
      "Valid Loss: 0.45955540452684673\n",
      "Epoch 119/199\n"
     ]
    },
    {
     "name": "stderr",
     "output_type": "stream",
     "text": [
      "\r",
      " 60%|██████    | 120/200 [3:26:27<2:17:29, 103.12s/it]"
     ]
    },
    {
     "name": "stdout",
     "output_type": "stream",
     "text": [
      "Train Loss: 1.0507734758342537\n",
      "Valid Loss: 0.6009897158614227\n",
      "Epoch 120/199\n"
     ]
    },
    {
     "name": "stderr",
     "output_type": "stream",
     "text": [
      "\r",
      " 60%|██████    | 121/200 [3:28:10<2:15:46, 103.12s/it]"
     ]
    },
    {
     "name": "stdout",
     "output_type": "stream",
     "text": [
      "Train Loss: 1.0987169301669912\n",
      "Valid Loss: 0.7686140122158187\n",
      "Epoch 121/199\n"
     ]
    },
    {
     "name": "stderr",
     "output_type": "stream",
     "text": [
      "\r",
      " 61%|██████    | 122/200 [3:29:53<2:14:03, 103.12s/it]"
     ]
    },
    {
     "name": "stdout",
     "output_type": "stream",
     "text": [
      "Train Loss: 1.1567616381312718\n",
      "Valid Loss: 0.9832787705319268\n",
      "Epoch 122/199\n"
     ]
    },
    {
     "name": "stderr",
     "output_type": "stream",
     "text": [
      "\r",
      " 62%|██████▏   | 123/200 [3:31:36<2:12:19, 103.11s/it]"
     ]
    },
    {
     "name": "stdout",
     "output_type": "stream",
     "text": [
      "Train Loss: 1.2228153367407364\n",
      "Valid Loss: 1.2836845133985793\n",
      "Epoch 123/199\n"
     ]
    },
    {
     "name": "stderr",
     "output_type": "stream",
     "text": [
      "\r",
      " 62%|██████▏   | 124/200 [3:33:19<2:10:37, 103.12s/it]"
     ]
    },
    {
     "name": "stdout",
     "output_type": "stream",
     "text": [
      "Train Loss: 1.2906463883625767\n",
      "Valid Loss: 1.682946843760354\n",
      "Epoch 124/199\n"
     ]
    },
    {
     "name": "stderr",
     "output_type": "stream",
     "text": [
      "\r",
      " 62%|██████▎   | 125/200 [3:35:02<2:08:53, 103.12s/it]"
     ]
    },
    {
     "name": "stdout",
     "output_type": "stream",
     "text": [
      "Train Loss: 1.3534396351721911\n",
      "Valid Loss: 2.118734734398978\n",
      "Epoch 125/199\n"
     ]
    },
    {
     "name": "stderr",
     "output_type": "stream",
     "text": [
      "\r",
      " 63%|██████▎   | 126/200 [3:36:46<2:07:11, 103.12s/it]"
     ]
    },
    {
     "name": "stdout",
     "output_type": "stream",
     "text": [
      "Train Loss: 1.4089309453905023\n",
      "Valid Loss: 2.4875771829060147\n",
      "Epoch 126/199\n"
     ]
    },
    {
     "name": "stderr",
     "output_type": "stream",
     "text": [
      "\r",
      " 64%|██████▎   | 127/200 [3:38:29<2:05:28, 103.13s/it]"
     ]
    },
    {
     "name": "stdout",
     "output_type": "stream",
     "text": [
      "Train Loss: 1.459846666206382\n",
      "Valid Loss: 2.694029322692326\n",
      "Epoch 127/199\n"
     ]
    },
    {
     "name": "stderr",
     "output_type": "stream",
     "text": [
      "\r",
      " 64%|██████▍   | 128/200 [3:40:12<2:03:44, 103.12s/it]"
     ]
    },
    {
     "name": "stdout",
     "output_type": "stream",
     "text": [
      "Train Loss: 1.5113031007068194\n",
      "Valid Loss: 2.655070015362331\n",
      "Epoch 128/199\n"
     ]
    },
    {
     "name": "stderr",
     "output_type": "stream",
     "text": [
      "\r",
      " 64%|██████▍   | 129/200 [3:41:55<2:02:01, 103.13s/it]"
     ]
    },
    {
     "name": "stdout",
     "output_type": "stream",
     "text": [
      "Train Loss: 1.5685346970279477\n",
      "Valid Loss: 2.313553588730948\n",
      "Epoch 129/199\n"
     ]
    },
    {
     "name": "stderr",
     "output_type": "stream",
     "text": [
      "\r",
      " 65%|██████▌   | 130/200 [3:43:38<2:00:18, 103.12s/it]"
     ]
    },
    {
     "name": "stdout",
     "output_type": "stream",
     "text": [
      "Train Loss: 1.6351144266962643\n",
      "Valid Loss: 1.6860218048095703\n",
      "Epoch 130/199\n"
     ]
    },
    {
     "name": "stderr",
     "output_type": "stream",
     "text": [
      "\r",
      " 66%|██████▌   | 131/200 [3:45:21<1:58:35, 103.12s/it]"
     ]
    },
    {
     "name": "stdout",
     "output_type": "stream",
     "text": [
      "Train Loss: 1.7111309024752177\n",
      "Valid Loss: 0.9315872916153499\n",
      "Epoch 131/199\n"
     ]
    },
    {
     "name": "stderr",
     "output_type": "stream",
     "text": [
      "\r",
      " 66%|██████▌   | 132/200 [3:47:04<1:56:52, 103.12s/it]"
     ]
    },
    {
     "name": "stdout",
     "output_type": "stream",
     "text": [
      "Train Loss: 1.7921152245474075\n",
      "Valid Loss: 0.36094316569090423\n",
      "Epoch 132/199\n"
     ]
    },
    {
     "name": "stderr",
     "output_type": "stream",
     "text": [
      "\r",
      " 66%|██████▋   | 133/200 [3:48:47<1:55:09, 103.12s/it]"
     ]
    },
    {
     "name": "stdout",
     "output_type": "stream",
     "text": [
      "Train Loss: 1.8688026714102066\n",
      "Valid Loss: 0.2411533689924649\n",
      "Epoch 133/199\n"
     ]
    },
    {
     "name": "stderr",
     "output_type": "stream",
     "text": [
      "\r",
      " 67%|██████▋   | 134/200 [3:50:31<1:53:26, 103.13s/it]"
     ]
    },
    {
     "name": "stdout",
     "output_type": "stream",
     "text": [
      "Train Loss: 1.9302433804804429\n",
      "Valid Loss: 0.5394499275301184\n",
      "Epoch 134/199\n"
     ]
    },
    {
     "name": "stderr",
     "output_type": "stream",
     "text": [
      "\r",
      " 68%|██████▊   | 135/200 [3:52:14<1:51:42, 103.12s/it]"
     ]
    },
    {
     "name": "stdout",
     "output_type": "stream",
     "text": [
      "Train Loss: 1.971391432945079\n",
      "Valid Loss: 0.9865596819935101\n",
      "Epoch 135/199\n"
     ]
    },
    {
     "name": "stderr",
     "output_type": "stream",
     "text": [
      "\r",
      " 68%|██████▊   | 136/200 [3:53:57<1:50:00, 103.13s/it]"
     ]
    },
    {
     "name": "stdout",
     "output_type": "stream",
     "text": [
      "Train Loss: 1.9943363252782877\n",
      "Valid Loss: 1.3367056931768144\n",
      "Epoch 136/199\n"
     ]
    },
    {
     "name": "stderr",
     "output_type": "stream",
     "text": [
      "\r",
      " 68%|██████▊   | 137/200 [3:55:40<1:48:17, 103.13s/it]"
     ]
    },
    {
     "name": "stdout",
     "output_type": "stream",
     "text": [
      "Train Loss: 2.003331096353446\n",
      "Valid Loss: 1.4831399960177285\n",
      "Epoch 137/199\n"
     ]
    },
    {
     "name": "stderr",
     "output_type": "stream",
     "text": [
      "\r",
      " 69%|██████▉   | 138/200 [3:57:23<1:46:33, 103.12s/it]"
     ]
    },
    {
     "name": "stdout",
     "output_type": "stream",
     "text": [
      "Train Loss: 2.0019855609910033\n",
      "Valid Loss: 1.4359162471124105\n",
      "Epoch 138/199\n"
     ]
    },
    {
     "name": "stderr",
     "output_type": "stream",
     "text": [
      "\r",
      " 70%|██████▉   | 139/200 [3:59:06<1:44:50, 103.12s/it]"
     ]
    },
    {
     "name": "stdout",
     "output_type": "stream",
     "text": [
      "Train Loss: 1.992974649123311\n",
      "Valid Loss: 1.2634742707014084\n",
      "Epoch 139/199\n"
     ]
    },
    {
     "name": "stderr",
     "output_type": "stream",
     "text": [
      "\r",
      " 70%|███████   | 140/200 [4:00:49<1:43:07, 103.12s/it]"
     ]
    },
    {
     "name": "stdout",
     "output_type": "stream",
     "text": [
      "Train Loss: 1.978336644643514\n",
      "Valid Loss: 1.0428603600178445\n",
      "Epoch 140/199\n"
     ]
    },
    {
     "name": "stderr",
     "output_type": "stream",
     "text": [
      "\r",
      " 70%|███████   | 141/200 [4:02:32<1:41:24, 103.12s/it]"
     ]
    },
    {
     "name": "stdout",
     "output_type": "stream",
     "text": [
      "Train Loss: 1.9597495099779725\n",
      "Valid Loss: 0.8322234725180481\n",
      "Epoch 141/199\n"
     ]
    },
    {
     "name": "stderr",
     "output_type": "stream",
     "text": [
      "\r",
      " 71%|███████   | 142/200 [4:04:16<1:39:40, 103.12s/it]"
     ]
    },
    {
     "name": "stdout",
     "output_type": "stream",
     "text": [
      "Train Loss: 1.9387347391281813\n",
      "Valid Loss: 0.6629625521600246\n",
      "Epoch 142/199\n"
     ]
    },
    {
     "name": "stderr",
     "output_type": "stream",
     "text": [
      "\r",
      " 72%|███████▏  | 143/200 [4:05:59<1:37:58, 103.13s/it]"
     ]
    },
    {
     "name": "stdout",
     "output_type": "stream",
     "text": [
      "Train Loss: 1.9167734805205678\n",
      "Valid Loss: 0.5441391909761089\n",
      "Epoch 143/199\n"
     ]
    },
    {
     "name": "stderr",
     "output_type": "stream",
     "text": [
      "\r",
      " 72%|███████▏  | 144/200 [4:07:42<1:36:15, 103.13s/it]"
     ]
    },
    {
     "name": "stdout",
     "output_type": "stream",
     "text": [
      "Train Loss: 1.8953649153515693\n",
      "Valid Loss: 0.47159954799073084\n",
      "Epoch 144/199\n"
     ]
    },
    {
     "name": "stderr",
     "output_type": "stream",
     "text": [
      "\r",
      " 72%|███████▎  | 145/200 [4:09:25<1:34:31, 103.12s/it]"
     ]
    },
    {
     "name": "stdout",
     "output_type": "stream",
     "text": [
      "Train Loss: 1.8759989107450272\n",
      "Valid Loss: 0.436733130099518\n",
      "Epoch 145/199\n"
     ]
    },
    {
     "name": "stderr",
     "output_type": "stream",
     "text": [
      "\r",
      " 73%|███████▎  | 146/200 [4:11:08<1:32:48, 103.12s/it]"
     ]
    },
    {
     "name": "stdout",
     "output_type": "stream",
     "text": [
      "Train Loss: 1.8599501512045045\n",
      "Valid Loss: 0.43229970974581583\n",
      "Epoch 146/199\n"
     ]
    },
    {
     "name": "stderr",
     "output_type": "stream",
     "text": [
      "\r",
      " 74%|███████▎  | 147/200 [4:12:51<1:31:05, 103.13s/it]"
     ]
    },
    {
     "name": "stdout",
     "output_type": "stream",
     "text": [
      "Train Loss: 1.848754520059616\n",
      "Valid Loss: 0.45423452769007\n",
      "Epoch 147/199\n"
     ]
    },
    {
     "name": "stderr",
     "output_type": "stream",
     "text": [
      "\r",
      " 74%|███████▍  | 148/200 [4:14:34<1:29:22, 103.12s/it]"
     ]
    },
    {
     "name": "stdout",
     "output_type": "stream",
     "text": [
      "Train Loss: 1.842592921985881\n",
      "Valid Loss: 0.501079335808754\n",
      "Epoch 148/199\n"
     ]
    },
    {
     "name": "stderr",
     "output_type": "stream",
     "text": [
      "\r",
      " 74%|███████▍  | 149/200 [4:16:17<1:27:39, 103.13s/it]"
     ]
    },
    {
     "name": "stdout",
     "output_type": "stream",
     "text": [
      "Train Loss: 1.841391395574813\n",
      "Valid Loss: 0.5708498103278024\n",
      "Epoch 149/199\n"
     ]
    },
    {
     "name": "stderr",
     "output_type": "stream",
     "text": [
      "\r",
      " 75%|███████▌  | 150/200 [4:18:01<1:25:55, 103.12s/it]"
     ]
    },
    {
     "name": "stdout",
     "output_type": "stream",
     "text": [
      "Train Loss: 1.8438337222724257\n",
      "Valid Loss: 0.6605542882212571\n",
      "Epoch 150/199\n"
     ]
    },
    {
     "name": "stderr",
     "output_type": "stream",
     "text": [
      "\r",
      " 76%|███████▌  | 151/200 [4:19:44<1:24:13, 103.12s/it]"
     ]
    },
    {
     "name": "stdout",
     "output_type": "stream",
     "text": [
      "Train Loss: 1.8468713029785953\n",
      "Valid Loss: 0.7600410213427884\n",
      "Epoch 151/199\n"
     ]
    },
    {
     "name": "stderr",
     "output_type": "stream",
     "text": [
      "\r",
      " 76%|███████▌  | 152/200 [4:21:27<1:22:29, 103.12s/it]"
     ]
    },
    {
     "name": "stdout",
     "output_type": "stream",
     "text": [
      "Train Loss: 1.8477693060040332\n",
      "Valid Loss: 0.8589002093566316\n",
      "Epoch 152/199\n"
     ]
    },
    {
     "name": "stderr",
     "output_type": "stream",
     "text": [
      "\r",
      " 76%|███████▋  | 153/200 [4:23:10<1:20:46, 103.13s/it]"
     ]
    },
    {
     "name": "stdout",
     "output_type": "stream",
     "text": [
      "Train Loss: 1.8447417771876427\n",
      "Valid Loss: 0.9436621426471642\n",
      "Epoch 153/199\n"
     ]
    },
    {
     "name": "stderr",
     "output_type": "stream",
     "text": [
      "\r",
      " 77%|███████▋  | 154/200 [4:24:53<1:19:03, 103.13s/it]"
     ]
    },
    {
     "name": "stdout",
     "output_type": "stream",
     "text": [
      "Train Loss: 1.837317278674477\n",
      "Valid Loss: 0.9993187072021621\n",
      "Epoch 154/199\n"
     ]
    },
    {
     "name": "stderr",
     "output_type": "stream",
     "text": [
      "\r",
      " 78%|███████▊  | 155/200 [4:26:36<1:17:20, 103.12s/it]"
     ]
    },
    {
     "name": "stdout",
     "output_type": "stream",
     "text": [
      "Train Loss: 1.8256724516945446\n",
      "Valid Loss: 1.011300246098212\n",
      "Epoch 155/199\n"
     ]
    },
    {
     "name": "stderr",
     "output_type": "stream",
     "text": [
      "\r",
      " 78%|███████▊  | 156/200 [4:28:19<1:15:37, 103.13s/it]"
     ]
    },
    {
     "name": "stdout",
     "output_type": "stream",
     "text": [
      "Train Loss: 1.8101247940163934\n",
      "Valid Loss: 0.9697813671082258\n",
      "Epoch 156/199\n"
     ]
    },
    {
     "name": "stderr",
     "output_type": "stream",
     "text": [
      "\r",
      " 78%|███████▊  | 157/200 [4:30:02<1:13:54, 103.13s/it]"
     ]
    },
    {
     "name": "stdout",
     "output_type": "stream",
     "text": [
      "Train Loss: 1.790948485597802\n",
      "Valid Loss: 0.875006087523486\n",
      "Epoch 157/199\n"
     ]
    },
    {
     "name": "stderr",
     "output_type": "stream",
     "text": [
      "\r",
      " 79%|███████▉  | 158/200 [4:31:46<1:12:11, 103.12s/it]"
     ]
    },
    {
     "name": "stdout",
     "output_type": "stream",
     "text": [
      "Train Loss: 1.7686000988101718\n",
      "Valid Loss: 0.7399606043472886\n",
      "Epoch 158/199\n"
     ]
    },
    {
     "name": "stderr",
     "output_type": "stream",
     "text": [
      "\r",
      " 80%|███████▉  | 159/200 [4:33:29<1:10:28, 103.13s/it]"
     ]
    },
    {
     "name": "stdout",
     "output_type": "stream",
     "text": [
      "Train Loss: 1.7439065889873016\n",
      "Valid Loss: 0.5875521099993161\n",
      "Epoch 159/199\n"
     ]
    },
    {
     "name": "stderr",
     "output_type": "stream",
     "text": [
      "\r",
      " 80%|████████  | 160/200 [4:35:12<1:08:44, 103.12s/it]"
     ]
    },
    {
     "name": "stdout",
     "output_type": "stream",
     "text": [
      "Train Loss: 1.7181540088435059\n",
      "Valid Loss: 0.44196234004838125\n",
      "Epoch 160/199\n"
     ]
    },
    {
     "name": "stderr",
     "output_type": "stream",
     "text": [
      "\r",
      " 80%|████████  | 161/200 [4:36:55<1:07:01, 103.12s/it]"
     ]
    },
    {
     "name": "stdout",
     "output_type": "stream",
     "text": [
      "Train Loss: 1.6925465439295344\n",
      "Valid Loss: 0.324924764622535\n",
      "Epoch 161/199\n"
     ]
    },
    {
     "name": "stderr",
     "output_type": "stream",
     "text": [
      "\r",
      " 81%|████████  | 162/200 [4:38:38<1:05:18, 103.12s/it]"
     ]
    },
    {
     "name": "stdout",
     "output_type": "stream",
     "text": [
      "Train Loss: 1.6680719854037105\n",
      "Valid Loss: 0.25037820424352375\n",
      "Epoch 162/199\n"
     ]
    },
    {
     "name": "stderr",
     "output_type": "stream",
     "text": [
      "\r",
      " 82%|████████▏ | 163/200 [4:40:21<1:03:35, 103.12s/it]"
     ]
    },
    {
     "name": "stdout",
     "output_type": "stream",
     "text": [
      "Train Loss: 1.644860617167752\n",
      "Valid Loss: 0.22462109556155546\n",
      "Epoch 163/199\n"
     ]
    },
    {
     "name": "stderr",
     "output_type": "stream",
     "text": [
      "\r",
      " 82%|████████▏ | 164/200 [4:42:04<1:01:52, 103.13s/it]"
     ]
    },
    {
     "name": "stdout",
     "output_type": "stream",
     "text": [
      "Train Loss: 1.6221306260522943\n",
      "Valid Loss: 0.24349750857124622\n",
      "Epoch 164/199\n"
     ]
    },
    {
     "name": "stderr",
     "output_type": "stream",
     "text": [
      "\r",
      " 82%|████████▎ | 165/200 [4:43:47<1:00:09, 103.12s/it]"
     ]
    },
    {
     "name": "stdout",
     "output_type": "stream",
     "text": [
      "Train Loss: 1.5986340791135205\n",
      "Valid Loss: 0.2925146762281656\n",
      "Epoch 165/199\n"
     ]
    },
    {
     "name": "stderr",
     "output_type": "stream",
     "text": [
      "\r",
      " 83%|████████▎ | 166/200 [4:45:31<58:26, 103.12s/it]  "
     ]
    },
    {
     "name": "stdout",
     "output_type": "stream",
     "text": [
      "Train Loss: 1.5735124543545125\n",
      "Valid Loss: 0.35457350433404955\n",
      "Epoch 166/199\n"
     ]
    },
    {
     "name": "stderr",
     "output_type": "stream",
     "text": [
      "\r",
      " 84%|████████▎ | 167/200 [4:47:14<56:43, 103.13s/it]"
     ]
    },
    {
     "name": "stdout",
     "output_type": "stream",
     "text": [
      "Train Loss: 1.5468876816319725\n",
      "Valid Loss: 0.4189889327223812\n",
      "Epoch 167/199\n"
     ]
    },
    {
     "name": "stderr",
     "output_type": "stream",
     "text": [
      "\r",
      " 84%|████████▍ | 168/200 [4:48:57<54:59, 103.12s/it]"
     ]
    },
    {
     "name": "stdout",
     "output_type": "stream",
     "text": [
      "Train Loss: 1.5198032799212693\n",
      "Valid Loss: 0.48371475961591515\n",
      "Epoch 168/199\n"
     ]
    },
    {
     "name": "stderr",
     "output_type": "stream",
     "text": [
      "\r",
      " 84%|████████▍ | 169/200 [4:50:40<53:16, 103.13s/it]"
     ]
    },
    {
     "name": "stdout",
     "output_type": "stream",
     "text": [
      "Train Loss: 1.4937101912240407\n",
      "Valid Loss: 0.5539301386369127\n",
      "Epoch 169/199\n"
     ]
    },
    {
     "name": "stderr",
     "output_type": "stream",
     "text": [
      "\r",
      " 85%|████████▌ | 170/200 [4:52:23<51:33, 103.12s/it]"
     ]
    },
    {
     "name": "stdout",
     "output_type": "stream",
     "text": [
      "Train Loss: 1.4697864080317087\n",
      "Valid Loss: 0.6422574711697442\n",
      "Epoch 170/199\n"
     ]
    },
    {
     "name": "stderr",
     "output_type": "stream",
     "text": [
      "\r",
      " 86%|████████▌ | 171/200 [4:54:06<49:50, 103.12s/it]"
     ]
    },
    {
     "name": "stdout",
     "output_type": "stream",
     "text": [
      "Train Loss: 1.4484082168787609\n",
      "Valid Loss: 0.7693989585552897\n",
      "Epoch 171/199\n"
     ]
    },
    {
     "name": "stderr",
     "output_type": "stream",
     "text": [
      "\r",
      " 86%|████████▌ | 172/200 [4:55:49<48:07, 103.12s/it]"
     ]
    },
    {
     "name": "stdout",
     "output_type": "stream",
     "text": [
      "Train Loss: 1.428600540698454\n",
      "Valid Loss: 0.9600222408771515\n",
      "Epoch 172/199\n"
     ]
    },
    {
     "name": "stderr",
     "output_type": "stream",
     "text": [
      "\r",
      " 86%|████████▋ | 173/200 [4:57:32<46:24, 103.12s/it]"
     ]
    },
    {
     "name": "stdout",
     "output_type": "stream",
     "text": [
      "Train Loss: 1.4079808061809769\n",
      "Valid Loss: 1.229842973606927\n",
      "Epoch 173/199\n"
     ]
    },
    {
     "name": "stderr",
     "output_type": "stream",
     "text": [
      "\r",
      " 87%|████████▋ | 174/200 [4:59:16<44:41, 103.13s/it]"
     ]
    },
    {
     "name": "stdout",
     "output_type": "stream",
     "text": [
      "Train Loss: 1.3877836946746378\n",
      "Valid Loss: 1.573724091053009\n",
      "Epoch 174/199\n"
     ]
    },
    {
     "name": "stderr",
     "output_type": "stream",
     "text": [
      "\r",
      " 88%|████████▊ | 175/200 [5:00:59<42:57, 103.12s/it]"
     ]
    },
    {
     "name": "stdout",
     "output_type": "stream",
     "text": [
      "Train Loss: 1.3654251449422083\n",
      "Valid Loss: 1.9488089510372706\n",
      "Epoch 175/199\n"
     ]
    },
    {
     "name": "stderr",
     "output_type": "stream",
     "text": [
      "\r",
      " 88%|████████▊ | 176/200 [5:02:42<41:15, 103.13s/it]"
     ]
    },
    {
     "name": "stdout",
     "output_type": "stream",
     "text": [
      "Train Loss: 1.3425649179846058\n",
      "Valid Loss: 2.287979551724025\n",
      "Epoch 176/199\n"
     ]
    },
    {
     "name": "stderr",
     "output_type": "stream",
     "text": [
      "\r",
      " 88%|████████▊ | 177/200 [5:04:25<39:31, 103.13s/it]"
     ]
    },
    {
     "name": "stdout",
     "output_type": "stream",
     "text": [
      "Train Loss: 1.3200561000664783\n",
      "Valid Loss: 2.5165647097996304\n",
      "Epoch 177/199\n"
     ]
    },
    {
     "name": "stderr",
     "output_type": "stream",
     "text": [
      "\r",
      " 89%|████████▉ | 178/200 [5:06:08<37:48, 103.12s/it]"
     ]
    },
    {
     "name": "stdout",
     "output_type": "stream",
     "text": [
      "Train Loss: 1.2985587600607205\n",
      "Valid Loss: 2.580359237534659\n",
      "Epoch 178/199\n"
     ]
    },
    {
     "name": "stderr",
     "output_type": "stream",
     "text": [
      "\r",
      " 90%|████████▉ | 179/200 [5:07:51<36:05, 103.12s/it]"
     ]
    },
    {
     "name": "stdout",
     "output_type": "stream",
     "text": [
      "Train Loss: 1.2785094688826242\n",
      "Valid Loss: 2.4655940447534834\n",
      "Epoch 179/199\n"
     ]
    },
    {
     "name": "stderr",
     "output_type": "stream",
     "text": [
      "\r",
      " 90%|█████████ | 180/200 [5:09:34<34:22, 103.12s/it]"
     ]
    },
    {
     "name": "stdout",
     "output_type": "stream",
     "text": [
      "Train Loss: 1.2595185114106138\n",
      "Valid Loss: 2.1947256667273387\n",
      "Epoch 180/199\n"
     ]
    },
    {
     "name": "stderr",
     "output_type": "stream",
     "text": [
      "\r",
      " 90%|█████████ | 181/200 [5:11:17<32:39, 103.12s/it]"
     ]
    },
    {
     "name": "stdout",
     "output_type": "stream",
     "text": [
      "Train Loss: 1.2112099202618933\n",
      "Valid Loss: 1.9361889958381653\n",
      "Epoch 181/199\n"
     ]
    },
    {
     "name": "stderr",
     "output_type": "stream",
     "text": [
      "\r",
      " 91%|█████████ | 182/200 [5:13:00<30:56, 103.12s/it]"
     ]
    },
    {
     "name": "stdout",
     "output_type": "stream",
     "text": [
      "Train Loss: 1.163990744576877\n",
      "Valid Loss: 1.545816570520401\n",
      "Epoch 182/199\n"
     ]
    },
    {
     "name": "stderr",
     "output_type": "stream",
     "text": [
      "\r",
      " 92%|█████████▏| 183/200 [5:14:44<29:12, 103.11s/it]"
     ]
    },
    {
     "name": "stdout",
     "output_type": "stream",
     "text": [
      "Train Loss: 1.1433057955035748\n",
      "Valid Loss: 1.1309747717210226\n",
      "Epoch 183/199\n"
     ]
    },
    {
     "name": "stderr",
     "output_type": "stream",
     "text": [
      "\r",
      " 92%|█████████▏| 184/200 [5:16:27<27:29, 103.12s/it]"
     ]
    },
    {
     "name": "stdout",
     "output_type": "stream",
     "text": [
      "Train Loss: 1.11645841341157\n",
      "Valid Loss: 0.8598631992936134\n",
      "Epoch 184/199\n"
     ]
    },
    {
     "name": "stderr",
     "output_type": "stream",
     "text": [
      "\r",
      " 92%|█████████▎| 185/200 [5:18:10<25:46, 103.11s/it]"
     ]
    },
    {
     "name": "stdout",
     "output_type": "stream",
     "text": [
      "Train Loss: 1.049511545860219\n",
      "Valid Loss: 0.6959415461335864\n",
      "Epoch 185/199\n"
     ]
    },
    {
     "name": "stderr",
     "output_type": "stream",
     "text": [
      "\r",
      " 93%|█████████▎| 186/200 [5:19:53<24:03, 103.12s/it]"
     ]
    },
    {
     "name": "stdout",
     "output_type": "stream",
     "text": [
      "Train Loss: 0.9303038745561648\n",
      "Valid Loss: 0.5161187989371163\n",
      "Epoch 186/199\n"
     ]
    },
    {
     "name": "stderr",
     "output_type": "stream",
     "text": [
      "\r",
      " 94%|█████████▎| 187/200 [5:21:36<22:20, 103.12s/it]"
     ]
    },
    {
     "name": "stdout",
     "output_type": "stream",
     "text": [
      "Train Loss: 0.8229467214751457\n",
      "Valid Loss: 0.4491477209542479\n",
      "Epoch 187/199\n"
     ]
    },
    {
     "name": "stderr",
     "output_type": "stream",
     "text": [
      "\r",
      " 94%|█████████▍| 188/200 [5:23:19<20:37, 103.12s/it]"
     ]
    },
    {
     "name": "stdout",
     "output_type": "stream",
     "text": [
      "Train Loss: 0.7071877949981987\n",
      "Valid Loss: 0.32745135815015863\n",
      "Epoch 188/199\n"
     ]
    },
    {
     "name": "stderr",
     "output_type": "stream",
     "text": [
      "\r",
      " 94%|█████████▍| 189/200 [5:25:02<18:54, 103.12s/it]"
     ]
    },
    {
     "name": "stdout",
     "output_type": "stream",
     "text": [
      "Train Loss: 0.5928207965542522\n",
      "Valid Loss: 0.35414018641625133\n",
      "Epoch 189/199\n"
     ]
    },
    {
     "name": "stderr",
     "output_type": "stream",
     "text": [
      "\r",
      " 95%|█████████▌| 190/200 [5:26:45<17:11, 103.13s/it]"
     ]
    },
    {
     "name": "stdout",
     "output_type": "stream",
     "text": [
      "Train Loss: 0.42559137004982506\n",
      "Valid Loss: 0.3156507430332048\n",
      "Epoch 190/199\n"
     ]
    },
    {
     "name": "stderr",
     "output_type": "stream",
     "text": [
      "\r",
      " 96%|█████████▌| 191/200 [5:28:29<15:28, 103.12s/it]"
     ]
    },
    {
     "name": "stdout",
     "output_type": "stream",
     "text": [
      "Train Loss: 0.2722865570169891\n",
      "Valid Loss: 0.2896012174231665\n",
      "Epoch 191/199\n"
     ]
    },
    {
     "name": "stderr",
     "output_type": "stream",
     "text": [
      "\r",
      " 96%|█████████▌| 192/200 [5:30:12<13:45, 103.13s/it]"
     ]
    },
    {
     "name": "stdout",
     "output_type": "stream",
     "text": [
      "Train Loss: 0.16871352254377606\n",
      "Valid Loss: 0.2561179090823446\n",
      "Epoch 192/199\n"
     ]
    },
    {
     "name": "stderr",
     "output_type": "stream",
     "text": [
      "\r",
      " 96%|█████████▋| 193/200 [5:31:55<12:01, 103.12s/it]"
     ]
    },
    {
     "name": "stdout",
     "output_type": "stream",
     "text": [
      "Train Loss: 0.11404163269036384\n",
      "Valid Loss: 0.16350737001214707\n",
      "Epoch 193/199\n"
     ]
    },
    {
     "name": "stderr",
     "output_type": "stream",
     "text": [
      "\r",
      " 97%|█████████▋| 194/200 [5:33:38<10:18, 103.13s/it]"
     ]
    },
    {
     "name": "stdout",
     "output_type": "stream",
     "text": [
      "Train Loss: 0.07970024878500578\n",
      "Valid Loss: 0.11272076198032924\n",
      "Epoch 194/199\n"
     ]
    },
    {
     "name": "stderr",
     "output_type": "stream",
     "text": [
      "\r",
      " 98%|█████████▊| 195/200 [5:35:21<08:35, 103.12s/it]"
     ]
    },
    {
     "name": "stdout",
     "output_type": "stream",
     "text": [
      "Train Loss: 0.06372613615491894\n",
      "Valid Loss: 0.06333379819989204\n",
      "Epoch 195/199\n"
     ]
    },
    {
     "name": "stderr",
     "output_type": "stream",
     "text": [
      "\r",
      " 98%|█████████▊| 196/200 [5:37:04<06:52, 103.12s/it]"
     ]
    },
    {
     "name": "stdout",
     "output_type": "stream",
     "text": [
      "Train Loss: 0.05454469206849601\n",
      "Valid Loss: 0.020701553406459943\n",
      "Epoch 196/199\n"
     ]
    },
    {
     "name": "stderr",
     "output_type": "stream",
     "text": [
      "\r",
      " 98%|█████████▊| 197/200 [5:38:47<05:09, 103.13s/it]"
     ]
    },
    {
     "name": "stdout",
     "output_type": "stream",
     "text": [
      "Train Loss: 0.04778523652187319\n",
      "Valid Loss: 0.0030758562892775182\n",
      "Epoch 197/199\n"
     ]
    },
    {
     "name": "stderr",
     "output_type": "stream",
     "text": [
      "\r",
      " 99%|█████████▉| 198/200 [5:40:30<03:26, 103.12s/it]"
     ]
    },
    {
     "name": "stdout",
     "output_type": "stream",
     "text": [
      "Train Loss: 0.04355615115248525\n",
      "Valid Loss: 0.0047670468505072805\n",
      "Epoch 198/199\n"
     ]
    },
    {
     "name": "stderr",
     "output_type": "stream",
     "text": [
      "\r",
      "100%|█████████▉| 199/200 [5:42:14<01:43, 103.13s/it]"
     ]
    },
    {
     "name": "stdout",
     "output_type": "stream",
     "text": [
      "Train Loss: 0.04100482397556627\n",
      "Valid Loss: 0.003755886128471632\n",
      "Epoch 199/199\n"
     ]
    },
    {
     "name": "stderr",
     "output_type": "stream",
     "text": [
      "100%|██████████| 200/200 [5:43:57<00:00, 103.19s/it]"
     ]
    },
    {
     "name": "stdout",
     "output_type": "stream",
     "text": [
      "Train Loss: 0.0397369111462515\n",
      "Valid Loss: 0.0036721592769026756\n"
     ]
    },
    {
     "name": "stderr",
     "output_type": "stream",
     "text": [
      "\n"
     ]
    }
   ],
   "source": [
    "losses = train_model(model, dataloaders, optim, sched, criterion, device, epochs)"
   ]
  },
  {
   "cell_type": "code",
   "execution_count": 15,
   "metadata": {},
   "outputs": [],
   "source": [
    "train_values = train['stand_value'].values.astype(np.float32).flatten()\n",
    "valid_values = valid['stand_value'].values.astype(np.float32).flatten()\n",
    "prod_values  = prod['stand_value'].values.astype(np.float32).flatten()"
   ]
  },
  {
   "cell_type": "markdown",
   "metadata": {},
   "source": [
    "# Evaluation mode"
   ]
  },
  {
   "cell_type": "code",
   "execution_count": 16,
   "metadata": {},
   "outputs": [
    {
     "data": {
      "text/plain": [
       "LSTMModel(\n",
       "  (lstm): LSTM(1, 4096)\n",
       "  (linear): Linear(in_features=4096, out_features=1, bias=True)\n",
       ")"
      ]
     },
     "execution_count": 16,
     "metadata": {},
     "output_type": "execute_result"
    }
   ],
   "source": [
    "model.eval()"
   ]
  },
  {
   "cell_type": "code",
   "execution_count": 17,
   "metadata": {},
   "outputs": [],
   "source": [
    "if torch.cuda.is_available():\n",
    "   model.cuda()"
   ]
  },
  {
   "cell_type": "code",
   "execution_count": 18,
   "metadata": {},
   "outputs": [],
   "source": [
    "with torch.no_grad():\n",
    "    res_train = model(torch.tensor(train_values).to(device))\n",
    "res_train = res_train.cpu()"
   ]
  },
  {
   "cell_type": "code",
   "execution_count": 19,
   "metadata": {},
   "outputs": [],
   "source": [
    "with torch.no_grad():\n",
    "    res_valid = model(torch.tensor(valid_values).to(device))\n",
    "res_valid = res_valid.cpu()"
   ]
  },
  {
   "cell_type": "code",
   "execution_count": 20,
   "metadata": {},
   "outputs": [],
   "source": [
    "with torch.no_grad():\n",
    "    res_prod = model(torch.tensor(prod_values).to(device))\n",
    "res_prod = res_prod.cpu()"
   ]
  },
  {
   "cell_type": "markdown",
   "metadata": {},
   "source": [
    "## Errors Calculation"
   ]
  },
  {
   "cell_type": "code",
   "execution_count": 21,
   "metadata": {},
   "outputs": [],
   "source": [
    "def calculate_prediction_errors(target, predicted, criterion):\n",
    "    reconstruction_errors = []\n",
    "    for t, p in zip(target, predicted):\n",
    "        reconstruction_errors = np.append(\n",
    "            reconstruction_errors, \n",
    "            criterion(p, t).cpu().numpy().flatten()\n",
    "        )\n",
    "    return reconstruction_errors\n",
    "\n",
    "train_pred_errors = calculate_prediction_errors(\n",
    "    res_train.view(-1), torch.tensor(train_values).view(-1), criterion\n",
    ")\n",
    "valid_pred_errors = calculate_prediction_errors(\n",
    "    res_valid.view(-1), torch.tensor(valid_values).view(-1), criterion\n",
    ")\n",
    "\n",
    "\n",
    "\n",
    "prod_pred_errors = calculate_prediction_errors(\n",
    "    res_prod.view(-1), torch.tensor(prod_values).view(-1), criterion\n",
    ")"
   ]
  },
  {
   "cell_type": "markdown",
   "metadata": {},
   "source": [
    "## Dynamic Threshold"
   ]
  },
  {
   "cell_type": "code",
   "execution_count": 22,
   "metadata": {},
   "outputs": [],
   "source": [
    "window = 55\n",
    "std_coef= 7\n",
    "\n",
    "train_pred_errors_windowed = pd.Series(train_pred_errors).rolling(window=window, min_periods=1)\n",
    "train_dynamic_threshold = train_pred_errors_windowed.mean() + std_coef * train_pred_errors_windowed.std()\n",
    "\n",
    "valid_pred_errors_windowed = pd.Series(valid_pred_errors).rolling(window=window, min_periods=1)\n",
    "valid_dynamic_threshold = valid_pred_errors_windowed.mean() + std_coef * valid_pred_errors_windowed.std()\n",
    "\n",
    "\n",
    "prod_pred_errors_windowed = pd.Series(prod_pred_errors).rolling(window=window, min_periods=1)\n",
    "prod_dynamic_threshold = prod_pred_errors_windowed.mean() + std_coef * prod_pred_errors_windowed.std()"
   ]
  },
  {
   "cell_type": "markdown",
   "metadata": {},
   "source": [
    "## Metric Calculation"
   ]
  },
  {
   "cell_type": "code",
   "execution_count": 23,
   "metadata": {},
   "outputs": [],
   "source": [
    "from sklearn.metrics import precision_recall_fscore_support\n",
    "\n",
    "def calculate_metrics(\n",
    "    ground_truth: pd.DataFrame, anomalies_idxs: list\n",
    "    ):\n",
    "    predictions = pd.DataFrame(\n",
    "        index=range(len(ground_truth)), \n",
    "        columns=['anomaly_predicted']\n",
    "    )\n",
    "    predictions['anomaly_predicted'] = 0\n",
    "    predictions.iloc[anomalies_idxs] = 1\n",
    "    \n",
    "    # Calculation of the confusion matrix can be done using pandas\n",
    "    confusion_matrix = pd.crosstab(\n",
    "        ground_truth.loc[:, 'anomaly_label'],\n",
    "        predictions['anomaly_predicted'], \n",
    "        margins=True\n",
    "    )\n",
    "    precision, recall, f1, _ = precision_recall_fscore_support(\n",
    "        ground_truth.loc[:, 'anomaly_label'],\n",
    "        predictions['anomaly_predicted'], \n",
    "        beta=2., \n",
    "        average='binary'\n",
    "    )\n",
    "    return confusion_matrix, precision, recall, f1"
   ]
  },
  {
   "cell_type": "markdown",
   "metadata": {},
   "source": [
    "## Anomaly Detection"
   ]
  },
  {
   "cell_type": "code",
   "execution_count": 24,
   "metadata": {},
   "outputs": [],
   "source": [
    "from typing import Union\n",
    "def detect_anomalies( result: torch.Tensor, dataset: CPUDataset, threshold: Union[float, pd.Series], n_factors: int = 0):\n",
    "    anomalies_idxs = []\n",
    "    for i in range(len(dataset)):\n",
    "        if type(threshold) == pd.Series:\n",
    "            is_anomaly = (criterion(result[i], dataset[i]) > threshold[i])\n",
    "        else:\n",
    "            is_anomaly = (criterion(result[i], dataset[i]) > threshold)\n",
    "        if is_anomaly:\n",
    "            anomalies_idxs.append(i + n_factors)\n",
    "    return anomalies_idxs"
   ]
  },
  {
   "cell_type": "code",
   "execution_count": 25,
   "metadata": {},
   "outputs": [
    {
     "name": "stderr",
     "output_type": "stream",
     "text": [
      "/home/peter/anaconda3/envs/otumba/lib/python3.6/site-packages/torch/nn/modules/loss.py:446: UserWarning:\n",
      "\n",
      "Using a target size (torch.Size([])) that is different to the input size (torch.Size([1])). This will likely lead to incorrect results due to broadcasting. Please ensure they have the same size.\n",
      "\n"
     ]
    }
   ],
   "source": [
    "train_anomalies_idxs = detect_anomalies(res_train, torch.tensor(train_values), train_dynamic_threshold)\n",
    "valid_anomalies_idxs = detect_anomalies(res_valid, torch.tensor(valid_values), valid_dynamic_threshold)\n",
    "\n",
    "prod_anomalies_idxs  = detect_anomalies(res_prod, torch.tensor(prod_values), prod_dynamic_threshold)\n",
    "\n"
   ]
  },
  {
   "cell_type": "code",
   "execution_count": 26,
   "metadata": {},
   "outputs": [
    {
     "data": {
      "text/plain": [
       "989"
      ]
     },
     "execution_count": 26,
     "metadata": {},
     "output_type": "execute_result"
    }
   ],
   "source": [
    "train_anomalies_idxs \n",
    "len(train_anomalies_idxs)\n"
   ]
  },
  {
   "cell_type": "code",
   "execution_count": 27,
   "metadata": {},
   "outputs": [
    {
     "data": {
      "text/plain": [
       "5"
      ]
     },
     "execution_count": 27,
     "metadata": {},
     "output_type": "execute_result"
    }
   ],
   "source": [
    "valid_anomalies_idxs\n",
    "len(valid_anomalies_idxs)"
   ]
  },
  {
   "cell_type": "code",
   "execution_count": 28,
   "metadata": {},
   "outputs": [
    {
     "data": {
      "text/plain": [
       "0"
      ]
     },
     "execution_count": 28,
     "metadata": {},
     "output_type": "execute_result"
    }
   ],
   "source": [
    "prod_anomalies_idxs\n",
    "len(prod_anomalies_idxs)"
   ]
  },
  {
   "cell_type": "code",
   "execution_count": 29,
   "metadata": {},
   "outputs": [
    {
     "data": {
      "image/png": "[encoded data removed]",
      "text/plain": [
       "<Figure size 1296x720 with 1 Axes>"
      ]
     },
     "metadata": {
      "needs_background": "light"
     },
     "output_type": "display_data"
    }
   ],
   "source": [
    "import matplotlib.pyplot as plt\n",
    "f = plt.figure()\n",
    "f.set_figwidth(18)\n",
    "f.set_figheight(10)\n",
    "plt.plot(res_train, color = 'red', label = 'Prediction Training LSTM')\n",
    "plt.plot(res_valid, color = 'blue', label = 'Prediction Test LSTM')\n",
    "plt.plot(res_prod, color = 'cyan', label = 'Prediction Prod LSTM')\n",
    "plt.title(\"memory_working_bytes\")\n",
    "plt.xlabel(\"Fecha\")\n",
    "plt.ylabel(\"Mem\")\n",
    "plt.legend()\n",
    "plt.show()"
   ]
  },
  {
   "cell_type": "code",
   "execution_count": 30,
   "metadata": {},
   "outputs": [],
   "source": [
    "torch.save(model, \"scen02-mem-210907-20-06-4096-ep200\")"
   ]
  },
  {
   "cell_type": "markdown",
   "metadata": {},
   "source": [
    "## "
   ]
  }
 ],
 "metadata": {
  "kernelspec": {
   "display_name": "otumba",
   "language": "python",
   "name": "otumba"
  },
  "language_info": {
   "codemirror_mode": {
    "name": "ipython",
    "version": 3
   },
   "file_extension": ".py",
   "mimetype": "text/x-python",
   "name": "python",
   "nbconvert_exporter": "python",
   "pygments_lexer": "ipython3",
   "version": "3.6.13"
  }
 },
 "nbformat": 4,
 "nbformat_minor": 2
}
