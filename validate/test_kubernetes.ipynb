{
 "cells": [
  {
   "cell_type": "markdown",
   "metadata": {},
   "source": [
    "Check that your minikube is started or execute before this at command line:\n",
    "\n",
    "minikube start  "
   ]
  },
  {
   "cell_type": "code",
   "execution_count": 2,
   "metadata": {},
   "outputs": [],
   "source": [
    "from kubernetes import client,config"
   ]
  },
  {
   "cell_type": "code",
   "execution_count": 3,
   "metadata": {},
   "outputs": [],
   "source": [
    "config.load_kube_config()"
   ]
  },
  {
   "cell_type": "markdown",
   "metadata": {},
   "source": [
    "## List Pods with their IPS"
   ]
  },
  {
   "cell_type": "code",
   "execution_count": 4,
   "metadata": {},
   "outputs": [
    {
     "name": "stdout",
     "output_type": "stream",
     "text": [
      "Listing pods with their IPs:\n",
      "172.17.0.4\tkube-system\tcoredns-74ff55c5b-4gbrs\n",
      "192.168.49.2\tkube-system\tetcd-minikube\n",
      "192.168.49.2\tkube-system\tkube-apiserver-minikube\n",
      "192.168.49.2\tkube-system\tkube-controller-manager-minikube\n",
      "192.168.49.2\tkube-system\tkube-proxy-6c99b\n",
      "192.168.49.2\tkube-system\tkube-scheduler-minikube\n",
      "192.168.49.2\tkube-system\tstorage-provisioner\n",
      "172.17.0.3\tkubernetes-dashboard\tdashboard-metrics-scraper-f6647bd8c-l4zf5\n",
      "172.17.0.2\tkubernetes-dashboard\tkubernetes-dashboard-968bcb79-kznfq\n",
      "172.17.0.5\tmonitoring\tprometheus-deployment-87cc8fb88-h5frj\n"
     ]
    }
   ],
   "source": [
    "v1 = client.CoreV1Api()\n",
    "print(\"Listing pods with their IPs:\")\n",
    "ret = v1.list_pod_for_all_namespaces(watch=False)\n",
    "for i in ret.items:\n",
    "    print(\"%s\\t%s\\t%s\" %\n",
    "          (i.status.pod_ip, i.metadata.namespace, i.metadata.name))"
   ]
  }
 ],
 "metadata": {
  "kernelspec": {
   "display_name": "otumba",
   "language": "python",
   "name": "otumba"
  },
  "language_info": {
   "codemirror_mode": {
    "name": "ipython",
    "version": 3
   },
   "file_extension": ".py",
   "mimetype": "text/x-python",
   "name": "python",
   "nbconvert_exporter": "python",
   "pygments_lexer": "ipython3",
   "version": "3.6.13"
  }
 },
 "nbformat": 4,
 "nbformat_minor": 4
}
