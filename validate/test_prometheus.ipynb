{
 "cells": [
  {
   "cell_type": "markdown",
   "id": "b927376a",
   "metadata": {},
   "source": [
    "Check that your minikube is started or execute on command line:\n",
    "    \n",
    "    minikube start"
   ]
  },
  {
   "cell_type": "markdown",
   "id": "46577c7c",
   "metadata": {},
   "source": [
    "Check that your minikube ip is ok or check on command line\n",
    "\n",
    "    minikube ip\n",
    "    \n",
    "    \n",
    "    \n",
    "    We can check ip:port with:\n",
    "    \n",
    "    minikube service -n monitoring prometheus-service"
   ]
  },
  {
   "cell_type": "code",
   "execution_count": 3,
   "id": "24771837",
   "metadata": {},
   "outputs": [],
   "source": [
    "from prometheus_api_client import PrometheusConnect"
   ]
  },
  {
   "cell_type": "code",
   "execution_count": 4,
   "id": "3d3b85a4",
   "metadata": {},
   "outputs": [],
   "source": [
    "prometheus_server = \"http://192.168.49.2:30000/\""
   ]
  },
  {
   "cell_type": "code",
   "execution_count": 5,
   "id": "335e30c7",
   "metadata": {},
   "outputs": [],
   "source": [
    "prom = PrometheusConnect(url=prometheus_server, disable_ssl=True)"
   ]
  },
  {
   "cell_type": "code",
   "execution_count": 6,
   "id": "79ff1faf",
   "metadata": {},
   "outputs": [],
   "source": [
    "strQuery = 'container_cpu_cfs_periods_total'"
   ]
  },
  {
   "cell_type": "code",
   "execution_count": 7,
   "id": "a666d1a6",
   "metadata": {},
   "outputs": [],
   "source": [
    "result = prom.custom_query(query=strQuery)"
   ]
  },
  {
   "cell_type": "code",
   "execution_count": 8,
   "id": "16be1017",
   "metadata": {},
   "outputs": [
    {
     "name": "stdout",
     "output_type": "stream",
     "text": [
      "[{'metric': {'__name__': 'container_cpu_cfs_periods_total', 'beta_kubernetes_io_arch': 'amd64', 'beta_kubernetes_io_os': 'linux', 'container': 'prometheus', 'id': '/docker/df5aa0002fa5bd6488c26c9507712213c3edddc1b67a2f8f255e30b3e41e335b/kubepods/burstable/podc1a7721e-3bb4-45c2-8382-aca5bc878ca4/49b0bd06b5e59cb2faf7b7b1a4a21c90245d5809404551cdc5fe733001e44667', 'image': 'prom/prometheus@sha256:5c030438c1e4c86bdc7428f24ee1ad18476eefdfa8a7f76a8ccc9b74f1970d81', 'instance': 'minikube', 'job': 'k8-cadvisor', 'kubernetes_io_arch': 'amd64', 'kubernetes_io_hostname': 'minikube', 'kubernetes_io_os': 'linux', 'minikube_k8s_io_commit': '76d74191d82c47883dc7e1319ef7cebd3e00ee11', 'minikube_k8s_io_name': 'minikube', 'minikube_k8s_io_updated_at': '2021_07_02T11_44_33_0700', 'minikube_k8s_io_version': 'v1.21.0', 'name': 'k8s_prometheus_prometheus-deployment-87cc8fb88-h5frj_monitoring_c1a7721e-3bb4-45c2-8382-aca5bc878ca4_0', 'namespace': 'monitoring', 'pod': 'prometheus-deployment-87cc8fb88-h5frj'}, 'value': [1626300061.151, '9128']}, {'metric': {'__name__': 'container_cpu_cfs_periods_total', 'beta_kubernetes_io_arch': 'amd64', 'beta_kubernetes_io_os': 'linux', 'container': 'prometheus', 'id': '/kubepods/burstable/podc1a7721e-3bb4-45c2-8382-aca5bc878ca4/49b0bd06b5e59cb2faf7b7b1a4a21c90245d5809404551cdc5fe733001e44667', 'image': 'prom/prometheus@sha256:5c030438c1e4c86bdc7428f24ee1ad18476eefdfa8a7f76a8ccc9b74f1970d81', 'instance': 'minikube', 'job': 'k8-cadvisor', 'kubernetes_io_arch': 'amd64', 'kubernetes_io_hostname': 'minikube', 'kubernetes_io_os': 'linux', 'minikube_k8s_io_commit': '76d74191d82c47883dc7e1319ef7cebd3e00ee11', 'minikube_k8s_io_name': 'minikube', 'minikube_k8s_io_updated_at': '2021_07_02T11_44_33_0700', 'minikube_k8s_io_version': 'v1.21.0', 'name': 'k8s_prometheus_prometheus-deployment-87cc8fb88-h5frj_monitoring_c1a7721e-3bb4-45c2-8382-aca5bc878ca4_0', 'namespace': 'monitoring', 'pod': 'prometheus-deployment-87cc8fb88-h5frj'}, 'value': [1626300061.151, '9141']}, {'metric': {'__name__': 'container_cpu_cfs_periods_total', 'beta_kubernetes_io_arch': 'amd64', 'beta_kubernetes_io_os': 'linux', 'id': '/', 'instance': 'minikube', 'job': 'k8-cadvisor', 'kubernetes_io_arch': 'amd64', 'kubernetes_io_hostname': 'minikube', 'kubernetes_io_os': 'linux', 'minikube_k8s_io_commit': '76d74191d82c47883dc7e1319ef7cebd3e00ee11', 'minikube_k8s_io_name': 'minikube', 'minikube_k8s_io_updated_at': '2021_07_02T11_44_33_0700', 'minikube_k8s_io_version': 'v1.21.0'}, 'value': [1626300061.151, '45208']}, {'metric': {'__name__': 'container_cpu_cfs_periods_total', 'beta_kubernetes_io_arch': 'amd64', 'beta_kubernetes_io_os': 'linux', 'id': '/kubepods/burstable/podc1a7721e-3bb4-45c2-8382-aca5bc878ca4', 'instance': 'minikube', 'job': 'k8-cadvisor', 'kubernetes_io_arch': 'amd64', 'kubernetes_io_hostname': 'minikube', 'kubernetes_io_os': 'linux', 'minikube_k8s_io_commit': '76d74191d82c47883dc7e1319ef7cebd3e00ee11', 'minikube_k8s_io_name': 'minikube', 'minikube_k8s_io_updated_at': '2021_07_02T11_44_33_0700', 'minikube_k8s_io_version': 'v1.21.0', 'namespace': 'monitoring', 'pod': 'prometheus-deployment-87cc8fb88-h5frj'}, 'value': [1626300061.151, '9134']}]\n"
     ]
    }
   ],
   "source": [
    "print(result)"
   ]
  }
 ],
 "metadata": {
  "kernelspec": {
   "display_name": "otumba",
   "language": "python",
   "name": "otumba"
  },
  "language_info": {
   "codemirror_mode": {
    "name": "ipython",
    "version": 3
   },
   "file_extension": ".py",
   "mimetype": "text/x-python",
   "name": "python",
   "nbconvert_exporter": "python",
   "pygments_lexer": "ipython3",
   "version": "3.6.13"
  }
 },
 "nbformat": 4,
 "nbformat_minor": 5
}
