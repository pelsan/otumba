{
 "cells": [
  {
   "cell_type": "markdown",
   "metadata": {},
   "source": [
    "Check torch.cuda.device_count()  return 1 or more cude devices\n"
   ]
  },
  {
   "cell_type": "code",
   "execution_count": 1,
   "metadata": {},
   "outputs": [],
   "source": [
    "import torch\n",
    "import torchvision"
   ]
  },
  {
   "cell_type": "code",
   "execution_count": 2,
   "metadata": {},
   "outputs": [
    {
     "data": {
      "text/plain": [
       "1"
      ]
     },
     "execution_count": 2,
     "metadata": {},
     "output_type": "execute_result"
    }
   ],
   "source": [
    "torch.cuda.device_count()"
   ]
  },
  {
   "cell_type": "code",
   "execution_count": 3,
   "metadata": {},
   "outputs": [
    {
     "name": "stdout",
     "output_type": "stream",
     "text": [
      "1.7.1\n"
     ]
    }
   ],
   "source": [
    "print(torch.__version__)"
   ]
  },
  {
   "cell_type": "code",
   "execution_count": 4,
   "metadata": {},
   "outputs": [
    {
     "data": {
      "text/plain": [
       "8005"
      ]
     },
     "execution_count": 4,
     "metadata": {},
     "output_type": "execute_result"
    }
   ],
   "source": [
    "torch.backends.cudnn.version()"
   ]
  },
  {
   "cell_type": "code",
   "execution_count": 5,
   "metadata": {},
   "outputs": [
    {
     "data": {
      "text/plain": [
       "0"
      ]
     },
     "execution_count": 5,
     "metadata": {},
     "output_type": "execute_result"
    }
   ],
   "source": [
    "torch.cuda.current_device()"
   ]
  },
  {
   "cell_type": "code",
   "execution_count": 6,
   "metadata": {},
   "outputs": [
    {
     "data": {
      "text/plain": [
       "'NVIDIA GeForce RTX 3090'"
      ]
     },
     "execution_count": 6,
     "metadata": {},
     "output_type": "execute_result"
    }
   ],
   "source": [
    "torch.cuda.get_device_name(0)"
   ]
  },
  {
   "cell_type": "code",
   "execution_count": 7,
   "metadata": {},
   "outputs": [
    {
     "data": {
      "text/plain": [
       "True"
      ]
     },
     "execution_count": 7,
     "metadata": {},
     "output_type": "execute_result"
    }
   ],
   "source": [
    "torch.cuda.is_available()"
   ]
  },
  {
   "cell_type": "code",
   "execution_count": 8,
   "metadata": {},
   "outputs": [
    {
     "data": {
      "text/plain": [
       "(8, 6)"
      ]
     },
     "execution_count": 8,
     "metadata": {},
     "output_type": "execute_result"
    }
   ],
   "source": [
    "torch.cuda.get_device_capability(0)"
   ]
  },
  {
   "cell_type": "code",
   "execution_count": 9,
   "metadata": {},
   "outputs": [
    {
     "name": "stdout",
     "output_type": "stream",
     "text": [
      "1.7.1\n"
     ]
    }
   ],
   "source": [
    "print(torch.__version__)"
   ]
  },
  {
   "cell_type": "code",
   "execution_count": 10,
   "metadata": {},
   "outputs": [],
   "source": [
    "import sys"
   ]
  },
  {
   "cell_type": "code",
   "execution_count": 11,
   "metadata": {},
   "outputs": [
    {
     "name": "stdout",
     "output_type": "stream",
     "text": [
      "sys.version_info(major=3, minor=6, micro=13, releaselevel='final', serial=0)\n"
     ]
    }
   ],
   "source": [
    "print (sys.version_info)"
   ]
  },
  {
   "cell_type": "markdown",
   "metadata": {},
   "source": [
    "Check packages otumba, kubernetes, torch and prometheus-api-client is listed"
   ]
  },
  {
   "cell_type": "code",
   "execution_count": 12,
   "metadata": {},
   "outputs": [
    {
     "name": "stdout",
     "output_type": "stream",
     "text": [
      "Package               Version\n",
      "--------------------- -------------------\n",
      "backcall              0.2.0\n",
      "cachetools            4.2.2\n",
      "certifi               2021.5.30\n",
      "charset-normalizer    2.0.1\n",
      "cycler                0.10.0\n",
      "dataclasses           0.8\n",
      "dateparser            1.0.0\n",
      "decorator             4.4.2\n",
      "google-auth           1.32.1\n",
      "idna                  3.2\n",
      "ipykernel             5.3.4\n",
      "ipython               7.16.1\n",
      "ipython-genutils      0.2.0\n",
      "jedi                  0.18.0\n",
      "jupyter-client        6.1.7\n",
      "jupyter-core          4.6.3\n",
      "kiwisolver            1.3.1\n",
      "kubernetes            17.17.0\n",
      "matplotlib            3.3.4\n",
      "mkl-fft               1.3.0\n",
      "mkl-random            1.1.1\n",
      "mkl-service           2.3.0\n",
      "numpy                 1.19.5\n",
      "oauthlib              3.1.1\n",
      "olefile               0.46\n",
      "otumba                0.2.1\n",
      "pandas                1.1.5\n",
      "parso                 0.8.0\n",
      "pexpect               4.8.0\n",
      "pickleshare           0.7.5\n",
      "Pillow                8.3.1\n",
      "pip                   21.1.3\n",
      "prometheus-api-client 0.4.2\n",
      "prompt-toolkit        3.0.8\n",
      "ptyprocess            0.6.0\n",
      "pyasn1                0.4.8\n",
      "pyasn1-modules        0.2.8\n",
      "Pygments              2.7.1\n",
      "pyparsing             2.4.7\n",
      "python-dateutil       2.8.1\n",
      "pytz                  2021.1\n",
      "PyYAML                5.4.1\n",
      "pyzmq                 19.0.2\n",
      "regex                 2021.7.6\n",
      "requests              2.26.0\n",
      "requests-oauthlib     1.3.0\n",
      "rsa                   4.7.2\n",
      "setuptools            52.0.0.post20210125\n",
      "six                   1.15.0\n",
      "torch                 1.7.1\n",
      "torchaudio            0.7.0a0+a853dff\n",
      "torchvision           0.8.2\n",
      "tornado               6.0.4\n",
      "traitlets             4.3.3\n",
      "typing-extensions     3.10.0.0\n",
      "tzlocal               2.1\n",
      "urllib3               1.26.6\n",
      "wcwidth               0.2.5\n",
      "websocket-client      1.1.0\n",
      "wheel                 0.36.2\n",
      "Note: you may need to restart the kernel to use updated packages.\n"
     ]
    }
   ],
   "source": [
    "pip list"
   ]
  },
  {
   "cell_type": "code",
   "execution_count": null,
   "metadata": {},
   "outputs": [],
   "source": []
  }
 ],
 "metadata": {
  "kernelspec": {
   "display_name": "otumba",
   "language": "python",
   "name": "otumba"
  },
  "language_info": {
   "codemirror_mode": {
    "name": "ipython",
    "version": 3
   },
   "file_extension": ".py",
   "mimetype": "text/x-python",
   "name": "python",
   "nbconvert_exporter": "python",
   "pygments_lexer": "ipython3",
   "version": "3.6.13"
  }
 },
 "nbformat": 4,
 "nbformat_minor": 4
}
